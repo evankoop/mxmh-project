{
 "cells": [
  {
   "cell_type": "code",
   "execution_count": 256,
   "id": "3768bef7",
   "metadata": {},
   "outputs": [],
   "source": [
    "import pandas as pd\n",
    "import numpy as np\n",
    "import matplotlib.pyplot as plt\n",
    "%matplotlib inline\n",
    "import seaborn as sns\n",
    "sns.set()"
   ]
  },
  {
   "cell_type": "code",
   "execution_count": 2,
   "id": "d965a995",
   "metadata": {},
   "outputs": [],
   "source": [
    "df = pd.read_csv('mxmh_survey_results.csv')"
   ]
  },
  {
   "cell_type": "code",
   "execution_count": 3,
   "id": "a99b1829",
   "metadata": {},
   "outputs": [
    {
     "data": {
      "text/html": [
       "<div>\n",
       "<style scoped>\n",
       "    .dataframe tbody tr th:only-of-type {\n",
       "        vertical-align: middle;\n",
       "    }\n",
       "\n",
       "    .dataframe tbody tr th {\n",
       "        vertical-align: top;\n",
       "    }\n",
       "\n",
       "    .dataframe thead th {\n",
       "        text-align: right;\n",
       "    }\n",
       "</style>\n",
       "<table border=\"1\" class=\"dataframe\">\n",
       "  <thead>\n",
       "    <tr style=\"text-align: right;\">\n",
       "      <th></th>\n",
       "      <th>Timestamp</th>\n",
       "      <th>Age</th>\n",
       "      <th>Primary streaming service</th>\n",
       "      <th>Hours per day</th>\n",
       "      <th>While working</th>\n",
       "      <th>Instrumentalist</th>\n",
       "      <th>Composer</th>\n",
       "      <th>Fav genre</th>\n",
       "      <th>Exploratory</th>\n",
       "      <th>Foreign languages</th>\n",
       "      <th>...</th>\n",
       "      <th>Frequency [R&amp;B]</th>\n",
       "      <th>Frequency [Rap]</th>\n",
       "      <th>Frequency [Rock]</th>\n",
       "      <th>Frequency [Video game music]</th>\n",
       "      <th>Anxiety</th>\n",
       "      <th>Depression</th>\n",
       "      <th>Insomnia</th>\n",
       "      <th>OCD</th>\n",
       "      <th>Music effects</th>\n",
       "      <th>Permissions</th>\n",
       "    </tr>\n",
       "  </thead>\n",
       "  <tbody>\n",
       "    <tr>\n",
       "      <th>0</th>\n",
       "      <td>8/27/2022 19:29:02</td>\n",
       "      <td>18.0</td>\n",
       "      <td>Spotify</td>\n",
       "      <td>3.0</td>\n",
       "      <td>Yes</td>\n",
       "      <td>Yes</td>\n",
       "      <td>Yes</td>\n",
       "      <td>Latin</td>\n",
       "      <td>Yes</td>\n",
       "      <td>Yes</td>\n",
       "      <td>...</td>\n",
       "      <td>Sometimes</td>\n",
       "      <td>Very frequently</td>\n",
       "      <td>Never</td>\n",
       "      <td>Sometimes</td>\n",
       "      <td>3.0</td>\n",
       "      <td>0.0</td>\n",
       "      <td>1.0</td>\n",
       "      <td>0.0</td>\n",
       "      <td>NaN</td>\n",
       "      <td>I understand.</td>\n",
       "    </tr>\n",
       "    <tr>\n",
       "      <th>1</th>\n",
       "      <td>8/27/2022 19:57:31</td>\n",
       "      <td>63.0</td>\n",
       "      <td>Pandora</td>\n",
       "      <td>1.5</td>\n",
       "      <td>Yes</td>\n",
       "      <td>No</td>\n",
       "      <td>No</td>\n",
       "      <td>Rock</td>\n",
       "      <td>Yes</td>\n",
       "      <td>No</td>\n",
       "      <td>...</td>\n",
       "      <td>Sometimes</td>\n",
       "      <td>Rarely</td>\n",
       "      <td>Very frequently</td>\n",
       "      <td>Rarely</td>\n",
       "      <td>7.0</td>\n",
       "      <td>2.0</td>\n",
       "      <td>2.0</td>\n",
       "      <td>1.0</td>\n",
       "      <td>NaN</td>\n",
       "      <td>I understand.</td>\n",
       "    </tr>\n",
       "    <tr>\n",
       "      <th>2</th>\n",
       "      <td>8/27/2022 21:28:18</td>\n",
       "      <td>18.0</td>\n",
       "      <td>Spotify</td>\n",
       "      <td>4.0</td>\n",
       "      <td>No</td>\n",
       "      <td>No</td>\n",
       "      <td>No</td>\n",
       "      <td>Video game music</td>\n",
       "      <td>No</td>\n",
       "      <td>Yes</td>\n",
       "      <td>...</td>\n",
       "      <td>Never</td>\n",
       "      <td>Rarely</td>\n",
       "      <td>Rarely</td>\n",
       "      <td>Very frequently</td>\n",
       "      <td>7.0</td>\n",
       "      <td>7.0</td>\n",
       "      <td>10.0</td>\n",
       "      <td>2.0</td>\n",
       "      <td>No effect</td>\n",
       "      <td>I understand.</td>\n",
       "    </tr>\n",
       "    <tr>\n",
       "      <th>3</th>\n",
       "      <td>8/27/2022 21:40:40</td>\n",
       "      <td>61.0</td>\n",
       "      <td>YouTube Music</td>\n",
       "      <td>2.5</td>\n",
       "      <td>Yes</td>\n",
       "      <td>No</td>\n",
       "      <td>Yes</td>\n",
       "      <td>Jazz</td>\n",
       "      <td>Yes</td>\n",
       "      <td>Yes</td>\n",
       "      <td>...</td>\n",
       "      <td>Sometimes</td>\n",
       "      <td>Never</td>\n",
       "      <td>Never</td>\n",
       "      <td>Never</td>\n",
       "      <td>9.0</td>\n",
       "      <td>7.0</td>\n",
       "      <td>3.0</td>\n",
       "      <td>3.0</td>\n",
       "      <td>Improve</td>\n",
       "      <td>I understand.</td>\n",
       "    </tr>\n",
       "    <tr>\n",
       "      <th>4</th>\n",
       "      <td>8/27/2022 21:54:47</td>\n",
       "      <td>18.0</td>\n",
       "      <td>Spotify</td>\n",
       "      <td>4.0</td>\n",
       "      <td>Yes</td>\n",
       "      <td>No</td>\n",
       "      <td>No</td>\n",
       "      <td>R&amp;B</td>\n",
       "      <td>Yes</td>\n",
       "      <td>No</td>\n",
       "      <td>...</td>\n",
       "      <td>Very frequently</td>\n",
       "      <td>Very frequently</td>\n",
       "      <td>Never</td>\n",
       "      <td>Rarely</td>\n",
       "      <td>7.0</td>\n",
       "      <td>2.0</td>\n",
       "      <td>5.0</td>\n",
       "      <td>9.0</td>\n",
       "      <td>Improve</td>\n",
       "      <td>I understand.</td>\n",
       "    </tr>\n",
       "  </tbody>\n",
       "</table>\n",
       "<p>5 rows × 33 columns</p>\n",
       "</div>"
      ],
      "text/plain": [
       "            Timestamp   Age Primary streaming service  Hours per day  \\\n",
       "0  8/27/2022 19:29:02  18.0                   Spotify            3.0   \n",
       "1  8/27/2022 19:57:31  63.0                   Pandora            1.5   \n",
       "2  8/27/2022 21:28:18  18.0                   Spotify            4.0   \n",
       "3  8/27/2022 21:40:40  61.0             YouTube Music            2.5   \n",
       "4  8/27/2022 21:54:47  18.0                   Spotify            4.0   \n",
       "\n",
       "  While working Instrumentalist Composer         Fav genre Exploratory  \\\n",
       "0           Yes             Yes      Yes             Latin         Yes   \n",
       "1           Yes              No       No              Rock         Yes   \n",
       "2            No              No       No  Video game music          No   \n",
       "3           Yes              No      Yes              Jazz         Yes   \n",
       "4           Yes              No       No               R&B         Yes   \n",
       "\n",
       "  Foreign languages  ...  Frequency [R&B]  Frequency [Rap] Frequency [Rock]  \\\n",
       "0               Yes  ...        Sometimes  Very frequently            Never   \n",
       "1                No  ...        Sometimes           Rarely  Very frequently   \n",
       "2               Yes  ...            Never           Rarely           Rarely   \n",
       "3               Yes  ...        Sometimes            Never            Never   \n",
       "4                No  ...  Very frequently  Very frequently            Never   \n",
       "\n",
       "  Frequency [Video game music] Anxiety Depression Insomnia  OCD Music effects  \\\n",
       "0                    Sometimes     3.0        0.0      1.0  0.0           NaN   \n",
       "1                       Rarely     7.0        2.0      2.0  1.0           NaN   \n",
       "2              Very frequently     7.0        7.0     10.0  2.0     No effect   \n",
       "3                        Never     9.0        7.0      3.0  3.0       Improve   \n",
       "4                       Rarely     7.0        2.0      5.0  9.0       Improve   \n",
       "\n",
       "     Permissions  \n",
       "0  I understand.  \n",
       "1  I understand.  \n",
       "2  I understand.  \n",
       "3  I understand.  \n",
       "4  I understand.  \n",
       "\n",
       "[5 rows x 33 columns]"
      ]
     },
     "execution_count": 3,
     "metadata": {},
     "output_type": "execute_result"
    }
   ],
   "source": [
    "df.head()"
   ]
  },
  {
   "cell_type": "code",
   "execution_count": 4,
   "id": "60a48441",
   "metadata": {},
   "outputs": [
    {
     "name": "stdout",
     "output_type": "stream",
     "text": [
      "<class 'pandas.core.frame.DataFrame'>\n",
      "RangeIndex: 736 entries, 0 to 735\n",
      "Data columns (total 33 columns):\n",
      " #   Column                        Non-Null Count  Dtype  \n",
      "---  ------                        --------------  -----  \n",
      " 0   Timestamp                     736 non-null    object \n",
      " 1   Age                           735 non-null    float64\n",
      " 2   Primary streaming service     735 non-null    object \n",
      " 3   Hours per day                 736 non-null    float64\n",
      " 4   While working                 733 non-null    object \n",
      " 5   Instrumentalist               732 non-null    object \n",
      " 6   Composer                      735 non-null    object \n",
      " 7   Fav genre                     736 non-null    object \n",
      " 8   Exploratory                   736 non-null    object \n",
      " 9   Foreign languages             732 non-null    object \n",
      " 10  BPM                           629 non-null    float64\n",
      " 11  Frequency [Classical]         736 non-null    object \n",
      " 12  Frequency [Country]           736 non-null    object \n",
      " 13  Frequency [EDM]               736 non-null    object \n",
      " 14  Frequency [Folk]              736 non-null    object \n",
      " 15  Frequency [Gospel]            736 non-null    object \n",
      " 16  Frequency [Hip hop]           736 non-null    object \n",
      " 17  Frequency [Jazz]              736 non-null    object \n",
      " 18  Frequency [K pop]             736 non-null    object \n",
      " 19  Frequency [Latin]             736 non-null    object \n",
      " 20  Frequency [Lofi]              736 non-null    object \n",
      " 21  Frequency [Metal]             736 non-null    object \n",
      " 22  Frequency [Pop]               736 non-null    object \n",
      " 23  Frequency [R&B]               736 non-null    object \n",
      " 24  Frequency [Rap]               736 non-null    object \n",
      " 25  Frequency [Rock]              736 non-null    object \n",
      " 26  Frequency [Video game music]  736 non-null    object \n",
      " 27  Anxiety                       736 non-null    float64\n",
      " 28  Depression                    736 non-null    float64\n",
      " 29  Insomnia                      736 non-null    float64\n",
      " 30  OCD                           736 non-null    float64\n",
      " 31  Music effects                 728 non-null    object \n",
      " 32  Permissions                   736 non-null    object \n",
      "dtypes: float64(7), object(26)\n",
      "memory usage: 189.9+ KB\n"
     ]
    }
   ],
   "source": [
    "df.info()"
   ]
  },
  {
   "cell_type": "code",
   "execution_count": 5,
   "id": "3af32ecc",
   "metadata": {},
   "outputs": [
    {
     "data": {
      "text/plain": [
       "(736, 33)"
      ]
     },
     "execution_count": 5,
     "metadata": {},
     "output_type": "execute_result"
    }
   ],
   "source": [
    "df.shape"
   ]
  },
  {
   "cell_type": "code",
   "execution_count": 6,
   "id": "b6ad77d5",
   "metadata": {},
   "outputs": [
    {
     "data": {
      "text/plain": [
       "Timestamp                         0\n",
       "Age                               1\n",
       "Primary streaming service         1\n",
       "Hours per day                     0\n",
       "While working                     3\n",
       "Instrumentalist                   4\n",
       "Composer                          1\n",
       "Fav genre                         0\n",
       "Exploratory                       0\n",
       "Foreign languages                 4\n",
       "BPM                             107\n",
       "Frequency [Classical]             0\n",
       "Frequency [Country]               0\n",
       "Frequency [EDM]                   0\n",
       "Frequency [Folk]                  0\n",
       "Frequency [Gospel]                0\n",
       "Frequency [Hip hop]               0\n",
       "Frequency [Jazz]                  0\n",
       "Frequency [K pop]                 0\n",
       "Frequency [Latin]                 0\n",
       "Frequency [Lofi]                  0\n",
       "Frequency [Metal]                 0\n",
       "Frequency [Pop]                   0\n",
       "Frequency [R&B]                   0\n",
       "Frequency [Rap]                   0\n",
       "Frequency [Rock]                  0\n",
       "Frequency [Video game music]      0\n",
       "Anxiety                           0\n",
       "Depression                        0\n",
       "Insomnia                          0\n",
       "OCD                               0\n",
       "Music effects                     8\n",
       "Permissions                       0\n",
       "dtype: int64"
      ]
     },
     "execution_count": 6,
     "metadata": {},
     "output_type": "execute_result"
    }
   ],
   "source": [
    "df.isna().sum()"
   ]
  },
  {
   "cell_type": "code",
   "execution_count": 7,
   "id": "abfb4f1a",
   "metadata": {},
   "outputs": [],
   "source": [
    "df.columns = df.columns.str.lower()"
   ]
  },
  {
   "cell_type": "code",
   "execution_count": 8,
   "id": "02036630",
   "metadata": {},
   "outputs": [
    {
     "name": "stdout",
     "output_type": "stream",
     "text": [
      "<class 'pandas.core.frame.DataFrame'>\n",
      "RangeIndex: 736 entries, 0 to 735\n",
      "Data columns (total 33 columns):\n",
      " #   Column                        Non-Null Count  Dtype  \n",
      "---  ------                        --------------  -----  \n",
      " 0   timestamp                     736 non-null    object \n",
      " 1   age                           735 non-null    float64\n",
      " 2   primary streaming service     735 non-null    object \n",
      " 3   hours per day                 736 non-null    float64\n",
      " 4   while working                 733 non-null    object \n",
      " 5   instrumentalist               732 non-null    object \n",
      " 6   composer                      735 non-null    object \n",
      " 7   fav genre                     736 non-null    object \n",
      " 8   exploratory                   736 non-null    object \n",
      " 9   foreign languages             732 non-null    object \n",
      " 10  bpm                           629 non-null    float64\n",
      " 11  frequency [classical]         736 non-null    object \n",
      " 12  frequency [country]           736 non-null    object \n",
      " 13  frequency [edm]               736 non-null    object \n",
      " 14  frequency [folk]              736 non-null    object \n",
      " 15  frequency [gospel]            736 non-null    object \n",
      " 16  frequency [hip hop]           736 non-null    object \n",
      " 17  frequency [jazz]              736 non-null    object \n",
      " 18  frequency [k pop]             736 non-null    object \n",
      " 19  frequency [latin]             736 non-null    object \n",
      " 20  frequency [lofi]              736 non-null    object \n",
      " 21  frequency [metal]             736 non-null    object \n",
      " 22  frequency [pop]               736 non-null    object \n",
      " 23  frequency [r&b]               736 non-null    object \n",
      " 24  frequency [rap]               736 non-null    object \n",
      " 25  frequency [rock]              736 non-null    object \n",
      " 26  frequency [video game music]  736 non-null    object \n",
      " 27  anxiety                       736 non-null    float64\n",
      " 28  depression                    736 non-null    float64\n",
      " 29  insomnia                      736 non-null    float64\n",
      " 30  ocd                           736 non-null    float64\n",
      " 31  music effects                 728 non-null    object \n",
      " 32  permissions                   736 non-null    object \n",
      "dtypes: float64(7), object(26)\n",
      "memory usage: 189.9+ KB\n"
     ]
    }
   ],
   "source": [
    "df.info()"
   ]
  },
  {
   "cell_type": "code",
   "execution_count": 9,
   "id": "52d870f4",
   "metadata": {},
   "outputs": [],
   "source": [
    "df.columns = df.columns.str.replace(' ', '_')"
   ]
  },
  {
   "cell_type": "code",
   "execution_count": 10,
   "id": "b4b0feba",
   "metadata": {},
   "outputs": [
    {
     "name": "stdout",
     "output_type": "stream",
     "text": [
      "<class 'pandas.core.frame.DataFrame'>\n",
      "RangeIndex: 736 entries, 0 to 735\n",
      "Data columns (total 33 columns):\n",
      " #   Column                        Non-Null Count  Dtype  \n",
      "---  ------                        --------------  -----  \n",
      " 0   timestamp                     736 non-null    object \n",
      " 1   age                           735 non-null    float64\n",
      " 2   primary_streaming_service     735 non-null    object \n",
      " 3   hours_per_day                 736 non-null    float64\n",
      " 4   while_working                 733 non-null    object \n",
      " 5   instrumentalist               732 non-null    object \n",
      " 6   composer                      735 non-null    object \n",
      " 7   fav_genre                     736 non-null    object \n",
      " 8   exploratory                   736 non-null    object \n",
      " 9   foreign_languages             732 non-null    object \n",
      " 10  bpm                           629 non-null    float64\n",
      " 11  frequency_[classical]         736 non-null    object \n",
      " 12  frequency_[country]           736 non-null    object \n",
      " 13  frequency_[edm]               736 non-null    object \n",
      " 14  frequency_[folk]              736 non-null    object \n",
      " 15  frequency_[gospel]            736 non-null    object \n",
      " 16  frequency_[hip_hop]           736 non-null    object \n",
      " 17  frequency_[jazz]              736 non-null    object \n",
      " 18  frequency_[k_pop]             736 non-null    object \n",
      " 19  frequency_[latin]             736 non-null    object \n",
      " 20  frequency_[lofi]              736 non-null    object \n",
      " 21  frequency_[metal]             736 non-null    object \n",
      " 22  frequency_[pop]               736 non-null    object \n",
      " 23  frequency_[r&b]               736 non-null    object \n",
      " 24  frequency_[rap]               736 non-null    object \n",
      " 25  frequency_[rock]              736 non-null    object \n",
      " 26  frequency_[video_game_music]  736 non-null    object \n",
      " 27  anxiety                       736 non-null    float64\n",
      " 28  depression                    736 non-null    float64\n",
      " 29  insomnia                      736 non-null    float64\n",
      " 30  ocd                           736 non-null    float64\n",
      " 31  music_effects                 728 non-null    object \n",
      " 32  permissions                   736 non-null    object \n",
      "dtypes: float64(7), object(26)\n",
      "memory usage: 189.9+ KB\n"
     ]
    }
   ],
   "source": [
    "df.info()"
   ]
  },
  {
   "cell_type": "code",
   "execution_count": 11,
   "id": "ef589a18",
   "metadata": {},
   "outputs": [
    {
     "name": "stderr",
     "output_type": "stream",
     "text": [
      "C:\\Users\\18016\\AppData\\Local\\Temp\\ipykernel_14788\\3044033024.py:1: FutureWarning: The default value of regex will change from True to False in a future version. In addition, single character regular expressions will *not* be treated as literal strings when regex=True.\n",
      "  df.columns = df.columns.str.replace('[', '')\n",
      "C:\\Users\\18016\\AppData\\Local\\Temp\\ipykernel_14788\\3044033024.py:2: FutureWarning: The default value of regex will change from True to False in a future version. In addition, single character regular expressions will *not* be treated as literal strings when regex=True.\n",
      "  df.columns = df.columns.str.replace(']', '')\n"
     ]
    }
   ],
   "source": [
    "df.columns = df.columns.str.replace('[', '')\n",
    "df.columns = df.columns.str.replace(']', '')"
   ]
  },
  {
   "cell_type": "code",
   "execution_count": 12,
   "id": "e4fe5c40",
   "metadata": {},
   "outputs": [
    {
     "name": "stdout",
     "output_type": "stream",
     "text": [
      "<class 'pandas.core.frame.DataFrame'>\n",
      "RangeIndex: 736 entries, 0 to 735\n",
      "Data columns (total 33 columns):\n",
      " #   Column                      Non-Null Count  Dtype  \n",
      "---  ------                      --------------  -----  \n",
      " 0   timestamp                   736 non-null    object \n",
      " 1   age                         735 non-null    float64\n",
      " 2   primary_streaming_service   735 non-null    object \n",
      " 3   hours_per_day               736 non-null    float64\n",
      " 4   while_working               733 non-null    object \n",
      " 5   instrumentalist             732 non-null    object \n",
      " 6   composer                    735 non-null    object \n",
      " 7   fav_genre                   736 non-null    object \n",
      " 8   exploratory                 736 non-null    object \n",
      " 9   foreign_languages           732 non-null    object \n",
      " 10  bpm                         629 non-null    float64\n",
      " 11  frequency_classical         736 non-null    object \n",
      " 12  frequency_country           736 non-null    object \n",
      " 13  frequency_edm               736 non-null    object \n",
      " 14  frequency_folk              736 non-null    object \n",
      " 15  frequency_gospel            736 non-null    object \n",
      " 16  frequency_hip_hop           736 non-null    object \n",
      " 17  frequency_jazz              736 non-null    object \n",
      " 18  frequency_k_pop             736 non-null    object \n",
      " 19  frequency_latin             736 non-null    object \n",
      " 20  frequency_lofi              736 non-null    object \n",
      " 21  frequency_metal             736 non-null    object \n",
      " 22  frequency_pop               736 non-null    object \n",
      " 23  frequency_r&b               736 non-null    object \n",
      " 24  frequency_rap               736 non-null    object \n",
      " 25  frequency_rock              736 non-null    object \n",
      " 26  frequency_video_game_music  736 non-null    object \n",
      " 27  anxiety                     736 non-null    float64\n",
      " 28  depression                  736 non-null    float64\n",
      " 29  insomnia                    736 non-null    float64\n",
      " 30  ocd                         736 non-null    float64\n",
      " 31  music_effects               728 non-null    object \n",
      " 32  permissions                 736 non-null    object \n",
      "dtypes: float64(7), object(26)\n",
      "memory usage: 189.9+ KB\n"
     ]
    }
   ],
   "source": [
    "df.info()"
   ]
  },
  {
   "cell_type": "code",
   "execution_count": 13,
   "id": "eec4c486",
   "metadata": {
    "scrolled": true
   },
   "outputs": [
    {
     "data": {
      "text/plain": [
       "timestamp                       0\n",
       "age                             1\n",
       "primary_streaming_service       1\n",
       "hours_per_day                   0\n",
       "while_working                   3\n",
       "instrumentalist                 4\n",
       "composer                        1\n",
       "fav_genre                       0\n",
       "exploratory                     0\n",
       "foreign_languages               4\n",
       "bpm                           107\n",
       "frequency_classical             0\n",
       "frequency_country               0\n",
       "frequency_edm                   0\n",
       "frequency_folk                  0\n",
       "frequency_gospel                0\n",
       "frequency_hip_hop               0\n",
       "frequency_jazz                  0\n",
       "frequency_k_pop                 0\n",
       "frequency_latin                 0\n",
       "frequency_lofi                  0\n",
       "frequency_metal                 0\n",
       "frequency_pop                   0\n",
       "frequency_r&b                   0\n",
       "frequency_rap                   0\n",
       "frequency_rock                  0\n",
       "frequency_video_game_music      0\n",
       "anxiety                         0\n",
       "depression                      0\n",
       "insomnia                        0\n",
       "ocd                             0\n",
       "music_effects                   8\n",
       "permissions                     0\n",
       "dtype: int64"
      ]
     },
     "execution_count": 13,
     "metadata": {},
     "output_type": "execute_result"
    }
   ],
   "source": [
    "df.isna().sum()"
   ]
  },
  {
   "cell_type": "code",
   "execution_count": 14,
   "id": "0780381c",
   "metadata": {},
   "outputs": [],
   "source": [
    "df = df.dropna(subset=['age'], axis=0)"
   ]
  },
  {
   "cell_type": "code",
   "execution_count": 15,
   "id": "0c0e2c6e",
   "metadata": {},
   "outputs": [
    {
     "data": {
      "text/html": [
       "<div>\n",
       "<style scoped>\n",
       "    .dataframe tbody tr th:only-of-type {\n",
       "        vertical-align: middle;\n",
       "    }\n",
       "\n",
       "    .dataframe tbody tr th {\n",
       "        vertical-align: top;\n",
       "    }\n",
       "\n",
       "    .dataframe thead th {\n",
       "        text-align: right;\n",
       "    }\n",
       "</style>\n",
       "<table border=\"1\" class=\"dataframe\">\n",
       "  <thead>\n",
       "    <tr style=\"text-align: right;\">\n",
       "      <th></th>\n",
       "      <th>timestamp</th>\n",
       "      <th>age</th>\n",
       "      <th>primary_streaming_service</th>\n",
       "      <th>hours_per_day</th>\n",
       "      <th>while_working</th>\n",
       "      <th>instrumentalist</th>\n",
       "      <th>composer</th>\n",
       "      <th>fav_genre</th>\n",
       "      <th>exploratory</th>\n",
       "      <th>foreign_languages</th>\n",
       "      <th>...</th>\n",
       "      <th>frequency_r&amp;b</th>\n",
       "      <th>frequency_rap</th>\n",
       "      <th>frequency_rock</th>\n",
       "      <th>frequency_video_game_music</th>\n",
       "      <th>anxiety</th>\n",
       "      <th>depression</th>\n",
       "      <th>insomnia</th>\n",
       "      <th>ocd</th>\n",
       "      <th>music_effects</th>\n",
       "      <th>permissions</th>\n",
       "    </tr>\n",
       "  </thead>\n",
       "  <tbody>\n",
       "    <tr>\n",
       "      <th>0</th>\n",
       "      <td>8/27/2022 19:29:02</td>\n",
       "      <td>18.0</td>\n",
       "      <td>Spotify</td>\n",
       "      <td>3.0</td>\n",
       "      <td>Yes</td>\n",
       "      <td>Yes</td>\n",
       "      <td>Yes</td>\n",
       "      <td>Latin</td>\n",
       "      <td>Yes</td>\n",
       "      <td>Yes</td>\n",
       "      <td>...</td>\n",
       "      <td>Sometimes</td>\n",
       "      <td>Very frequently</td>\n",
       "      <td>Never</td>\n",
       "      <td>Sometimes</td>\n",
       "      <td>3.0</td>\n",
       "      <td>0.0</td>\n",
       "      <td>1.0</td>\n",
       "      <td>0.0</td>\n",
       "      <td>NaN</td>\n",
       "      <td>I understand.</td>\n",
       "    </tr>\n",
       "    <tr>\n",
       "      <th>1</th>\n",
       "      <td>8/27/2022 19:57:31</td>\n",
       "      <td>63.0</td>\n",
       "      <td>Pandora</td>\n",
       "      <td>1.5</td>\n",
       "      <td>Yes</td>\n",
       "      <td>No</td>\n",
       "      <td>No</td>\n",
       "      <td>Rock</td>\n",
       "      <td>Yes</td>\n",
       "      <td>No</td>\n",
       "      <td>...</td>\n",
       "      <td>Sometimes</td>\n",
       "      <td>Rarely</td>\n",
       "      <td>Very frequently</td>\n",
       "      <td>Rarely</td>\n",
       "      <td>7.0</td>\n",
       "      <td>2.0</td>\n",
       "      <td>2.0</td>\n",
       "      <td>1.0</td>\n",
       "      <td>NaN</td>\n",
       "      <td>I understand.</td>\n",
       "    </tr>\n",
       "    <tr>\n",
       "      <th>2</th>\n",
       "      <td>8/27/2022 21:28:18</td>\n",
       "      <td>18.0</td>\n",
       "      <td>Spotify</td>\n",
       "      <td>4.0</td>\n",
       "      <td>No</td>\n",
       "      <td>No</td>\n",
       "      <td>No</td>\n",
       "      <td>Video game music</td>\n",
       "      <td>No</td>\n",
       "      <td>Yes</td>\n",
       "      <td>...</td>\n",
       "      <td>Never</td>\n",
       "      <td>Rarely</td>\n",
       "      <td>Rarely</td>\n",
       "      <td>Very frequently</td>\n",
       "      <td>7.0</td>\n",
       "      <td>7.0</td>\n",
       "      <td>10.0</td>\n",
       "      <td>2.0</td>\n",
       "      <td>No effect</td>\n",
       "      <td>I understand.</td>\n",
       "    </tr>\n",
       "    <tr>\n",
       "      <th>3</th>\n",
       "      <td>8/27/2022 21:40:40</td>\n",
       "      <td>61.0</td>\n",
       "      <td>YouTube Music</td>\n",
       "      <td>2.5</td>\n",
       "      <td>Yes</td>\n",
       "      <td>No</td>\n",
       "      <td>Yes</td>\n",
       "      <td>Jazz</td>\n",
       "      <td>Yes</td>\n",
       "      <td>Yes</td>\n",
       "      <td>...</td>\n",
       "      <td>Sometimes</td>\n",
       "      <td>Never</td>\n",
       "      <td>Never</td>\n",
       "      <td>Never</td>\n",
       "      <td>9.0</td>\n",
       "      <td>7.0</td>\n",
       "      <td>3.0</td>\n",
       "      <td>3.0</td>\n",
       "      <td>Improve</td>\n",
       "      <td>I understand.</td>\n",
       "    </tr>\n",
       "    <tr>\n",
       "      <th>4</th>\n",
       "      <td>8/27/2022 21:54:47</td>\n",
       "      <td>18.0</td>\n",
       "      <td>Spotify</td>\n",
       "      <td>4.0</td>\n",
       "      <td>Yes</td>\n",
       "      <td>No</td>\n",
       "      <td>No</td>\n",
       "      <td>R&amp;B</td>\n",
       "      <td>Yes</td>\n",
       "      <td>No</td>\n",
       "      <td>...</td>\n",
       "      <td>Very frequently</td>\n",
       "      <td>Very frequently</td>\n",
       "      <td>Never</td>\n",
       "      <td>Rarely</td>\n",
       "      <td>7.0</td>\n",
       "      <td>2.0</td>\n",
       "      <td>5.0</td>\n",
       "      <td>9.0</td>\n",
       "      <td>Improve</td>\n",
       "      <td>I understand.</td>\n",
       "    </tr>\n",
       "    <tr>\n",
       "      <th>...</th>\n",
       "      <td>...</td>\n",
       "      <td>...</td>\n",
       "      <td>...</td>\n",
       "      <td>...</td>\n",
       "      <td>...</td>\n",
       "      <td>...</td>\n",
       "      <td>...</td>\n",
       "      <td>...</td>\n",
       "      <td>...</td>\n",
       "      <td>...</td>\n",
       "      <td>...</td>\n",
       "      <td>...</td>\n",
       "      <td>...</td>\n",
       "      <td>...</td>\n",
       "      <td>...</td>\n",
       "      <td>...</td>\n",
       "      <td>...</td>\n",
       "      <td>...</td>\n",
       "      <td>...</td>\n",
       "      <td>...</td>\n",
       "      <td>...</td>\n",
       "    </tr>\n",
       "    <tr>\n",
       "      <th>731</th>\n",
       "      <td>10/30/2022 14:37:28</td>\n",
       "      <td>17.0</td>\n",
       "      <td>Spotify</td>\n",
       "      <td>2.0</td>\n",
       "      <td>Yes</td>\n",
       "      <td>Yes</td>\n",
       "      <td>No</td>\n",
       "      <td>Rock</td>\n",
       "      <td>Yes</td>\n",
       "      <td>Yes</td>\n",
       "      <td>...</td>\n",
       "      <td>Never</td>\n",
       "      <td>Rarely</td>\n",
       "      <td>Very frequently</td>\n",
       "      <td>Never</td>\n",
       "      <td>7.0</td>\n",
       "      <td>6.0</td>\n",
       "      <td>0.0</td>\n",
       "      <td>9.0</td>\n",
       "      <td>Improve</td>\n",
       "      <td>I understand.</td>\n",
       "    </tr>\n",
       "    <tr>\n",
       "      <th>732</th>\n",
       "      <td>11/1/2022 22:26:42</td>\n",
       "      <td>18.0</td>\n",
       "      <td>Spotify</td>\n",
       "      <td>1.0</td>\n",
       "      <td>Yes</td>\n",
       "      <td>Yes</td>\n",
       "      <td>No</td>\n",
       "      <td>Pop</td>\n",
       "      <td>Yes</td>\n",
       "      <td>Yes</td>\n",
       "      <td>...</td>\n",
       "      <td>Never</td>\n",
       "      <td>Never</td>\n",
       "      <td>Sometimes</td>\n",
       "      <td>Sometimes</td>\n",
       "      <td>3.0</td>\n",
       "      <td>2.0</td>\n",
       "      <td>2.0</td>\n",
       "      <td>5.0</td>\n",
       "      <td>Improve</td>\n",
       "      <td>I understand.</td>\n",
       "    </tr>\n",
       "    <tr>\n",
       "      <th>733</th>\n",
       "      <td>11/3/2022 23:24:38</td>\n",
       "      <td>19.0</td>\n",
       "      <td>Other streaming service</td>\n",
       "      <td>6.0</td>\n",
       "      <td>Yes</td>\n",
       "      <td>No</td>\n",
       "      <td>Yes</td>\n",
       "      <td>Rap</td>\n",
       "      <td>Yes</td>\n",
       "      <td>No</td>\n",
       "      <td>...</td>\n",
       "      <td>Sometimes</td>\n",
       "      <td>Sometimes</td>\n",
       "      <td>Rarely</td>\n",
       "      <td>Rarely</td>\n",
       "      <td>2.0</td>\n",
       "      <td>2.0</td>\n",
       "      <td>2.0</td>\n",
       "      <td>2.0</td>\n",
       "      <td>Improve</td>\n",
       "      <td>I understand.</td>\n",
       "    </tr>\n",
       "    <tr>\n",
       "      <th>734</th>\n",
       "      <td>11/4/2022 17:31:47</td>\n",
       "      <td>19.0</td>\n",
       "      <td>Spotify</td>\n",
       "      <td>5.0</td>\n",
       "      <td>Yes</td>\n",
       "      <td>Yes</td>\n",
       "      <td>No</td>\n",
       "      <td>Classical</td>\n",
       "      <td>No</td>\n",
       "      <td>No</td>\n",
       "      <td>...</td>\n",
       "      <td>Never</td>\n",
       "      <td>Never</td>\n",
       "      <td>Never</td>\n",
       "      <td>Sometimes</td>\n",
       "      <td>2.0</td>\n",
       "      <td>3.0</td>\n",
       "      <td>2.0</td>\n",
       "      <td>1.0</td>\n",
       "      <td>Improve</td>\n",
       "      <td>I understand.</td>\n",
       "    </tr>\n",
       "    <tr>\n",
       "      <th>735</th>\n",
       "      <td>11/9/2022 1:55:20</td>\n",
       "      <td>29.0</td>\n",
       "      <td>YouTube Music</td>\n",
       "      <td>2.0</td>\n",
       "      <td>Yes</td>\n",
       "      <td>No</td>\n",
       "      <td>No</td>\n",
       "      <td>Hip hop</td>\n",
       "      <td>Yes</td>\n",
       "      <td>Yes</td>\n",
       "      <td>...</td>\n",
       "      <td>Very frequently</td>\n",
       "      <td>Very frequently</td>\n",
       "      <td>Very frequently</td>\n",
       "      <td>Rarely</td>\n",
       "      <td>2.0</td>\n",
       "      <td>2.0</td>\n",
       "      <td>2.0</td>\n",
       "      <td>5.0</td>\n",
       "      <td>Improve</td>\n",
       "      <td>I understand.</td>\n",
       "    </tr>\n",
       "  </tbody>\n",
       "</table>\n",
       "<p>735 rows × 33 columns</p>\n",
       "</div>"
      ],
      "text/plain": [
       "               timestamp   age primary_streaming_service  hours_per_day  \\\n",
       "0     8/27/2022 19:29:02  18.0                   Spotify            3.0   \n",
       "1     8/27/2022 19:57:31  63.0                   Pandora            1.5   \n",
       "2     8/27/2022 21:28:18  18.0                   Spotify            4.0   \n",
       "3     8/27/2022 21:40:40  61.0             YouTube Music            2.5   \n",
       "4     8/27/2022 21:54:47  18.0                   Spotify            4.0   \n",
       "..                   ...   ...                       ...            ...   \n",
       "731  10/30/2022 14:37:28  17.0                   Spotify            2.0   \n",
       "732   11/1/2022 22:26:42  18.0                   Spotify            1.0   \n",
       "733   11/3/2022 23:24:38  19.0   Other streaming service            6.0   \n",
       "734   11/4/2022 17:31:47  19.0                   Spotify            5.0   \n",
       "735    11/9/2022 1:55:20  29.0             YouTube Music            2.0   \n",
       "\n",
       "    while_working instrumentalist composer         fav_genre exploratory  \\\n",
       "0             Yes             Yes      Yes             Latin         Yes   \n",
       "1             Yes              No       No              Rock         Yes   \n",
       "2              No              No       No  Video game music          No   \n",
       "3             Yes              No      Yes              Jazz         Yes   \n",
       "4             Yes              No       No               R&B         Yes   \n",
       "..            ...             ...      ...               ...         ...   \n",
       "731           Yes             Yes       No              Rock         Yes   \n",
       "732           Yes             Yes       No               Pop         Yes   \n",
       "733           Yes              No      Yes               Rap         Yes   \n",
       "734           Yes             Yes       No         Classical          No   \n",
       "735           Yes              No       No           Hip hop         Yes   \n",
       "\n",
       "    foreign_languages  ...    frequency_r&b    frequency_rap   frequency_rock  \\\n",
       "0                 Yes  ...        Sometimes  Very frequently            Never   \n",
       "1                  No  ...        Sometimes           Rarely  Very frequently   \n",
       "2                 Yes  ...            Never           Rarely           Rarely   \n",
       "3                 Yes  ...        Sometimes            Never            Never   \n",
       "4                  No  ...  Very frequently  Very frequently            Never   \n",
       "..                ...  ...              ...              ...              ...   \n",
       "731               Yes  ...            Never           Rarely  Very frequently   \n",
       "732               Yes  ...            Never            Never        Sometimes   \n",
       "733                No  ...        Sometimes        Sometimes           Rarely   \n",
       "734                No  ...            Never            Never            Never   \n",
       "735               Yes  ...  Very frequently  Very frequently  Very frequently   \n",
       "\n",
       "    frequency_video_game_music anxiety depression insomnia  ocd music_effects  \\\n",
       "0                    Sometimes     3.0        0.0      1.0  0.0           NaN   \n",
       "1                       Rarely     7.0        2.0      2.0  1.0           NaN   \n",
       "2              Very frequently     7.0        7.0     10.0  2.0     No effect   \n",
       "3                        Never     9.0        7.0      3.0  3.0       Improve   \n",
       "4                       Rarely     7.0        2.0      5.0  9.0       Improve   \n",
       "..                         ...     ...        ...      ...  ...           ...   \n",
       "731                      Never     7.0        6.0      0.0  9.0       Improve   \n",
       "732                  Sometimes     3.0        2.0      2.0  5.0       Improve   \n",
       "733                     Rarely     2.0        2.0      2.0  2.0       Improve   \n",
       "734                  Sometimes     2.0        3.0      2.0  1.0       Improve   \n",
       "735                     Rarely     2.0        2.0      2.0  5.0       Improve   \n",
       "\n",
       "       permissions  \n",
       "0    I understand.  \n",
       "1    I understand.  \n",
       "2    I understand.  \n",
       "3    I understand.  \n",
       "4    I understand.  \n",
       "..             ...  \n",
       "731  I understand.  \n",
       "732  I understand.  \n",
       "733  I understand.  \n",
       "734  I understand.  \n",
       "735  I understand.  \n",
       "\n",
       "[735 rows x 33 columns]"
      ]
     },
     "execution_count": 15,
     "metadata": {},
     "output_type": "execute_result"
    }
   ],
   "source": [
    "df"
   ]
  },
  {
   "cell_type": "code",
   "execution_count": 16,
   "id": "a417627a",
   "metadata": {},
   "outputs": [
    {
     "data": {
      "text/plain": [
       "timestamp                       0\n",
       "age                             0\n",
       "primary_streaming_service       1\n",
       "hours_per_day                   0\n",
       "while_working                   3\n",
       "instrumentalist                 4\n",
       "composer                        1\n",
       "fav_genre                       0\n",
       "exploratory                     0\n",
       "foreign_languages               4\n",
       "bpm                           106\n",
       "frequency_classical             0\n",
       "frequency_country               0\n",
       "frequency_edm                   0\n",
       "frequency_folk                  0\n",
       "frequency_gospel                0\n",
       "frequency_hip_hop               0\n",
       "frequency_jazz                  0\n",
       "frequency_k_pop                 0\n",
       "frequency_latin                 0\n",
       "frequency_lofi                  0\n",
       "frequency_metal                 0\n",
       "frequency_pop                   0\n",
       "frequency_r&b                   0\n",
       "frequency_rap                   0\n",
       "frequency_rock                  0\n",
       "frequency_video_game_music      0\n",
       "anxiety                         0\n",
       "depression                      0\n",
       "insomnia                        0\n",
       "ocd                             0\n",
       "music_effects                   8\n",
       "permissions                     0\n",
       "dtype: int64"
      ]
     },
     "execution_count": 16,
     "metadata": {},
     "output_type": "execute_result"
    }
   ],
   "source": [
    "df.isna().sum()"
   ]
  },
  {
   "cell_type": "code",
   "execution_count": 17,
   "id": "e6ef4a90",
   "metadata": {},
   "outputs": [],
   "source": [
    "df = df.dropna(subset=['primary_streaming_service'], axis=0)"
   ]
  },
  {
   "cell_type": "code",
   "execution_count": 18,
   "id": "65b6dfa7",
   "metadata": {},
   "outputs": [
    {
     "data": {
      "text/plain": [
       "timestamp                       0\n",
       "age                             0\n",
       "primary_streaming_service       0\n",
       "hours_per_day                   0\n",
       "while_working                   3\n",
       "instrumentalist                 4\n",
       "composer                        1\n",
       "fav_genre                       0\n",
       "exploratory                     0\n",
       "foreign_languages               4\n",
       "bpm                           106\n",
       "frequency_classical             0\n",
       "frequency_country               0\n",
       "frequency_edm                   0\n",
       "frequency_folk                  0\n",
       "frequency_gospel                0\n",
       "frequency_hip_hop               0\n",
       "frequency_jazz                  0\n",
       "frequency_k_pop                 0\n",
       "frequency_latin                 0\n",
       "frequency_lofi                  0\n",
       "frequency_metal                 0\n",
       "frequency_pop                   0\n",
       "frequency_r&b                   0\n",
       "frequency_rap                   0\n",
       "frequency_rock                  0\n",
       "frequency_video_game_music      0\n",
       "anxiety                         0\n",
       "depression                      0\n",
       "insomnia                        0\n",
       "ocd                             0\n",
       "music_effects                   8\n",
       "permissions                     0\n",
       "dtype: int64"
      ]
     },
     "execution_count": 18,
     "metadata": {},
     "output_type": "execute_result"
    }
   ],
   "source": [
    "df.isna().sum()"
   ]
  },
  {
   "cell_type": "code",
   "execution_count": 19,
   "id": "5e9bbebd",
   "metadata": {},
   "outputs": [
    {
     "data": {
      "text/plain": [
       "0      Yes\n",
       "1      Yes\n",
       "2       No\n",
       "3      Yes\n",
       "4      Yes\n",
       "      ... \n",
       "731    Yes\n",
       "732    Yes\n",
       "733    Yes\n",
       "734    Yes\n",
       "735    Yes\n",
       "Name: while_working, Length: 734, dtype: object"
      ]
     },
     "execution_count": 19,
     "metadata": {},
     "output_type": "execute_result"
    }
   ],
   "source": [
    "df['while_working']"
   ]
  },
  {
   "cell_type": "code",
   "execution_count": 20,
   "id": "46a46108",
   "metadata": {},
   "outputs": [
    {
     "name": "stderr",
     "output_type": "stream",
     "text": [
      "C:\\Users\\18016\\AppData\\Local\\Temp\\ipykernel_14788\\3047577847.py:1: SettingWithCopyWarning: \n",
      "A value is trying to be set on a copy of a slice from a DataFrame.\n",
      "Try using .loc[row_indexer,col_indexer] = value instead\n",
      "\n",
      "See the caveats in the documentation: https://pandas.pydata.org/pandas-docs/stable/user_guide/indexing.html#returning-a-view-versus-a-copy\n",
      "  df['while_working'] = df['while_working'].fillna('No')\n"
     ]
    }
   ],
   "source": [
    "df['while_working'] = df['while_working'].fillna('No')"
   ]
  },
  {
   "cell_type": "code",
   "execution_count": 21,
   "id": "6a854ec4",
   "metadata": {},
   "outputs": [
    {
     "data": {
      "text/plain": [
       "timestamp                       0\n",
       "age                             0\n",
       "primary_streaming_service       0\n",
       "hours_per_day                   0\n",
       "while_working                   0\n",
       "instrumentalist                 4\n",
       "composer                        1\n",
       "fav_genre                       0\n",
       "exploratory                     0\n",
       "foreign_languages               4\n",
       "bpm                           106\n",
       "frequency_classical             0\n",
       "frequency_country               0\n",
       "frequency_edm                   0\n",
       "frequency_folk                  0\n",
       "frequency_gospel                0\n",
       "frequency_hip_hop               0\n",
       "frequency_jazz                  0\n",
       "frequency_k_pop                 0\n",
       "frequency_latin                 0\n",
       "frequency_lofi                  0\n",
       "frequency_metal                 0\n",
       "frequency_pop                   0\n",
       "frequency_r&b                   0\n",
       "frequency_rap                   0\n",
       "frequency_rock                  0\n",
       "frequency_video_game_music      0\n",
       "anxiety                         0\n",
       "depression                      0\n",
       "insomnia                        0\n",
       "ocd                             0\n",
       "music_effects                   8\n",
       "permissions                     0\n",
       "dtype: int64"
      ]
     },
     "execution_count": 21,
     "metadata": {},
     "output_type": "execute_result"
    }
   ],
   "source": [
    "df.isna().sum()"
   ]
  },
  {
   "cell_type": "code",
   "execution_count": 22,
   "id": "ae645481",
   "metadata": {},
   "outputs": [
    {
     "data": {
      "text/plain": [
       "0      Yes\n",
       "1       No\n",
       "2       No\n",
       "3       No\n",
       "4       No\n",
       "      ... \n",
       "731    Yes\n",
       "732    Yes\n",
       "733     No\n",
       "734    Yes\n",
       "735     No\n",
       "Name: instrumentalist, Length: 734, dtype: object"
      ]
     },
     "execution_count": 22,
     "metadata": {},
     "output_type": "execute_result"
    }
   ],
   "source": [
    "df['instrumentalist']"
   ]
  },
  {
   "cell_type": "code",
   "execution_count": 23,
   "id": "ee151f77",
   "metadata": {},
   "outputs": [
    {
     "name": "stderr",
     "output_type": "stream",
     "text": [
      "C:\\Users\\18016\\AppData\\Local\\Temp\\ipykernel_14788\\3370393572.py:1: SettingWithCopyWarning: \n",
      "A value is trying to be set on a copy of a slice from a DataFrame.\n",
      "Try using .loc[row_indexer,col_indexer] = value instead\n",
      "\n",
      "See the caveats in the documentation: https://pandas.pydata.org/pandas-docs/stable/user_guide/indexing.html#returning-a-view-versus-a-copy\n",
      "  df['instrumentalist'] = df['instrumentalist'].fillna('No')\n"
     ]
    }
   ],
   "source": [
    "df['instrumentalist'] = df['instrumentalist'].fillna('No')"
   ]
  },
  {
   "cell_type": "code",
   "execution_count": 24,
   "id": "8197f4e7",
   "metadata": {},
   "outputs": [
    {
     "data": {
      "text/plain": [
       "timestamp                       0\n",
       "age                             0\n",
       "primary_streaming_service       0\n",
       "hours_per_day                   0\n",
       "while_working                   0\n",
       "instrumentalist                 0\n",
       "composer                        1\n",
       "fav_genre                       0\n",
       "exploratory                     0\n",
       "foreign_languages               4\n",
       "bpm                           106\n",
       "frequency_classical             0\n",
       "frequency_country               0\n",
       "frequency_edm                   0\n",
       "frequency_folk                  0\n",
       "frequency_gospel                0\n",
       "frequency_hip_hop               0\n",
       "frequency_jazz                  0\n",
       "frequency_k_pop                 0\n",
       "frequency_latin                 0\n",
       "frequency_lofi                  0\n",
       "frequency_metal                 0\n",
       "frequency_pop                   0\n",
       "frequency_r&b                   0\n",
       "frequency_rap                   0\n",
       "frequency_rock                  0\n",
       "frequency_video_game_music      0\n",
       "anxiety                         0\n",
       "depression                      0\n",
       "insomnia                        0\n",
       "ocd                             0\n",
       "music_effects                   8\n",
       "permissions                     0\n",
       "dtype: int64"
      ]
     },
     "execution_count": 24,
     "metadata": {},
     "output_type": "execute_result"
    }
   ],
   "source": [
    "df.isna().sum()"
   ]
  },
  {
   "cell_type": "code",
   "execution_count": 25,
   "id": "a62ca53b",
   "metadata": {},
   "outputs": [
    {
     "data": {
      "text/plain": [
       "0      Yes\n",
       "1       No\n",
       "2       No\n",
       "3      Yes\n",
       "4       No\n",
       "      ... \n",
       "731     No\n",
       "732     No\n",
       "733    Yes\n",
       "734     No\n",
       "735     No\n",
       "Name: composer, Length: 734, dtype: object"
      ]
     },
     "execution_count": 25,
     "metadata": {},
     "output_type": "execute_result"
    }
   ],
   "source": [
    "df['composer']"
   ]
  },
  {
   "cell_type": "code",
   "execution_count": 26,
   "id": "d8c7245f",
   "metadata": {},
   "outputs": [
    {
     "name": "stderr",
     "output_type": "stream",
     "text": [
      "C:\\Users\\18016\\AppData\\Local\\Temp\\ipykernel_14788\\4026005507.py:1: SettingWithCopyWarning: \n",
      "A value is trying to be set on a copy of a slice from a DataFrame.\n",
      "Try using .loc[row_indexer,col_indexer] = value instead\n",
      "\n",
      "See the caveats in the documentation: https://pandas.pydata.org/pandas-docs/stable/user_guide/indexing.html#returning-a-view-versus-a-copy\n",
      "  df['composer'] = df['composer'].fillna('No')\n"
     ]
    }
   ],
   "source": [
    "df['composer'] = df['composer'].fillna('No')"
   ]
  },
  {
   "cell_type": "code",
   "execution_count": 27,
   "id": "44332ca7",
   "metadata": {},
   "outputs": [
    {
     "data": {
      "text/plain": [
       "timestamp                       0\n",
       "age                             0\n",
       "primary_streaming_service       0\n",
       "hours_per_day                   0\n",
       "while_working                   0\n",
       "instrumentalist                 0\n",
       "composer                        0\n",
       "fav_genre                       0\n",
       "exploratory                     0\n",
       "foreign_languages               4\n",
       "bpm                           106\n",
       "frequency_classical             0\n",
       "frequency_country               0\n",
       "frequency_edm                   0\n",
       "frequency_folk                  0\n",
       "frequency_gospel                0\n",
       "frequency_hip_hop               0\n",
       "frequency_jazz                  0\n",
       "frequency_k_pop                 0\n",
       "frequency_latin                 0\n",
       "frequency_lofi                  0\n",
       "frequency_metal                 0\n",
       "frequency_pop                   0\n",
       "frequency_r&b                   0\n",
       "frequency_rap                   0\n",
       "frequency_rock                  0\n",
       "frequency_video_game_music      0\n",
       "anxiety                         0\n",
       "depression                      0\n",
       "insomnia                        0\n",
       "ocd                             0\n",
       "music_effects                   8\n",
       "permissions                     0\n",
       "dtype: int64"
      ]
     },
     "execution_count": 27,
     "metadata": {},
     "output_type": "execute_result"
    }
   ],
   "source": [
    "df.isna().sum()"
   ]
  },
  {
   "cell_type": "code",
   "execution_count": 28,
   "id": "9425c54d",
   "metadata": {},
   "outputs": [
    {
     "data": {
      "text/plain": [
       "0      Yes\n",
       "1       No\n",
       "2      Yes\n",
       "3      Yes\n",
       "4       No\n",
       "      ... \n",
       "731    Yes\n",
       "732    Yes\n",
       "733     No\n",
       "734     No\n",
       "735    Yes\n",
       "Name: foreign_languages, Length: 734, dtype: object"
      ]
     },
     "execution_count": 28,
     "metadata": {},
     "output_type": "execute_result"
    }
   ],
   "source": [
    "df['foreign_languages']"
   ]
  },
  {
   "cell_type": "code",
   "execution_count": 29,
   "id": "45aa45c7",
   "metadata": {},
   "outputs": [
    {
     "name": "stderr",
     "output_type": "stream",
     "text": [
      "C:\\Users\\18016\\AppData\\Local\\Temp\\ipykernel_14788\\4105969388.py:1: SettingWithCopyWarning: \n",
      "A value is trying to be set on a copy of a slice from a DataFrame.\n",
      "Try using .loc[row_indexer,col_indexer] = value instead\n",
      "\n",
      "See the caveats in the documentation: https://pandas.pydata.org/pandas-docs/stable/user_guide/indexing.html#returning-a-view-versus-a-copy\n",
      "  df['foreign_languages'] = df['foreign_languages'].fillna('No')\n"
     ]
    }
   ],
   "source": [
    "df['foreign_languages'] = df['foreign_languages'].fillna('No')"
   ]
  },
  {
   "cell_type": "code",
   "execution_count": 30,
   "id": "cb4a363f",
   "metadata": {},
   "outputs": [
    {
     "data": {
      "text/plain": [
       "timestamp                       0\n",
       "age                             0\n",
       "primary_streaming_service       0\n",
       "hours_per_day                   0\n",
       "while_working                   0\n",
       "instrumentalist                 0\n",
       "composer                        0\n",
       "fav_genre                       0\n",
       "exploratory                     0\n",
       "foreign_languages               0\n",
       "bpm                           106\n",
       "frequency_classical             0\n",
       "frequency_country               0\n",
       "frequency_edm                   0\n",
       "frequency_folk                  0\n",
       "frequency_gospel                0\n",
       "frequency_hip_hop               0\n",
       "frequency_jazz                  0\n",
       "frequency_k_pop                 0\n",
       "frequency_latin                 0\n",
       "frequency_lofi                  0\n",
       "frequency_metal                 0\n",
       "frequency_pop                   0\n",
       "frequency_r&b                   0\n",
       "frequency_rap                   0\n",
       "frequency_rock                  0\n",
       "frequency_video_game_music      0\n",
       "anxiety                         0\n",
       "depression                      0\n",
       "insomnia                        0\n",
       "ocd                             0\n",
       "music_effects                   8\n",
       "permissions                     0\n",
       "dtype: int64"
      ]
     },
     "execution_count": 30,
     "metadata": {},
     "output_type": "execute_result"
    }
   ],
   "source": [
    "df.isna().sum()"
   ]
  },
  {
   "cell_type": "code",
   "execution_count": 31,
   "id": "8040b1f5",
   "metadata": {},
   "outputs": [
    {
     "data": {
      "text/plain": [
       "0      156.0\n",
       "1      119.0\n",
       "2      132.0\n",
       "3       84.0\n",
       "4      107.0\n",
       "       ...  \n",
       "731    120.0\n",
       "732    160.0\n",
       "733    120.0\n",
       "734    170.0\n",
       "735     98.0\n",
       "Name: bpm, Length: 734, dtype: float64"
      ]
     },
     "execution_count": 31,
     "metadata": {},
     "output_type": "execute_result"
    }
   ],
   "source": [
    "df['bpm']"
   ]
  },
  {
   "cell_type": "code",
   "execution_count": 32,
   "id": "4630c8f0",
   "metadata": {},
   "outputs": [
    {
     "data": {
      "text/plain": [
       "1592479.974522293"
      ]
     },
     "execution_count": 32,
     "metadata": {},
     "output_type": "execute_result"
    }
   ],
   "source": [
    "df['bpm'].mean()"
   ]
  },
  {
   "cell_type": "code",
   "execution_count": 33,
   "id": "1fed2d80",
   "metadata": {},
   "outputs": [
    {
     "data": {
      "text/plain": [
       "0     156.0\n",
       "1     119.0\n",
       "2     132.0\n",
       "3      84.0\n",
       "4     107.0\n",
       "5      86.0\n",
       "6      66.0\n",
       "7      95.0\n",
       "8      94.0\n",
       "9     155.0\n",
       "10      NaN\n",
       "11    125.0\n",
       "13     88.0\n",
       "14    148.0\n",
       "15      NaN\n",
       "16    103.0\n",
       "17    120.0\n",
       "18     99.0\n",
       "19    120.0\n",
       "20    120.0\n",
       "21    125.0\n",
       "22    118.0\n",
       "23     79.0\n",
       "24     84.0\n",
       "25    169.0\n",
       "26    136.0\n",
       "27    101.0\n",
       "28    126.0\n",
       "29    183.0\n",
       "30      NaN\n",
       "31    120.0\n",
       "32      NaN\n",
       "33    142.0\n",
       "34     75.0\n",
       "35    120.0\n",
       "36     89.0\n",
       "37      NaN\n",
       "38    140.0\n",
       "39    161.0\n",
       "40     80.0\n",
       "41    130.0\n",
       "42    147.0\n",
       "43    120.0\n",
       "44     77.0\n",
       "45    118.0\n",
       "46    132.0\n",
       "47    115.0\n",
       "48    157.0\n",
       "49     90.0\n",
       "50    128.0\n",
       "51    169.0\n",
       "52    140.0\n",
       "53     96.0\n",
       "54    126.0\n",
       "55      NaN\n",
       "Name: bpm, dtype: float64"
      ]
     },
     "execution_count": 33,
     "metadata": {},
     "output_type": "execute_result"
    }
   ],
   "source": [
    "df['bpm'].head(55)"
   ]
  },
  {
   "cell_type": "code",
   "execution_count": 34,
   "id": "48343c92",
   "metadata": {},
   "outputs": [
    {
     "name": "stdout",
     "output_type": "stream",
     "text": [
      "<class 'pandas.core.frame.DataFrame'>\n",
      "Int64Index: 734 entries, 0 to 735\n",
      "Data columns (total 33 columns):\n",
      " #   Column                      Non-Null Count  Dtype  \n",
      "---  ------                      --------------  -----  \n",
      " 0   timestamp                   734 non-null    object \n",
      " 1   age                         734 non-null    float64\n",
      " 2   primary_streaming_service   734 non-null    object \n",
      " 3   hours_per_day               734 non-null    float64\n",
      " 4   while_working               734 non-null    object \n",
      " 5   instrumentalist             734 non-null    object \n",
      " 6   composer                    734 non-null    object \n",
      " 7   fav_genre                   734 non-null    object \n",
      " 8   exploratory                 734 non-null    object \n",
      " 9   foreign_languages           734 non-null    object \n",
      " 10  bpm                         628 non-null    float64\n",
      " 11  frequency_classical         734 non-null    object \n",
      " 12  frequency_country           734 non-null    object \n",
      " 13  frequency_edm               734 non-null    object \n",
      " 14  frequency_folk              734 non-null    object \n",
      " 15  frequency_gospel            734 non-null    object \n",
      " 16  frequency_hip_hop           734 non-null    object \n",
      " 17  frequency_jazz              734 non-null    object \n",
      " 18  frequency_k_pop             734 non-null    object \n",
      " 19  frequency_latin             734 non-null    object \n",
      " 20  frequency_lofi              734 non-null    object \n",
      " 21  frequency_metal             734 non-null    object \n",
      " 22  frequency_pop               734 non-null    object \n",
      " 23  frequency_r&b               734 non-null    object \n",
      " 24  frequency_rap               734 non-null    object \n",
      " 25  frequency_rock              734 non-null    object \n",
      " 26  frequency_video_game_music  734 non-null    object \n",
      " 27  anxiety                     734 non-null    float64\n",
      " 28  depression                  734 non-null    float64\n",
      " 29  insomnia                    734 non-null    float64\n",
      " 30  ocd                         734 non-null    float64\n",
      " 31  music_effects               726 non-null    object \n",
      " 32  permissions                 734 non-null    object \n",
      "dtypes: float64(7), object(26)\n",
      "memory usage: 195.0+ KB\n"
     ]
    }
   ],
   "source": [
    "df.info()"
   ]
  },
  {
   "cell_type": "code",
   "execution_count": 35,
   "id": "07dfdac9",
   "metadata": {},
   "outputs": [
    {
     "data": {
      "text/plain": [
       "120.0"
      ]
     },
     "execution_count": 35,
     "metadata": {},
     "output_type": "execute_result"
    }
   ],
   "source": [
    "df['bpm'].median()"
   ]
  },
  {
   "cell_type": "code",
   "execution_count": 36,
   "id": "f8f66c53",
   "metadata": {},
   "outputs": [
    {
     "name": "stderr",
     "output_type": "stream",
     "text": [
      "C:\\Users\\18016\\AppData\\Local\\Temp\\ipykernel_14788\\793470261.py:1: SettingWithCopyWarning: \n",
      "A value is trying to be set on a copy of a slice from a DataFrame.\n",
      "Try using .loc[row_indexer,col_indexer] = value instead\n",
      "\n",
      "See the caveats in the documentation: https://pandas.pydata.org/pandas-docs/stable/user_guide/indexing.html#returning-a-view-versus-a-copy\n",
      "  df['bpm'] = df['bpm'].fillna(df['bpm'].median())\n"
     ]
    }
   ],
   "source": [
    "df['bpm'] = df['bpm'].fillna(df['bpm'].median())"
   ]
  },
  {
   "cell_type": "code",
   "execution_count": 37,
   "id": "b39177e1",
   "metadata": {
    "scrolled": true
   },
   "outputs": [
    {
     "data": {
      "text/plain": [
       "timestamp                     0\n",
       "age                           0\n",
       "primary_streaming_service     0\n",
       "hours_per_day                 0\n",
       "while_working                 0\n",
       "instrumentalist               0\n",
       "composer                      0\n",
       "fav_genre                     0\n",
       "exploratory                   0\n",
       "foreign_languages             0\n",
       "bpm                           0\n",
       "frequency_classical           0\n",
       "frequency_country             0\n",
       "frequency_edm                 0\n",
       "frequency_folk                0\n",
       "frequency_gospel              0\n",
       "frequency_hip_hop             0\n",
       "frequency_jazz                0\n",
       "frequency_k_pop               0\n",
       "frequency_latin               0\n",
       "frequency_lofi                0\n",
       "frequency_metal               0\n",
       "frequency_pop                 0\n",
       "frequency_r&b                 0\n",
       "frequency_rap                 0\n",
       "frequency_rock                0\n",
       "frequency_video_game_music    0\n",
       "anxiety                       0\n",
       "depression                    0\n",
       "insomnia                      0\n",
       "ocd                           0\n",
       "music_effects                 8\n",
       "permissions                   0\n",
       "dtype: int64"
      ]
     },
     "execution_count": 37,
     "metadata": {},
     "output_type": "execute_result"
    }
   ],
   "source": [
    "df.isna().sum()"
   ]
  },
  {
   "cell_type": "code",
   "execution_count": 38,
   "id": "08cc9ede",
   "metadata": {
    "scrolled": true
   },
   "outputs": [
    {
     "data": {
      "text/plain": [
       "timestamp                     9/4/2022 15:41:59\n",
       "age                                        16.0\n",
       "primary_streaming_service               Spotify\n",
       "hours_per_day                               7.0\n",
       "while_working                               Yes\n",
       "instrumentalist                              No\n",
       "composer                                     No\n",
       "fav_genre                      Video game music\n",
       "exploratory                                 Yes\n",
       "foreign_languages                            No\n",
       "bpm                                 999999999.0\n",
       "frequency_classical                       Never\n",
       "frequency_country                        Rarely\n",
       "frequency_edm                         Sometimes\n",
       "frequency_folk                           Rarely\n",
       "frequency_gospel                          Never\n",
       "frequency_hip_hop                        Rarely\n",
       "frequency_jazz                           Rarely\n",
       "frequency_k_pop                           Never\n",
       "frequency_latin                           Never\n",
       "frequency_lofi                            Never\n",
       "frequency_metal                 Very frequently\n",
       "frequency_pop                         Sometimes\n",
       "frequency_r&b                             Never\n",
       "frequency_rap                   Very frequently\n",
       "frequency_rock                           Rarely\n",
       "frequency_video_game_music            Sometimes\n",
       "anxiety                                     4.0\n",
       "depression                                  8.0\n",
       "insomnia                                    8.0\n",
       "ocd                                         4.0\n",
       "music_effects                         No effect\n",
       "permissions                       I understand.\n",
       "Name: 568, dtype: object"
      ]
     },
     "execution_count": 38,
     "metadata": {},
     "output_type": "execute_result"
    }
   ],
   "source": [
    "df.loc[568]"
   ]
  },
  {
   "cell_type": "code",
   "execution_count": 39,
   "id": "955e02ad",
   "metadata": {},
   "outputs": [],
   "source": [
    "df = df.drop(568)"
   ]
  },
  {
   "cell_type": "code",
   "execution_count": 40,
   "id": "37ff3f59",
   "metadata": {},
   "outputs": [
    {
     "data": {
      "text/plain": [
       "0            NaN\n",
       "1            NaN\n",
       "2      No effect\n",
       "3        Improve\n",
       "4        Improve\n",
       "         ...    \n",
       "731      Improve\n",
       "732      Improve\n",
       "733      Improve\n",
       "734      Improve\n",
       "735      Improve\n",
       "Name: music_effects, Length: 733, dtype: object"
      ]
     },
     "execution_count": 40,
     "metadata": {},
     "output_type": "execute_result"
    }
   ],
   "source": [
    "df['music_effects']"
   ]
  },
  {
   "cell_type": "code",
   "execution_count": 41,
   "id": "7438f4bc",
   "metadata": {},
   "outputs": [],
   "source": [
    "df['music_effects'] = df['music_effects'].fillna('No effect')"
   ]
  },
  {
   "cell_type": "code",
   "execution_count": 42,
   "id": "d4623bcc",
   "metadata": {},
   "outputs": [
    {
     "data": {
      "text/plain": [
       "timestamp                     0\n",
       "age                           0\n",
       "primary_streaming_service     0\n",
       "hours_per_day                 0\n",
       "while_working                 0\n",
       "instrumentalist               0\n",
       "composer                      0\n",
       "fav_genre                     0\n",
       "exploratory                   0\n",
       "foreign_languages             0\n",
       "bpm                           0\n",
       "frequency_classical           0\n",
       "frequency_country             0\n",
       "frequency_edm                 0\n",
       "frequency_folk                0\n",
       "frequency_gospel              0\n",
       "frequency_hip_hop             0\n",
       "frequency_jazz                0\n",
       "frequency_k_pop               0\n",
       "frequency_latin               0\n",
       "frequency_lofi                0\n",
       "frequency_metal               0\n",
       "frequency_pop                 0\n",
       "frequency_r&b                 0\n",
       "frequency_rap                 0\n",
       "frequency_rock                0\n",
       "frequency_video_game_music    0\n",
       "anxiety                       0\n",
       "depression                    0\n",
       "insomnia                      0\n",
       "ocd                           0\n",
       "music_effects                 0\n",
       "permissions                   0\n",
       "dtype: int64"
      ]
     },
     "execution_count": 42,
     "metadata": {},
     "output_type": "execute_result"
    }
   ],
   "source": [
    "df.isna().sum()"
   ]
  },
  {
   "cell_type": "code",
   "execution_count": 43,
   "id": "40a06467",
   "metadata": {},
   "outputs": [
    {
     "data": {
      "text/plain": [
       "<AxesSubplot:>"
      ]
     },
     "execution_count": 43,
     "metadata": {},
     "output_type": "execute_result"
    },
    {
     "data": {
      "image/png": "[encoded data removed]",
      "text/plain": [
       "<Figure size 432x288 with 1 Axes>"
      ]
     },
     "metadata": {
      "needs_background": "light"
     },
     "output_type": "display_data"
    }
   ],
   "source": [
    "sns.boxplot(data=df['age'])"
   ]
  },
  {
   "cell_type": "code",
   "execution_count": 44,
   "id": "42eda147",
   "metadata": {
    "scrolled": true
   },
   "outputs": [
    {
     "data": {
      "text/plain": [
       "<AxesSubplot:>"
      ]
     },
     "execution_count": 44,
     "metadata": {},
     "output_type": "execute_result"
    },
    {
     "data": {
      "image/png": "[encoded data removed]",
      "text/plain": [
       "<Figure size 432x288 with 1 Axes>"
      ]
     },
     "metadata": {
      "needs_background": "light"
     },
     "output_type": "display_data"
    }
   ],
   "source": [
    "sns.boxplot(data=df['hours_per_day'])"
   ]
  },
  {
   "cell_type": "code",
   "execution_count": 45,
   "id": "50726042",
   "metadata": {},
   "outputs": [
    {
     "data": {
      "text/plain": [
       "0               Rarely\n",
       "1                Never\n",
       "2      Very frequently\n",
       "3                Never\n",
       "4               Rarely\n",
       "            ...       \n",
       "731              Never\n",
       "732              Never\n",
       "733          Sometimes\n",
       "734              Never\n",
       "735    Very frequently\n",
       "Name: frequency_edm, Length: 733, dtype: object"
      ]
     },
     "execution_count": 45,
     "metadata": {},
     "output_type": "execute_result"
    }
   ],
   "source": [
    "df['frequency_edm']"
   ]
  },
  {
   "cell_type": "code",
   "execution_count": 46,
   "id": "d41387ec",
   "metadata": {},
   "outputs": [
    {
     "data": {
      "text/plain": [
       "Text(0, 0.5, '% of Respondents')"
      ]
     },
     "execution_count": 46,
     "metadata": {},
     "output_type": "execute_result"
    },
    {
     "data": {
      "image/png": "[encoded data removed]",
      "text/plain": [
       "<Figure size 1296x432 with 1 Axes>"
      ]
     },
     "metadata": {
      "needs_background": "light"
     },
     "output_type": "display_data"
    }
   ],
   "source": [
    "from matplotlib.ticker import PercentFormatter\n",
    "plt.figure(figsize=(18,6))\n",
    "plt.hist(data=df, x='frequency_classical', weights=np.ones(len(df)) / len(df))\n",
    "plt.gca().yaxis.set_major_formatter(PercentFormatter(1))\n",
    "plt.title(\"Respondents' Frequency of Classical Music Listening\", fontsize=16)\n",
    "plt.xlabel('Frequency', fontsize=12)\n",
    "plt.ylabel('% of Respondents', fontsize=12)"
   ]
  },
  {
   "cell_type": "code",
   "execution_count": 47,
   "id": "f3170773",
   "metadata": {},
   "outputs": [
    {
     "data": {
      "text/plain": [
       "Text(0, 0.5, '% of Respondents')"
      ]
     },
     "execution_count": 47,
     "metadata": {},
     "output_type": "execute_result"
    },
    {
     "data": {
      "image/png": "[encoded data removed]",
      "text/plain": [
       "<Figure size 1296x432 with 1 Axes>"
      ]
     },
     "metadata": {
      "needs_background": "light"
     },
     "output_type": "display_data"
    }
   ],
   "source": [
    "plt.figure(figsize=(18,6))\n",
    "plt.hist(data=df, x='frequency_country', weights=np.ones(len(df)) / len(df))\n",
    "plt.gca().yaxis.set_major_formatter(PercentFormatter(1))\n",
    "plt.title(\"Respondents' Frequency of Country Music Listening\", fontsize=16)\n",
    "plt.xlabel('Frequency', fontsize=12)\n",
    "plt.ylabel('% of Respondents', fontsize=12)"
   ]
  },
  {
   "cell_type": "code",
   "execution_count": 48,
   "id": "f1df74ef",
   "metadata": {},
   "outputs": [
    {
     "data": {
      "text/plain": [
       "Text(0, 0.5, '% of Respondents')"
      ]
     },
     "execution_count": 48,
     "metadata": {},
     "output_type": "execute_result"
    },
    {
     "data": {
      "image/png": "[encoded data removed]",
      "text/plain": [
       "<Figure size 1296x432 with 1 Axes>"
      ]
     },
     "metadata": {
      "needs_background": "light"
     },
     "output_type": "display_data"
    }
   ],
   "source": [
    "plt.figure(figsize=(18,6))\n",
    "plt.hist(data=df, x='frequency_edm', weights=np.ones(len(df)) / len(df))\n",
    "plt.gca().yaxis.set_major_formatter(PercentFormatter(1))\n",
    "plt.title(\"Respondents' Frequency of EDM Music Listening\", fontsize=16)\n",
    "plt.xlabel('Frequency', fontsize=12)\n",
    "plt.ylabel('% of Respondents', fontsize=12)"
   ]
  },
  {
   "cell_type": "code",
   "execution_count": 49,
   "id": "3c419f1c",
   "metadata": {},
   "outputs": [
    {
     "data": {
      "text/plain": [
       "Text(0, 0.5, '% of Respondents')"
      ]
     },
     "execution_count": 49,
     "metadata": {},
     "output_type": "execute_result"
    },
    {
     "data": {
      "image/png": "[encoded data removed]",
      "text/plain": [
       "<Figure size 1296x432 with 1 Axes>"
      ]
     },
     "metadata": {
      "needs_background": "light"
     },
     "output_type": "display_data"
    }
   ],
   "source": [
    "plt.figure(figsize=(18,6))\n",
    "plt.hist(data=df, x='frequency_folk', weights=np.ones(len(df)) / len(df))\n",
    "plt.gca().yaxis.set_major_formatter(PercentFormatter(1))\n",
    "plt.title(\"Respondents' Frequency of Folk Music Listening\", fontsize=16)\n",
    "plt.xlabel('Frequency', fontsize=12)\n",
    "plt.ylabel('% of Respondents', fontsize=12)"
   ]
  },
  {
   "cell_type": "code",
   "execution_count": 50,
   "id": "80c5a583",
   "metadata": {},
   "outputs": [
    {
     "data": {
      "text/plain": [
       "Text(0, 0.5, '% of Respondents')"
      ]
     },
     "execution_count": 50,
     "metadata": {},
     "output_type": "execute_result"
    },
    {
     "data": {
      "image/png": "[encoded data removed]",
      "text/plain": [
       "<Figure size 1296x432 with 1 Axes>"
      ]
     },
     "metadata": {
      "needs_background": "light"
     },
     "output_type": "display_data"
    }
   ],
   "source": [
    "plt.figure(figsize=(18,6))\n",
    "plt.hist(data=df, x='frequency_gospel', weights=np.ones(len(df)) / len(df))\n",
    "plt.gca().yaxis.set_major_formatter(PercentFormatter(1))\n",
    "plt.title(\"Respondents' Frequency of Gospel Music Listening\", fontsize=16)\n",
    "plt.xlabel('Frequency', fontsize=12)\n",
    "plt.ylabel('% of Respondents', fontsize=12)"
   ]
  },
  {
   "cell_type": "code",
   "execution_count": 51,
   "id": "406cb82f",
   "metadata": {},
   "outputs": [
    {
     "data": {
      "text/plain": [
       "Text(0, 0.5, '% of Respondents')"
      ]
     },
     "execution_count": 51,
     "metadata": {},
     "output_type": "execute_result"
    },
    {
     "data": {
      "image/png": "[encoded data removed]",
      "text/plain": [
       "<Figure size 1296x432 with 1 Axes>"
      ]
     },
     "metadata": {
      "needs_background": "light"
     },
     "output_type": "display_data"
    }
   ],
   "source": [
    "plt.figure(figsize=(18,6))\n",
    "plt.hist(data=df, x='frequency_hip_hop', weights=np.ones(len(df)) / len(df))\n",
    "plt.gca().yaxis.set_major_formatter(PercentFormatter(1))\n",
    "plt.title(\"Respondents' Frequency of Hip Hop Music Listening\", fontsize=16)\n",
    "plt.xlabel('Frequency', fontsize=12)\n",
    "plt.ylabel('% of Respondents', fontsize=12)"
   ]
  },
  {
   "cell_type": "code",
   "execution_count": 52,
   "id": "a88e80f1",
   "metadata": {},
   "outputs": [
    {
     "data": {
      "text/plain": [
       "Text(0, 0.5, '% of Respondents')"
      ]
     },
     "execution_count": 52,
     "metadata": {},
     "output_type": "execute_result"
    },
    {
     "data": {
      "image/png": "[encoded data removed]",
      "text/plain": [
       "<Figure size 1296x432 with 1 Axes>"
      ]
     },
     "metadata": {
      "needs_background": "light"
     },
     "output_type": "display_data"
    }
   ],
   "source": [
    "plt.figure(figsize=(18,6))\n",
    "plt.hist(data=df, x='frequency_jazz', weights=np.ones(len(df)) / len(df))\n",
    "plt.gca().yaxis.set_major_formatter(PercentFormatter(1))\n",
    "plt.title(\"Respondents' Frequency of Jazz Music Listening\", fontsize=16)\n",
    "plt.xlabel('Frequency', fontsize=12)\n",
    "plt.ylabel('% of Respondents', fontsize=12)"
   ]
  },
  {
   "cell_type": "code",
   "execution_count": 53,
   "id": "ef6b5166",
   "metadata": {},
   "outputs": [
    {
     "data": {
      "text/plain": [
       "Text(0, 0.5, '% of Respondents')"
      ]
     },
     "execution_count": 53,
     "metadata": {},
     "output_type": "execute_result"
    },
    {
     "data": {
      "image/png": "[encoded data removed]",
      "text/plain": [
       "<Figure size 1296x432 with 1 Axes>"
      ]
     },
     "metadata": {
      "needs_background": "light"
     },
     "output_type": "display_data"
    }
   ],
   "source": [
    "plt.figure(figsize=(18,6))\n",
    "plt.hist(data=df, x='frequency_k_pop', weights=np.ones(len(df)) / len(df))\n",
    "plt.gca().yaxis.set_major_formatter(PercentFormatter(1))\n",
    "plt.title(\"Respondents' Frequency of Korean Pop Music Listening\", fontsize=16)\n",
    "plt.xlabel('Frequency', fontsize=12)\n",
    "plt.ylabel('% of Respondents', fontsize=12)"
   ]
  },
  {
   "cell_type": "code",
   "execution_count": 54,
   "id": "ba7f93da",
   "metadata": {},
   "outputs": [
    {
     "data": {
      "text/plain": [
       "Text(0, 0.5, '% of Respondents')"
      ]
     },
     "execution_count": 54,
     "metadata": {},
     "output_type": "execute_result"
    },
    {
     "data": {
      "image/png": "[encoded data removed]",
      "text/plain": [
       "<Figure size 1296x432 with 1 Axes>"
      ]
     },
     "metadata": {
      "needs_background": "light"
     },
     "output_type": "display_data"
    }
   ],
   "source": [
    "plt.figure(figsize=(18,6))\n",
    "plt.hist(data=df, x='frequency_latin', weights=np.ones(len(df)) / len(df))\n",
    "plt.gca().yaxis.set_major_formatter(PercentFormatter(1))\n",
    "plt.title(\"Respondents' Frequency of Latin Music Listening\", fontsize=16)\n",
    "plt.xlabel('Frequency', fontsize=12)\n",
    "plt.ylabel('% of Respondents', fontsize=12)"
   ]
  },
  {
   "cell_type": "code",
   "execution_count": 55,
   "id": "a75bdc1d",
   "metadata": {},
   "outputs": [
    {
     "data": {
      "text/plain": [
       "Text(0, 0.5, '% of Respondents')"
      ]
     },
     "execution_count": 55,
     "metadata": {},
     "output_type": "execute_result"
    },
    {
     "data": {
      "image/png": "[encoded data removed]",
      "text/plain": [
       "<Figure size 1296x432 with 1 Axes>"
      ]
     },
     "metadata": {
      "needs_background": "light"
     },
     "output_type": "display_data"
    }
   ],
   "source": [
    "plt.figure(figsize=(18,6))\n",
    "plt.hist(data=df, x='frequency_lofi', weights=np.ones(len(df)) / len(df))\n",
    "plt.gca().yaxis.set_major_formatter(PercentFormatter(1))\n",
    "plt.title(\"Respondents' Frequency of Lofi Music Listening\", fontsize=16)\n",
    "plt.xlabel('Frequency', fontsize=12)\n",
    "plt.ylabel('% of Respondents', fontsize=12)"
   ]
  },
  {
   "cell_type": "code",
   "execution_count": 56,
   "id": "894edf4e",
   "metadata": {},
   "outputs": [
    {
     "data": {
      "text/plain": [
       "Text(0, 0.5, '% of Respondents')"
      ]
     },
     "execution_count": 56,
     "metadata": {},
     "output_type": "execute_result"
    },
    {
     "data": {
      "image/png": "[encoded data removed]",
      "text/plain": [
       "<Figure size 1296x432 with 1 Axes>"
      ]
     },
     "metadata": {
      "needs_background": "light"
     },
     "output_type": "display_data"
    }
   ],
   "source": [
    "plt.figure(figsize=(18,6))\n",
    "plt.hist(data=df, x='frequency_metal', weights=np.ones(len(df)) / len(df))\n",
    "plt.gca().yaxis.set_major_formatter(PercentFormatter(1))\n",
    "plt.title(\"Respondents' Frequency of Metal Music Listening\", fontsize=16)\n",
    "plt.xlabel('Frequency', fontsize=12)\n",
    "plt.ylabel('% of Respondents', fontsize=12)"
   ]
  },
  {
   "cell_type": "code",
   "execution_count": 57,
   "id": "f970c980",
   "metadata": {},
   "outputs": [
    {
     "data": {
      "text/plain": [
       "Text(0, 0.5, '% of Respondents')"
      ]
     },
     "execution_count": 57,
     "metadata": {},
     "output_type": "execute_result"
    },
    {
     "data": {
      "image/png": "[encoded data removed]",
      "text/plain": [
       "<Figure size 1296x432 with 1 Axes>"
      ]
     },
     "metadata": {
      "needs_background": "light"
     },
     "output_type": "display_data"
    }
   ],
   "source": [
    "plt.figure(figsize=(18,6))\n",
    "plt.hist(data=df, x='frequency_pop', weights=np.ones(len(df)) / len(df))\n",
    "plt.gca().yaxis.set_major_formatter(PercentFormatter(1))\n",
    "plt.title(\"Respondents' Frequency of Pop Music Listening\", fontsize=16)\n",
    "plt.xlabel('Frequency', fontsize=12)\n",
    "plt.ylabel('% of Respondents', fontsize=12)"
   ]
  },
  {
   "cell_type": "code",
   "execution_count": 58,
   "id": "71cfd273",
   "metadata": {},
   "outputs": [
    {
     "data": {
      "text/plain": [
       "Text(0, 0.5, '% of Respondents')"
      ]
     },
     "execution_count": 58,
     "metadata": {},
     "output_type": "execute_result"
    },
    {
     "data": {
      "image/png": "[encoded data removed]",
      "text/plain": [
       "<Figure size 1296x432 with 1 Axes>"
      ]
     },
     "metadata": {
      "needs_background": "light"
     },
     "output_type": "display_data"
    }
   ],
   "source": [
    "plt.figure(figsize=(18,6))\n",
    "plt.hist(data=df, x='frequency_r&b', weights=np.ones(len(df)) / len(df))\n",
    "plt.gca().yaxis.set_major_formatter(PercentFormatter(1))\n",
    "plt.title(\"Respondents' Frequency of R&B Music Listening\", fontsize=16)\n",
    "plt.xlabel('Frequency', fontsize=12)\n",
    "plt.ylabel('% of Respondents', fontsize=12)"
   ]
  },
  {
   "cell_type": "code",
   "execution_count": 59,
   "id": "971e7cab",
   "metadata": {},
   "outputs": [
    {
     "data": {
      "text/plain": [
       "Text(0, 0.5, '% of Respondents')"
      ]
     },
     "execution_count": 59,
     "metadata": {},
     "output_type": "execute_result"
    },
    {
     "data": {
      "image/png": "[encoded data removed]",
      "text/plain": [
       "<Figure size 1296x432 with 1 Axes>"
      ]
     },
     "metadata": {
      "needs_background": "light"
     },
     "output_type": "display_data"
    }
   ],
   "source": [
    "plt.figure(figsize=(18,6))\n",
    "plt.hist(data=df, x='frequency_rap', weights=np.ones(len(df)) / len(df))\n",
    "plt.gca().yaxis.set_major_formatter(PercentFormatter(1))\n",
    "plt.title(\"Respondents' Frequency of Rap Music Listening\", fontsize=16)\n",
    "plt.xlabel('Frequency', fontsize=12)\n",
    "plt.ylabel('% of Respondents', fontsize=12)"
   ]
  },
  {
   "cell_type": "code",
   "execution_count": 60,
   "id": "b1e4ee25",
   "metadata": {},
   "outputs": [
    {
     "data": {
      "text/plain": [
       "Text(0, 0.5, '% of Respondents')"
      ]
     },
     "execution_count": 60,
     "metadata": {},
     "output_type": "execute_result"
    },
    {
     "data": {
      "image/png": "[encoded data removed]",
      "text/plain": [
       "<Figure size 1296x432 with 1 Axes>"
      ]
     },
     "metadata": {
      "needs_background": "light"
     },
     "output_type": "display_data"
    }
   ],
   "source": [
    "plt.figure(figsize=(18,6))\n",
    "plt.hist(data=df, x='frequency_rock', weights=np.ones(len(df)) / len(df))\n",
    "plt.gca().yaxis.set_major_formatter(PercentFormatter(1))\n",
    "plt.title(\"Respondents' Frequency of Rock Music Listening\", fontsize=16)\n",
    "plt.xlabel('Frequency', fontsize=12)\n",
    "plt.ylabel('% of Respondents', fontsize=12)"
   ]
  },
  {
   "cell_type": "code",
   "execution_count": 61,
   "id": "9d3ee50d",
   "metadata": {},
   "outputs": [
    {
     "data": {
      "text/plain": [
       "Text(0, 0.5, '% of Respondents')"
      ]
     },
     "execution_count": 61,
     "metadata": {},
     "output_type": "execute_result"
    },
    {
     "data": {
      "image/png": "[encoded data removed]",
      "text/plain": [
       "<Figure size 1296x432 with 1 Axes>"
      ]
     },
     "metadata": {
      "needs_background": "light"
     },
     "output_type": "display_data"
    }
   ],
   "source": [
    "plt.figure(figsize=(18,6))\n",
    "plt.hist(data=df, x='frequency_video_game_music', weights=np.ones(len(df)) / len(df))\n",
    "plt.gca().yaxis.set_major_formatter(PercentFormatter(1))\n",
    "plt.title(\"Respondents' Frequency of Video Game Music Listening\", fontsize=16)\n",
    "plt.xlabel('Frequency', fontsize=12)\n",
    "plt.ylabel('% of Respondents', fontsize=12)"
   ]
  },
  {
   "cell_type": "code",
   "execution_count": 62,
   "id": "c2871a42",
   "metadata": {},
   "outputs": [
    {
     "data": {
      "text/plain": [
       "Text(0, 0.5, '% of Respondents')"
      ]
     },
     "execution_count": 62,
     "metadata": {},
     "output_type": "execute_result"
    },
    {
     "data": {
      "image/png": "[encoded data removed]",
      "text/plain": [
       "<Figure size 1584x576 with 1 Axes>"
      ]
     },
     "metadata": {
      "needs_background": "light"
     },
     "output_type": "display_data"
    }
   ],
   "source": [
    "plt.figure(figsize=(22,8))\n",
    "plt.hist(data=df, x='primary_streaming_service', weights=np.ones(len(df)) / len(df))\n",
    "plt.gca().yaxis.set_major_formatter(PercentFormatter(1))\n",
    "plt.title(\"Respondents' Primary Streaming Service\", fontsize=16)\n",
    "plt.xlabel('Streaming Service', fontsize=12)\n",
    "plt.ylabel('% of Respondents', fontsize=12)"
   ]
  },
  {
   "cell_type": "markdown",
   "id": "7e271499",
   "metadata": {},
   "source": [
    "### Questions ####\n",
    "#### -What types of music are higher in BPM? ####\n",
    "#### -Is there correlation between certain genres of music and mental health disorders? ####\n",
    "#### -What genres of music have the most positive impact on the respondents? ####\n",
    "#### -Is there correlation between being an instrumentalist or a composer and mental health disorders? ####\n",
    "#### -Is age a factor in types of music as well as mental health disorders? ####"
   ]
  },
  {
   "cell_type": "code",
   "execution_count": 198,
   "id": "001f570e",
   "metadata": {},
   "outputs": [],
   "source": [
    "df_grouped = df.groupby(['fav_genre']).mean().reset_index()"
   ]
  },
  {
   "cell_type": "code",
   "execution_count": 199,
   "id": "9078775d",
   "metadata": {
    "scrolled": true
   },
   "outputs": [
    {
     "data": {
      "text/html": [
       "<div>\n",
       "<style scoped>\n",
       "    .dataframe tbody tr th:only-of-type {\n",
       "        vertical-align: middle;\n",
       "    }\n",
       "\n",
       "    .dataframe tbody tr th {\n",
       "        vertical-align: top;\n",
       "    }\n",
       "\n",
       "    .dataframe thead th {\n",
       "        text-align: right;\n",
       "    }\n",
       "</style>\n",
       "<table border=\"1\" class=\"dataframe\">\n",
       "  <thead>\n",
       "    <tr style=\"text-align: right;\">\n",
       "      <th></th>\n",
       "      <th>fav_genre</th>\n",
       "      <th>age</th>\n",
       "      <th>hours_per_day</th>\n",
       "      <th>bpm</th>\n",
       "      <th>anxiety</th>\n",
       "      <th>depression</th>\n",
       "      <th>insomnia</th>\n",
       "      <th>ocd</th>\n",
       "    </tr>\n",
       "  </thead>\n",
       "  <tbody>\n",
       "    <tr>\n",
       "      <th>0</th>\n",
       "      <td>Classical</td>\n",
       "      <td>26.226415</td>\n",
       "      <td>2.882075</td>\n",
       "      <td>115.905660</td>\n",
       "      <td>4.886792</td>\n",
       "      <td>4.075472</td>\n",
       "      <td>3.792453</td>\n",
       "      <td>2.377358</td>\n",
       "    </tr>\n",
       "    <tr>\n",
       "      <th>1</th>\n",
       "      <td>Country</td>\n",
       "      <td>25.541667</td>\n",
       "      <td>3.354167</td>\n",
       "      <td>112.875000</td>\n",
       "      <td>5.250000</td>\n",
       "      <td>4.166667</td>\n",
       "      <td>2.458333</td>\n",
       "      <td>2.583333</td>\n",
       "    </tr>\n",
       "    <tr>\n",
       "      <th>2</th>\n",
       "      <td>EDM</td>\n",
       "      <td>22.054054</td>\n",
       "      <td>4.594595</td>\n",
       "      <td>146.756757</td>\n",
       "      <td>5.486486</td>\n",
       "      <td>5.243243</td>\n",
       "      <td>3.972973</td>\n",
       "      <td>3.000000</td>\n",
       "    </tr>\n",
       "    <tr>\n",
       "      <th>3</th>\n",
       "      <td>Folk</td>\n",
       "      <td>25.800000</td>\n",
       "      <td>3.236667</td>\n",
       "      <td>110.933333</td>\n",
       "      <td>6.566667</td>\n",
       "      <td>5.066667</td>\n",
       "      <td>3.633333</td>\n",
       "      <td>2.200000</td>\n",
       "    </tr>\n",
       "    <tr>\n",
       "      <th>4</th>\n",
       "      <td>Gospel</td>\n",
       "      <td>55.666667</td>\n",
       "      <td>2.375000</td>\n",
       "      <td>99.500000</td>\n",
       "      <td>4.833333</td>\n",
       "      <td>2.666667</td>\n",
       "      <td>5.333333</td>\n",
       "      <td>0.333333</td>\n",
       "    </tr>\n",
       "    <tr>\n",
       "      <th>5</th>\n",
       "      <td>Hip hop</td>\n",
       "      <td>23.441176</td>\n",
       "      <td>3.955882</td>\n",
       "      <td>112.382353</td>\n",
       "      <td>6.117647</td>\n",
       "      <td>5.882353</td>\n",
       "      <td>3.470588</td>\n",
       "      <td>2.588235</td>\n",
       "    </tr>\n",
       "    <tr>\n",
       "      <th>6</th>\n",
       "      <td>Jazz</td>\n",
       "      <td>25.450000</td>\n",
       "      <td>5.425000</td>\n",
       "      <td>124.250000</td>\n",
       "      <td>5.900000</td>\n",
       "      <td>4.500000</td>\n",
       "      <td>3.850000</td>\n",
       "      <td>2.800000</td>\n",
       "    </tr>\n",
       "    <tr>\n",
       "      <th>7</th>\n",
       "      <td>K pop</td>\n",
       "      <td>18.423077</td>\n",
       "      <td>4.000000</td>\n",
       "      <td>128.230769</td>\n",
       "      <td>6.230769</td>\n",
       "      <td>4.423077</td>\n",
       "      <td>3.461538</td>\n",
       "      <td>2.538462</td>\n",
       "    </tr>\n",
       "    <tr>\n",
       "      <th>8</th>\n",
       "      <td>Latin</td>\n",
       "      <td>17.666667</td>\n",
       "      <td>6.666667</td>\n",
       "      <td>133.666667</td>\n",
       "      <td>4.333333</td>\n",
       "      <td>3.000000</td>\n",
       "      <td>3.333333</td>\n",
       "      <td>1.666667</td>\n",
       "    </tr>\n",
       "    <tr>\n",
       "      <th>9</th>\n",
       "      <td>Lofi</td>\n",
       "      <td>22.100000</td>\n",
       "      <td>4.200000</td>\n",
       "      <td>114.300000</td>\n",
       "      <td>6.100000</td>\n",
       "      <td>6.600000</td>\n",
       "      <td>5.600000</td>\n",
       "      <td>3.400000</td>\n",
       "    </tr>\n",
       "    <tr>\n",
       "      <th>10</th>\n",
       "      <td>Metal</td>\n",
       "      <td>25.113636</td>\n",
       "      <td>3.596591</td>\n",
       "      <td>136.931818</td>\n",
       "      <td>5.761364</td>\n",
       "      <td>5.068182</td>\n",
       "      <td>4.556818</td>\n",
       "      <td>2.397727</td>\n",
       "    </tr>\n",
       "    <tr>\n",
       "      <th>11</th>\n",
       "      <td>Pop</td>\n",
       "      <td>23.254386</td>\n",
       "      <td>2.907895</td>\n",
       "      <td>119.070175</td>\n",
       "      <td>6.074561</td>\n",
       "      <td>4.486842</td>\n",
       "      <td>3.368421</td>\n",
       "      <td>2.855263</td>\n",
       "    </tr>\n",
       "    <tr>\n",
       "      <th>12</th>\n",
       "      <td>R&amp;B</td>\n",
       "      <td>25.342857</td>\n",
       "      <td>3.471429</td>\n",
       "      <td>115.000000</td>\n",
       "      <td>5.171429</td>\n",
       "      <td>3.828571</td>\n",
       "      <td>2.885714</td>\n",
       "      <td>2.742857</td>\n",
       "    </tr>\n",
       "    <tr>\n",
       "      <th>13</th>\n",
       "      <td>Rap</td>\n",
       "      <td>21.772727</td>\n",
       "      <td>5.318182</td>\n",
       "      <td>126.454545</td>\n",
       "      <td>5.090909</td>\n",
       "      <td>4.000000</td>\n",
       "      <td>2.272727</td>\n",
       "      <td>3.181818</td>\n",
       "    </tr>\n",
       "    <tr>\n",
       "      <th>14</th>\n",
       "      <td>Rock</td>\n",
       "      <td>28.420213</td>\n",
       "      <td>3.634043</td>\n",
       "      <td>123.255319</td>\n",
       "      <td>6.122340</td>\n",
       "      <td>5.236702</td>\n",
       "      <td>3.880319</td>\n",
       "      <td>2.678191</td>\n",
       "    </tr>\n",
       "    <tr>\n",
       "      <th>15</th>\n",
       "      <td>Video game music</td>\n",
       "      <td>21.720930</td>\n",
       "      <td>2.819767</td>\n",
       "      <td>119.790698</td>\n",
       "      <td>5.930233</td>\n",
       "      <td>4.395349</td>\n",
       "      <td>3.906977</td>\n",
       "      <td>2.348837</td>\n",
       "    </tr>\n",
       "  </tbody>\n",
       "</table>\n",
       "</div>"
      ],
      "text/plain": [
       "           fav_genre        age  hours_per_day         bpm   anxiety  \\\n",
       "0          Classical  26.226415       2.882075  115.905660  4.886792   \n",
       "1            Country  25.541667       3.354167  112.875000  5.250000   \n",
       "2                EDM  22.054054       4.594595  146.756757  5.486486   \n",
       "3               Folk  25.800000       3.236667  110.933333  6.566667   \n",
       "4             Gospel  55.666667       2.375000   99.500000  4.833333   \n",
       "5            Hip hop  23.441176       3.955882  112.382353  6.117647   \n",
       "6               Jazz  25.450000       5.425000  124.250000  5.900000   \n",
       "7              K pop  18.423077       4.000000  128.230769  6.230769   \n",
       "8              Latin  17.666667       6.666667  133.666667  4.333333   \n",
       "9               Lofi  22.100000       4.200000  114.300000  6.100000   \n",
       "10             Metal  25.113636       3.596591  136.931818  5.761364   \n",
       "11               Pop  23.254386       2.907895  119.070175  6.074561   \n",
       "12               R&B  25.342857       3.471429  115.000000  5.171429   \n",
       "13               Rap  21.772727       5.318182  126.454545  5.090909   \n",
       "14              Rock  28.420213       3.634043  123.255319  6.122340   \n",
       "15  Video game music  21.720930       2.819767  119.790698  5.930233   \n",
       "\n",
       "    depression  insomnia       ocd  \n",
       "0     4.075472  3.792453  2.377358  \n",
       "1     4.166667  2.458333  2.583333  \n",
       "2     5.243243  3.972973  3.000000  \n",
       "3     5.066667  3.633333  2.200000  \n",
       "4     2.666667  5.333333  0.333333  \n",
       "5     5.882353  3.470588  2.588235  \n",
       "6     4.500000  3.850000  2.800000  \n",
       "7     4.423077  3.461538  2.538462  \n",
       "8     3.000000  3.333333  1.666667  \n",
       "9     6.600000  5.600000  3.400000  \n",
       "10    5.068182  4.556818  2.397727  \n",
       "11    4.486842  3.368421  2.855263  \n",
       "12    3.828571  2.885714  2.742857  \n",
       "13    4.000000  2.272727  3.181818  \n",
       "14    5.236702  3.880319  2.678191  \n",
       "15    4.395349  3.906977  2.348837  "
      ]
     },
     "execution_count": 199,
     "metadata": {},
     "output_type": "execute_result"
    }
   ],
   "source": [
    "df_grouped"
   ]
  },
  {
   "cell_type": "code",
   "execution_count": 208,
   "id": "472d21ae",
   "metadata": {},
   "outputs": [
    {
     "data": {
      "text/html": [
       "<div>\n",
       "<style scoped>\n",
       "    .dataframe tbody tr th:only-of-type {\n",
       "        vertical-align: middle;\n",
       "    }\n",
       "\n",
       "    .dataframe tbody tr th {\n",
       "        vertical-align: top;\n",
       "    }\n",
       "\n",
       "    .dataframe thead th {\n",
       "        text-align: right;\n",
       "    }\n",
       "</style>\n",
       "<table border=\"1\" class=\"dataframe\">\n",
       "  <thead>\n",
       "    <tr style=\"text-align: right;\">\n",
       "      <th></th>\n",
       "      <th>fav_genre</th>\n",
       "      <th>age</th>\n",
       "      <th>hours_per_day</th>\n",
       "      <th>bpm</th>\n",
       "      <th>anxiety</th>\n",
       "      <th>depression</th>\n",
       "      <th>insomnia</th>\n",
       "      <th>ocd</th>\n",
       "      <th>age_rank</th>\n",
       "      <th>hours_rank</th>\n",
       "      <th>bpm_rank</th>\n",
       "      <th>anxiety_rank</th>\n",
       "      <th>depression_rank</th>\n",
       "      <th>insomnia_rank</th>\n",
       "      <th>ocd_rank</th>\n",
       "    </tr>\n",
       "  </thead>\n",
       "  <tbody>\n",
       "    <tr>\n",
       "      <th>0</th>\n",
       "      <td>Classical</td>\n",
       "      <td>26.226415</td>\n",
       "      <td>2.882075</td>\n",
       "      <td>115.905660</td>\n",
       "      <td>4.886792</td>\n",
       "      <td>4.075472</td>\n",
       "      <td>3.792453</td>\n",
       "      <td>2.377358</td>\n",
       "      <td>3.0</td>\n",
       "      <td>3</td>\n",
       "      <td>7</td>\n",
       "      <td>3</td>\n",
       "      <td>5</td>\n",
       "      <td>9</td>\n",
       "      <td>5</td>\n",
       "    </tr>\n",
       "    <tr>\n",
       "      <th>1</th>\n",
       "      <td>Country</td>\n",
       "      <td>25.541667</td>\n",
       "      <td>3.354167</td>\n",
       "      <td>112.875000</td>\n",
       "      <td>5.250000</td>\n",
       "      <td>4.166667</td>\n",
       "      <td>2.458333</td>\n",
       "      <td>2.583333</td>\n",
       "      <td>5.0</td>\n",
       "      <td>6</td>\n",
       "      <td>4</td>\n",
       "      <td>6</td>\n",
       "      <td>6</td>\n",
       "      <td>2</td>\n",
       "      <td>8</td>\n",
       "    </tr>\n",
       "    <tr>\n",
       "      <th>2</th>\n",
       "      <td>EDM</td>\n",
       "      <td>22.054054</td>\n",
       "      <td>4.594595</td>\n",
       "      <td>146.756757</td>\n",
       "      <td>5.486486</td>\n",
       "      <td>5.243243</td>\n",
       "      <td>3.972973</td>\n",
       "      <td>3.000000</td>\n",
       "      <td>12.0</td>\n",
       "      <td>13</td>\n",
       "      <td>16</td>\n",
       "      <td>7</td>\n",
       "      <td>14</td>\n",
       "      <td>13</td>\n",
       "      <td>14</td>\n",
       "    </tr>\n",
       "    <tr>\n",
       "      <th>3</th>\n",
       "      <td>Folk</td>\n",
       "      <td>25.800000</td>\n",
       "      <td>3.236667</td>\n",
       "      <td>110.933333</td>\n",
       "      <td>6.566667</td>\n",
       "      <td>5.066667</td>\n",
       "      <td>3.633333</td>\n",
       "      <td>2.200000</td>\n",
       "      <td>4.0</td>\n",
       "      <td>5</td>\n",
       "      <td>2</td>\n",
       "      <td>16</td>\n",
       "      <td>11</td>\n",
       "      <td>8</td>\n",
       "      <td>3</td>\n",
       "    </tr>\n",
       "    <tr>\n",
       "      <th>4</th>\n",
       "      <td>Gospel</td>\n",
       "      <td>55.666667</td>\n",
       "      <td>2.375000</td>\n",
       "      <td>99.500000</td>\n",
       "      <td>4.833333</td>\n",
       "      <td>2.666667</td>\n",
       "      <td>5.333333</td>\n",
       "      <td>0.333333</td>\n",
       "      <td>1.0</td>\n",
       "      <td>1</td>\n",
       "      <td>1</td>\n",
       "      <td>2</td>\n",
       "      <td>1</td>\n",
       "      <td>15</td>\n",
       "      <td>1</td>\n",
       "    </tr>\n",
       "    <tr>\n",
       "      <th>5</th>\n",
       "      <td>Hip hop</td>\n",
       "      <td>23.441176</td>\n",
       "      <td>3.955882</td>\n",
       "      <td>112.382353</td>\n",
       "      <td>6.117647</td>\n",
       "      <td>5.882353</td>\n",
       "      <td>3.470588</td>\n",
       "      <td>2.588235</td>\n",
       "      <td>9.0</td>\n",
       "      <td>10</td>\n",
       "      <td>3</td>\n",
       "      <td>13</td>\n",
       "      <td>15</td>\n",
       "      <td>7</td>\n",
       "      <td>9</td>\n",
       "    </tr>\n",
       "    <tr>\n",
       "      <th>6</th>\n",
       "      <td>Jazz</td>\n",
       "      <td>25.450000</td>\n",
       "      <td>5.425000</td>\n",
       "      <td>124.250000</td>\n",
       "      <td>5.900000</td>\n",
       "      <td>4.500000</td>\n",
       "      <td>3.850000</td>\n",
       "      <td>2.800000</td>\n",
       "      <td>6.0</td>\n",
       "      <td>15</td>\n",
       "      <td>11</td>\n",
       "      <td>9</td>\n",
       "      <td>10</td>\n",
       "      <td>10</td>\n",
       "      <td>12</td>\n",
       "    </tr>\n",
       "    <tr>\n",
       "      <th>7</th>\n",
       "      <td>K pop</td>\n",
       "      <td>18.423077</td>\n",
       "      <td>4.000000</td>\n",
       "      <td>128.230769</td>\n",
       "      <td>6.230769</td>\n",
       "      <td>4.423077</td>\n",
       "      <td>3.461538</td>\n",
       "      <td>2.538462</td>\n",
       "      <td>15.0</td>\n",
       "      <td>11</td>\n",
       "      <td>13</td>\n",
       "      <td>15</td>\n",
       "      <td>8</td>\n",
       "      <td>6</td>\n",
       "      <td>7</td>\n",
       "    </tr>\n",
       "    <tr>\n",
       "      <th>8</th>\n",
       "      <td>Latin</td>\n",
       "      <td>17.666667</td>\n",
       "      <td>6.666667</td>\n",
       "      <td>133.666667</td>\n",
       "      <td>4.333333</td>\n",
       "      <td>3.000000</td>\n",
       "      <td>3.333333</td>\n",
       "      <td>1.666667</td>\n",
       "      <td>16.0</td>\n",
       "      <td>16</td>\n",
       "      <td>14</td>\n",
       "      <td>1</td>\n",
       "      <td>2</td>\n",
       "      <td>4</td>\n",
       "      <td>2</td>\n",
       "    </tr>\n",
       "    <tr>\n",
       "      <th>9</th>\n",
       "      <td>Lofi</td>\n",
       "      <td>22.100000</td>\n",
       "      <td>4.200000</td>\n",
       "      <td>114.300000</td>\n",
       "      <td>6.100000</td>\n",
       "      <td>6.600000</td>\n",
       "      <td>5.600000</td>\n",
       "      <td>3.400000</td>\n",
       "      <td>11.0</td>\n",
       "      <td>12</td>\n",
       "      <td>5</td>\n",
       "      <td>12</td>\n",
       "      <td>16</td>\n",
       "      <td>16</td>\n",
       "      <td>16</td>\n",
       "    </tr>\n",
       "    <tr>\n",
       "      <th>10</th>\n",
       "      <td>Metal</td>\n",
       "      <td>25.113636</td>\n",
       "      <td>3.596591</td>\n",
       "      <td>136.931818</td>\n",
       "      <td>5.761364</td>\n",
       "      <td>5.068182</td>\n",
       "      <td>4.556818</td>\n",
       "      <td>2.397727</td>\n",
       "      <td>8.0</td>\n",
       "      <td>8</td>\n",
       "      <td>15</td>\n",
       "      <td>8</td>\n",
       "      <td>12</td>\n",
       "      <td>14</td>\n",
       "      <td>6</td>\n",
       "    </tr>\n",
       "    <tr>\n",
       "      <th>11</th>\n",
       "      <td>Pop</td>\n",
       "      <td>23.254386</td>\n",
       "      <td>2.907895</td>\n",
       "      <td>119.070175</td>\n",
       "      <td>6.074561</td>\n",
       "      <td>4.486842</td>\n",
       "      <td>3.368421</td>\n",
       "      <td>2.855263</td>\n",
       "      <td>10.0</td>\n",
       "      <td>4</td>\n",
       "      <td>8</td>\n",
       "      <td>11</td>\n",
       "      <td>9</td>\n",
       "      <td>5</td>\n",
       "      <td>13</td>\n",
       "    </tr>\n",
       "    <tr>\n",
       "      <th>12</th>\n",
       "      <td>R&amp;B</td>\n",
       "      <td>25.342857</td>\n",
       "      <td>3.471429</td>\n",
       "      <td>115.000000</td>\n",
       "      <td>5.171429</td>\n",
       "      <td>3.828571</td>\n",
       "      <td>2.885714</td>\n",
       "      <td>2.742857</td>\n",
       "      <td>7.0</td>\n",
       "      <td>7</td>\n",
       "      <td>6</td>\n",
       "      <td>5</td>\n",
       "      <td>3</td>\n",
       "      <td>3</td>\n",
       "      <td>11</td>\n",
       "    </tr>\n",
       "    <tr>\n",
       "      <th>13</th>\n",
       "      <td>Rap</td>\n",
       "      <td>21.772727</td>\n",
       "      <td>5.318182</td>\n",
       "      <td>126.454545</td>\n",
       "      <td>5.090909</td>\n",
       "      <td>4.000000</td>\n",
       "      <td>2.272727</td>\n",
       "      <td>3.181818</td>\n",
       "      <td>13.0</td>\n",
       "      <td>14</td>\n",
       "      <td>12</td>\n",
       "      <td>4</td>\n",
       "      <td>4</td>\n",
       "      <td>1</td>\n",
       "      <td>15</td>\n",
       "    </tr>\n",
       "    <tr>\n",
       "      <th>14</th>\n",
       "      <td>Rock</td>\n",
       "      <td>28.420213</td>\n",
       "      <td>3.634043</td>\n",
       "      <td>123.255319</td>\n",
       "      <td>6.122340</td>\n",
       "      <td>5.236702</td>\n",
       "      <td>3.880319</td>\n",
       "      <td>2.678191</td>\n",
       "      <td>2.0</td>\n",
       "      <td>9</td>\n",
       "      <td>10</td>\n",
       "      <td>14</td>\n",
       "      <td>13</td>\n",
       "      <td>11</td>\n",
       "      <td>10</td>\n",
       "    </tr>\n",
       "    <tr>\n",
       "      <th>15</th>\n",
       "      <td>Video game music</td>\n",
       "      <td>21.720930</td>\n",
       "      <td>2.819767</td>\n",
       "      <td>119.790698</td>\n",
       "      <td>5.930233</td>\n",
       "      <td>4.395349</td>\n",
       "      <td>3.906977</td>\n",
       "      <td>2.348837</td>\n",
       "      <td>14.0</td>\n",
       "      <td>2</td>\n",
       "      <td>9</td>\n",
       "      <td>10</td>\n",
       "      <td>7</td>\n",
       "      <td>12</td>\n",
       "      <td>4</td>\n",
       "    </tr>\n",
       "  </tbody>\n",
       "</table>\n",
       "</div>"
      ],
      "text/plain": [
       "           fav_genre        age  hours_per_day         bpm   anxiety  \\\n",
       "0          Classical  26.226415       2.882075  115.905660  4.886792   \n",
       "1            Country  25.541667       3.354167  112.875000  5.250000   \n",
       "2                EDM  22.054054       4.594595  146.756757  5.486486   \n",
       "3               Folk  25.800000       3.236667  110.933333  6.566667   \n",
       "4             Gospel  55.666667       2.375000   99.500000  4.833333   \n",
       "5            Hip hop  23.441176       3.955882  112.382353  6.117647   \n",
       "6               Jazz  25.450000       5.425000  124.250000  5.900000   \n",
       "7              K pop  18.423077       4.000000  128.230769  6.230769   \n",
       "8              Latin  17.666667       6.666667  133.666667  4.333333   \n",
       "9               Lofi  22.100000       4.200000  114.300000  6.100000   \n",
       "10             Metal  25.113636       3.596591  136.931818  5.761364   \n",
       "11               Pop  23.254386       2.907895  119.070175  6.074561   \n",
       "12               R&B  25.342857       3.471429  115.000000  5.171429   \n",
       "13               Rap  21.772727       5.318182  126.454545  5.090909   \n",
       "14              Rock  28.420213       3.634043  123.255319  6.122340   \n",
       "15  Video game music  21.720930       2.819767  119.790698  5.930233   \n",
       "\n",
       "    depression  insomnia       ocd  age_rank  hours_rank  bpm_rank  \\\n",
       "0     4.075472  3.792453  2.377358       3.0           3         7   \n",
       "1     4.166667  2.458333  2.583333       5.0           6         4   \n",
       "2     5.243243  3.972973  3.000000      12.0          13        16   \n",
       "3     5.066667  3.633333  2.200000       4.0           5         2   \n",
       "4     2.666667  5.333333  0.333333       1.0           1         1   \n",
       "5     5.882353  3.470588  2.588235       9.0          10         3   \n",
       "6     4.500000  3.850000  2.800000       6.0          15        11   \n",
       "7     4.423077  3.461538  2.538462      15.0          11        13   \n",
       "8     3.000000  3.333333  1.666667      16.0          16        14   \n",
       "9     6.600000  5.600000  3.400000      11.0          12         5   \n",
       "10    5.068182  4.556818  2.397727       8.0           8        15   \n",
       "11    4.486842  3.368421  2.855263      10.0           4         8   \n",
       "12    3.828571  2.885714  2.742857       7.0           7         6   \n",
       "13    4.000000  2.272727  3.181818      13.0          14        12   \n",
       "14    5.236702  3.880319  2.678191       2.0           9        10   \n",
       "15    4.395349  3.906977  2.348837      14.0           2         9   \n",
       "\n",
       "    anxiety_rank  depression_rank  insomnia_rank  ocd_rank  \n",
       "0              3                5              9         5  \n",
       "1              6                6              2         8  \n",
       "2              7               14             13        14  \n",
       "3             16               11              8         3  \n",
       "4              2                1             15         1  \n",
       "5             13               15              7         9  \n",
       "6              9               10             10        12  \n",
       "7             15                8              6         7  \n",
       "8              1                2              4         2  \n",
       "9             12               16             16        16  \n",
       "10             8               12             14         6  \n",
       "11            11                9              5        13  \n",
       "12             5                3              3        11  \n",
       "13             4                4              1        15  \n",
       "14            14               13             11        10  \n",
       "15            10                7             12         4  "
      ]
     },
     "execution_count": 208,
     "metadata": {},
     "output_type": "execute_result"
    }
   ],
   "source": [
    "df_grouped['age_rank'] = df_grouped['age'].rank(ascending=False)\n",
    "df_grouped"
   ]
  },
  {
   "cell_type": "code",
   "execution_count": 209,
   "id": "f2e8e7cf",
   "metadata": {},
   "outputs": [],
   "source": [
    "df_grouped['hours_rank'] = df_grouped['hours_per_day'].rank(ascending=False)\n",
    "df_grouped['bpm_rank'] = df_grouped['bpm'].rank(ascending=False)\n",
    "df_grouped['anxiety_rank'] = df_grouped['anxiety'].rank(ascending=False)\n",
    "df_grouped['depression_rank'] = df_grouped['depression'].rank(ascending=False)\n",
    "df_grouped['insomnia_rank'] = df_grouped['insomnia'].rank(ascending=False)\n",
    "df_grouped['ocd_rank'] = df_grouped['ocd'].rank(ascending=False)"
   ]
  },
  {
   "cell_type": "code",
   "execution_count": 210,
   "id": "8b4a7b62",
   "metadata": {},
   "outputs": [
    {
     "data": {
      "text/html": [
       "<div>\n",
       "<style scoped>\n",
       "    .dataframe tbody tr th:only-of-type {\n",
       "        vertical-align: middle;\n",
       "    }\n",
       "\n",
       "    .dataframe tbody tr th {\n",
       "        vertical-align: top;\n",
       "    }\n",
       "\n",
       "    .dataframe thead th {\n",
       "        text-align: right;\n",
       "    }\n",
       "</style>\n",
       "<table border=\"1\" class=\"dataframe\">\n",
       "  <thead>\n",
       "    <tr style=\"text-align: right;\">\n",
       "      <th></th>\n",
       "      <th>fav_genre</th>\n",
       "      <th>age</th>\n",
       "      <th>hours_per_day</th>\n",
       "      <th>bpm</th>\n",
       "      <th>anxiety</th>\n",
       "      <th>depression</th>\n",
       "      <th>insomnia</th>\n",
       "      <th>ocd</th>\n",
       "      <th>age_rank</th>\n",
       "      <th>hours_rank</th>\n",
       "      <th>bpm_rank</th>\n",
       "      <th>anxiety_rank</th>\n",
       "      <th>depression_rank</th>\n",
       "      <th>insomnia_rank</th>\n",
       "      <th>ocd_rank</th>\n",
       "    </tr>\n",
       "  </thead>\n",
       "  <tbody>\n",
       "    <tr>\n",
       "      <th>0</th>\n",
       "      <td>Classical</td>\n",
       "      <td>26.226415</td>\n",
       "      <td>2.882075</td>\n",
       "      <td>115.905660</td>\n",
       "      <td>4.886792</td>\n",
       "      <td>4.075472</td>\n",
       "      <td>3.792453</td>\n",
       "      <td>2.377358</td>\n",
       "      <td>3.0</td>\n",
       "      <td>14.0</td>\n",
       "      <td>10.0</td>\n",
       "      <td>14.0</td>\n",
       "      <td>12.0</td>\n",
       "      <td>8.0</td>\n",
       "      <td>12.0</td>\n",
       "    </tr>\n",
       "    <tr>\n",
       "      <th>1</th>\n",
       "      <td>Country</td>\n",
       "      <td>25.541667</td>\n",
       "      <td>3.354167</td>\n",
       "      <td>112.875000</td>\n",
       "      <td>5.250000</td>\n",
       "      <td>4.166667</td>\n",
       "      <td>2.458333</td>\n",
       "      <td>2.583333</td>\n",
       "      <td>5.0</td>\n",
       "      <td>11.0</td>\n",
       "      <td>13.0</td>\n",
       "      <td>11.0</td>\n",
       "      <td>11.0</td>\n",
       "      <td>15.0</td>\n",
       "      <td>9.0</td>\n",
       "    </tr>\n",
       "    <tr>\n",
       "      <th>2</th>\n",
       "      <td>EDM</td>\n",
       "      <td>22.054054</td>\n",
       "      <td>4.594595</td>\n",
       "      <td>146.756757</td>\n",
       "      <td>5.486486</td>\n",
       "      <td>5.243243</td>\n",
       "      <td>3.972973</td>\n",
       "      <td>3.000000</td>\n",
       "      <td>12.0</td>\n",
       "      <td>4.0</td>\n",
       "      <td>1.0</td>\n",
       "      <td>10.0</td>\n",
       "      <td>3.0</td>\n",
       "      <td>4.0</td>\n",
       "      <td>3.0</td>\n",
       "    </tr>\n",
       "    <tr>\n",
       "      <th>3</th>\n",
       "      <td>Folk</td>\n",
       "      <td>25.800000</td>\n",
       "      <td>3.236667</td>\n",
       "      <td>110.933333</td>\n",
       "      <td>6.566667</td>\n",
       "      <td>5.066667</td>\n",
       "      <td>3.633333</td>\n",
       "      <td>2.200000</td>\n",
       "      <td>4.0</td>\n",
       "      <td>12.0</td>\n",
       "      <td>15.0</td>\n",
       "      <td>1.0</td>\n",
       "      <td>6.0</td>\n",
       "      <td>9.0</td>\n",
       "      <td>14.0</td>\n",
       "    </tr>\n",
       "    <tr>\n",
       "      <th>4</th>\n",
       "      <td>Gospel</td>\n",
       "      <td>55.666667</td>\n",
       "      <td>2.375000</td>\n",
       "      <td>99.500000</td>\n",
       "      <td>4.833333</td>\n",
       "      <td>2.666667</td>\n",
       "      <td>5.333333</td>\n",
       "      <td>0.333333</td>\n",
       "      <td>1.0</td>\n",
       "      <td>16.0</td>\n",
       "      <td>16.0</td>\n",
       "      <td>15.0</td>\n",
       "      <td>16.0</td>\n",
       "      <td>2.0</td>\n",
       "      <td>16.0</td>\n",
       "    </tr>\n",
       "    <tr>\n",
       "      <th>5</th>\n",
       "      <td>Hip hop</td>\n",
       "      <td>23.441176</td>\n",
       "      <td>3.955882</td>\n",
       "      <td>112.382353</td>\n",
       "      <td>6.117647</td>\n",
       "      <td>5.882353</td>\n",
       "      <td>3.470588</td>\n",
       "      <td>2.588235</td>\n",
       "      <td>9.0</td>\n",
       "      <td>7.0</td>\n",
       "      <td>14.0</td>\n",
       "      <td>4.0</td>\n",
       "      <td>2.0</td>\n",
       "      <td>10.0</td>\n",
       "      <td>8.0</td>\n",
       "    </tr>\n",
       "    <tr>\n",
       "      <th>6</th>\n",
       "      <td>Jazz</td>\n",
       "      <td>25.450000</td>\n",
       "      <td>5.425000</td>\n",
       "      <td>124.250000</td>\n",
       "      <td>5.900000</td>\n",
       "      <td>4.500000</td>\n",
       "      <td>3.850000</td>\n",
       "      <td>2.800000</td>\n",
       "      <td>6.0</td>\n",
       "      <td>2.0</td>\n",
       "      <td>6.0</td>\n",
       "      <td>8.0</td>\n",
       "      <td>7.0</td>\n",
       "      <td>7.0</td>\n",
       "      <td>5.0</td>\n",
       "    </tr>\n",
       "    <tr>\n",
       "      <th>7</th>\n",
       "      <td>K pop</td>\n",
       "      <td>18.423077</td>\n",
       "      <td>4.000000</td>\n",
       "      <td>128.230769</td>\n",
       "      <td>6.230769</td>\n",
       "      <td>4.423077</td>\n",
       "      <td>3.461538</td>\n",
       "      <td>2.538462</td>\n",
       "      <td>15.0</td>\n",
       "      <td>6.0</td>\n",
       "      <td>4.0</td>\n",
       "      <td>2.0</td>\n",
       "      <td>9.0</td>\n",
       "      <td>11.0</td>\n",
       "      <td>10.0</td>\n",
       "    </tr>\n",
       "    <tr>\n",
       "      <th>8</th>\n",
       "      <td>Latin</td>\n",
       "      <td>17.666667</td>\n",
       "      <td>6.666667</td>\n",
       "      <td>133.666667</td>\n",
       "      <td>4.333333</td>\n",
       "      <td>3.000000</td>\n",
       "      <td>3.333333</td>\n",
       "      <td>1.666667</td>\n",
       "      <td>16.0</td>\n",
       "      <td>1.0</td>\n",
       "      <td>3.0</td>\n",
       "      <td>16.0</td>\n",
       "      <td>15.0</td>\n",
       "      <td>13.0</td>\n",
       "      <td>15.0</td>\n",
       "    </tr>\n",
       "    <tr>\n",
       "      <th>9</th>\n",
       "      <td>Lofi</td>\n",
       "      <td>22.100000</td>\n",
       "      <td>4.200000</td>\n",
       "      <td>114.300000</td>\n",
       "      <td>6.100000</td>\n",
       "      <td>6.600000</td>\n",
       "      <td>5.600000</td>\n",
       "      <td>3.400000</td>\n",
       "      <td>11.0</td>\n",
       "      <td>5.0</td>\n",
       "      <td>12.0</td>\n",
       "      <td>5.0</td>\n",
       "      <td>1.0</td>\n",
       "      <td>1.0</td>\n",
       "      <td>1.0</td>\n",
       "    </tr>\n",
       "    <tr>\n",
       "      <th>10</th>\n",
       "      <td>Metal</td>\n",
       "      <td>25.113636</td>\n",
       "      <td>3.596591</td>\n",
       "      <td>136.931818</td>\n",
       "      <td>5.761364</td>\n",
       "      <td>5.068182</td>\n",
       "      <td>4.556818</td>\n",
       "      <td>2.397727</td>\n",
       "      <td>8.0</td>\n",
       "      <td>9.0</td>\n",
       "      <td>2.0</td>\n",
       "      <td>9.0</td>\n",
       "      <td>5.0</td>\n",
       "      <td>3.0</td>\n",
       "      <td>11.0</td>\n",
       "    </tr>\n",
       "    <tr>\n",
       "      <th>11</th>\n",
       "      <td>Pop</td>\n",
       "      <td>23.254386</td>\n",
       "      <td>2.907895</td>\n",
       "      <td>119.070175</td>\n",
       "      <td>6.074561</td>\n",
       "      <td>4.486842</td>\n",
       "      <td>3.368421</td>\n",
       "      <td>2.855263</td>\n",
       "      <td>10.0</td>\n",
       "      <td>13.0</td>\n",
       "      <td>9.0</td>\n",
       "      <td>6.0</td>\n",
       "      <td>8.0</td>\n",
       "      <td>12.0</td>\n",
       "      <td>4.0</td>\n",
       "    </tr>\n",
       "    <tr>\n",
       "      <th>12</th>\n",
       "      <td>R&amp;B</td>\n",
       "      <td>25.342857</td>\n",
       "      <td>3.471429</td>\n",
       "      <td>115.000000</td>\n",
       "      <td>5.171429</td>\n",
       "      <td>3.828571</td>\n",
       "      <td>2.885714</td>\n",
       "      <td>2.742857</td>\n",
       "      <td>7.0</td>\n",
       "      <td>10.0</td>\n",
       "      <td>11.0</td>\n",
       "      <td>12.0</td>\n",
       "      <td>14.0</td>\n",
       "      <td>14.0</td>\n",
       "      <td>6.0</td>\n",
       "    </tr>\n",
       "    <tr>\n",
       "      <th>13</th>\n",
       "      <td>Rap</td>\n",
       "      <td>21.772727</td>\n",
       "      <td>5.318182</td>\n",
       "      <td>126.454545</td>\n",
       "      <td>5.090909</td>\n",
       "      <td>4.000000</td>\n",
       "      <td>2.272727</td>\n",
       "      <td>3.181818</td>\n",
       "      <td>13.0</td>\n",
       "      <td>3.0</td>\n",
       "      <td>5.0</td>\n",
       "      <td>13.0</td>\n",
       "      <td>13.0</td>\n",
       "      <td>16.0</td>\n",
       "      <td>2.0</td>\n",
       "    </tr>\n",
       "    <tr>\n",
       "      <th>14</th>\n",
       "      <td>Rock</td>\n",
       "      <td>28.420213</td>\n",
       "      <td>3.634043</td>\n",
       "      <td>123.255319</td>\n",
       "      <td>6.122340</td>\n",
       "      <td>5.236702</td>\n",
       "      <td>3.880319</td>\n",
       "      <td>2.678191</td>\n",
       "      <td>2.0</td>\n",
       "      <td>8.0</td>\n",
       "      <td>7.0</td>\n",
       "      <td>3.0</td>\n",
       "      <td>4.0</td>\n",
       "      <td>6.0</td>\n",
       "      <td>7.0</td>\n",
       "    </tr>\n",
       "    <tr>\n",
       "      <th>15</th>\n",
       "      <td>Video game music</td>\n",
       "      <td>21.720930</td>\n",
       "      <td>2.819767</td>\n",
       "      <td>119.790698</td>\n",
       "      <td>5.930233</td>\n",
       "      <td>4.395349</td>\n",
       "      <td>3.906977</td>\n",
       "      <td>2.348837</td>\n",
       "      <td>14.0</td>\n",
       "      <td>15.0</td>\n",
       "      <td>8.0</td>\n",
       "      <td>7.0</td>\n",
       "      <td>10.0</td>\n",
       "      <td>5.0</td>\n",
       "      <td>13.0</td>\n",
       "    </tr>\n",
       "  </tbody>\n",
       "</table>\n",
       "</div>"
      ],
      "text/plain": [
       "           fav_genre        age  hours_per_day         bpm   anxiety  \\\n",
       "0          Classical  26.226415       2.882075  115.905660  4.886792   \n",
       "1            Country  25.541667       3.354167  112.875000  5.250000   \n",
       "2                EDM  22.054054       4.594595  146.756757  5.486486   \n",
       "3               Folk  25.800000       3.236667  110.933333  6.566667   \n",
       "4             Gospel  55.666667       2.375000   99.500000  4.833333   \n",
       "5            Hip hop  23.441176       3.955882  112.382353  6.117647   \n",
       "6               Jazz  25.450000       5.425000  124.250000  5.900000   \n",
       "7              K pop  18.423077       4.000000  128.230769  6.230769   \n",
       "8              Latin  17.666667       6.666667  133.666667  4.333333   \n",
       "9               Lofi  22.100000       4.200000  114.300000  6.100000   \n",
       "10             Metal  25.113636       3.596591  136.931818  5.761364   \n",
       "11               Pop  23.254386       2.907895  119.070175  6.074561   \n",
       "12               R&B  25.342857       3.471429  115.000000  5.171429   \n",
       "13               Rap  21.772727       5.318182  126.454545  5.090909   \n",
       "14              Rock  28.420213       3.634043  123.255319  6.122340   \n",
       "15  Video game music  21.720930       2.819767  119.790698  5.930233   \n",
       "\n",
       "    depression  insomnia       ocd  age_rank  hours_rank  bpm_rank  \\\n",
       "0     4.075472  3.792453  2.377358       3.0        14.0      10.0   \n",
       "1     4.166667  2.458333  2.583333       5.0        11.0      13.0   \n",
       "2     5.243243  3.972973  3.000000      12.0         4.0       1.0   \n",
       "3     5.066667  3.633333  2.200000       4.0        12.0      15.0   \n",
       "4     2.666667  5.333333  0.333333       1.0        16.0      16.0   \n",
       "5     5.882353  3.470588  2.588235       9.0         7.0      14.0   \n",
       "6     4.500000  3.850000  2.800000       6.0         2.0       6.0   \n",
       "7     4.423077  3.461538  2.538462      15.0         6.0       4.0   \n",
       "8     3.000000  3.333333  1.666667      16.0         1.0       3.0   \n",
       "9     6.600000  5.600000  3.400000      11.0         5.0      12.0   \n",
       "10    5.068182  4.556818  2.397727       8.0         9.0       2.0   \n",
       "11    4.486842  3.368421  2.855263      10.0        13.0       9.0   \n",
       "12    3.828571  2.885714  2.742857       7.0        10.0      11.0   \n",
       "13    4.000000  2.272727  3.181818      13.0         3.0       5.0   \n",
       "14    5.236702  3.880319  2.678191       2.0         8.0       7.0   \n",
       "15    4.395349  3.906977  2.348837      14.0        15.0       8.0   \n",
       "\n",
       "    anxiety_rank  depression_rank  insomnia_rank  ocd_rank  \n",
       "0           14.0             12.0            8.0      12.0  \n",
       "1           11.0             11.0           15.0       9.0  \n",
       "2           10.0              3.0            4.0       3.0  \n",
       "3            1.0              6.0            9.0      14.0  \n",
       "4           15.0             16.0            2.0      16.0  \n",
       "5            4.0              2.0           10.0       8.0  \n",
       "6            8.0              7.0            7.0       5.0  \n",
       "7            2.0              9.0           11.0      10.0  \n",
       "8           16.0             15.0           13.0      15.0  \n",
       "9            5.0              1.0            1.0       1.0  \n",
       "10           9.0              5.0            3.0      11.0  \n",
       "11           6.0              8.0           12.0       4.0  \n",
       "12          12.0             14.0           14.0       6.0  \n",
       "13          13.0             13.0           16.0       2.0  \n",
       "14           3.0              4.0            6.0       7.0  \n",
       "15           7.0             10.0            5.0      13.0  "
      ]
     },
     "execution_count": 210,
     "metadata": {},
     "output_type": "execute_result"
    }
   ],
   "source": [
    "df_grouped"
   ]
  },
  {
   "cell_type": "code",
   "execution_count": 211,
   "id": "035738a1",
   "metadata": {},
   "outputs": [
    {
     "name": "stdout",
     "output_type": "stream",
     "text": [
      "<class 'pandas.core.frame.DataFrame'>\n",
      "RangeIndex: 16 entries, 0 to 15\n",
      "Data columns (total 15 columns):\n",
      " #   Column           Non-Null Count  Dtype  \n",
      "---  ------           --------------  -----  \n",
      " 0   fav_genre        16 non-null     object \n",
      " 1   age              16 non-null     float64\n",
      " 2   hours_per_day    16 non-null     float64\n",
      " 3   bpm              16 non-null     float64\n",
      " 4   anxiety          16 non-null     float64\n",
      " 5   depression       16 non-null     float64\n",
      " 6   insomnia         16 non-null     float64\n",
      " 7   ocd              16 non-null     float64\n",
      " 8   age_rank         16 non-null     float64\n",
      " 9   hours_rank       16 non-null     float64\n",
      " 10  bpm_rank         16 non-null     float64\n",
      " 11  anxiety_rank     16 non-null     float64\n",
      " 12  depression_rank  16 non-null     float64\n",
      " 13  insomnia_rank    16 non-null     float64\n",
      " 14  ocd_rank         16 non-null     float64\n",
      "dtypes: float64(14), object(1)\n",
      "memory usage: 2.0+ KB\n"
     ]
    }
   ],
   "source": [
    "df_grouped.info()"
   ]
  },
  {
   "cell_type": "code",
   "execution_count": 212,
   "id": "e5a9f88a",
   "metadata": {},
   "outputs": [],
   "source": [
    "df_grouped['age_rank'] = df_grouped['age_rank'].astype(int)"
   ]
  },
  {
   "cell_type": "code",
   "execution_count": 213,
   "id": "d7080774",
   "metadata": {},
   "outputs": [
    {
     "data": {
      "text/html": [
       "<div>\n",
       "<style scoped>\n",
       "    .dataframe tbody tr th:only-of-type {\n",
       "        vertical-align: middle;\n",
       "    }\n",
       "\n",
       "    .dataframe tbody tr th {\n",
       "        vertical-align: top;\n",
       "    }\n",
       "\n",
       "    .dataframe thead th {\n",
       "        text-align: right;\n",
       "    }\n",
       "</style>\n",
       "<table border=\"1\" class=\"dataframe\">\n",
       "  <thead>\n",
       "    <tr style=\"text-align: right;\">\n",
       "      <th></th>\n",
       "      <th>fav_genre</th>\n",
       "      <th>age</th>\n",
       "      <th>hours_per_day</th>\n",
       "      <th>bpm</th>\n",
       "      <th>anxiety</th>\n",
       "      <th>depression</th>\n",
       "      <th>insomnia</th>\n",
       "      <th>ocd</th>\n",
       "      <th>age_rank</th>\n",
       "      <th>hours_rank</th>\n",
       "      <th>bpm_rank</th>\n",
       "      <th>anxiety_rank</th>\n",
       "      <th>depression_rank</th>\n",
       "      <th>insomnia_rank</th>\n",
       "      <th>ocd_rank</th>\n",
       "    </tr>\n",
       "  </thead>\n",
       "  <tbody>\n",
       "    <tr>\n",
       "      <th>0</th>\n",
       "      <td>Classical</td>\n",
       "      <td>26.226415</td>\n",
       "      <td>2.882075</td>\n",
       "      <td>115.905660</td>\n",
       "      <td>4.886792</td>\n",
       "      <td>4.075472</td>\n",
       "      <td>3.792453</td>\n",
       "      <td>2.377358</td>\n",
       "      <td>3</td>\n",
       "      <td>14.0</td>\n",
       "      <td>10.0</td>\n",
       "      <td>14.0</td>\n",
       "      <td>12.0</td>\n",
       "      <td>8.0</td>\n",
       "      <td>12.0</td>\n",
       "    </tr>\n",
       "    <tr>\n",
       "      <th>1</th>\n",
       "      <td>Country</td>\n",
       "      <td>25.541667</td>\n",
       "      <td>3.354167</td>\n",
       "      <td>112.875000</td>\n",
       "      <td>5.250000</td>\n",
       "      <td>4.166667</td>\n",
       "      <td>2.458333</td>\n",
       "      <td>2.583333</td>\n",
       "      <td>5</td>\n",
       "      <td>11.0</td>\n",
       "      <td>13.0</td>\n",
       "      <td>11.0</td>\n",
       "      <td>11.0</td>\n",
       "      <td>15.0</td>\n",
       "      <td>9.0</td>\n",
       "    </tr>\n",
       "    <tr>\n",
       "      <th>2</th>\n",
       "      <td>EDM</td>\n",
       "      <td>22.054054</td>\n",
       "      <td>4.594595</td>\n",
       "      <td>146.756757</td>\n",
       "      <td>5.486486</td>\n",
       "      <td>5.243243</td>\n",
       "      <td>3.972973</td>\n",
       "      <td>3.000000</td>\n",
       "      <td>12</td>\n",
       "      <td>4.0</td>\n",
       "      <td>1.0</td>\n",
       "      <td>10.0</td>\n",
       "      <td>3.0</td>\n",
       "      <td>4.0</td>\n",
       "      <td>3.0</td>\n",
       "    </tr>\n",
       "    <tr>\n",
       "      <th>3</th>\n",
       "      <td>Folk</td>\n",
       "      <td>25.800000</td>\n",
       "      <td>3.236667</td>\n",
       "      <td>110.933333</td>\n",
       "      <td>6.566667</td>\n",
       "      <td>5.066667</td>\n",
       "      <td>3.633333</td>\n",
       "      <td>2.200000</td>\n",
       "      <td>4</td>\n",
       "      <td>12.0</td>\n",
       "      <td>15.0</td>\n",
       "      <td>1.0</td>\n",
       "      <td>6.0</td>\n",
       "      <td>9.0</td>\n",
       "      <td>14.0</td>\n",
       "    </tr>\n",
       "    <tr>\n",
       "      <th>4</th>\n",
       "      <td>Gospel</td>\n",
       "      <td>55.666667</td>\n",
       "      <td>2.375000</td>\n",
       "      <td>99.500000</td>\n",
       "      <td>4.833333</td>\n",
       "      <td>2.666667</td>\n",
       "      <td>5.333333</td>\n",
       "      <td>0.333333</td>\n",
       "      <td>1</td>\n",
       "      <td>16.0</td>\n",
       "      <td>16.0</td>\n",
       "      <td>15.0</td>\n",
       "      <td>16.0</td>\n",
       "      <td>2.0</td>\n",
       "      <td>16.0</td>\n",
       "    </tr>\n",
       "    <tr>\n",
       "      <th>5</th>\n",
       "      <td>Hip hop</td>\n",
       "      <td>23.441176</td>\n",
       "      <td>3.955882</td>\n",
       "      <td>112.382353</td>\n",
       "      <td>6.117647</td>\n",
       "      <td>5.882353</td>\n",
       "      <td>3.470588</td>\n",
       "      <td>2.588235</td>\n",
       "      <td>9</td>\n",
       "      <td>7.0</td>\n",
       "      <td>14.0</td>\n",
       "      <td>4.0</td>\n",
       "      <td>2.0</td>\n",
       "      <td>10.0</td>\n",
       "      <td>8.0</td>\n",
       "    </tr>\n",
       "    <tr>\n",
       "      <th>6</th>\n",
       "      <td>Jazz</td>\n",
       "      <td>25.450000</td>\n",
       "      <td>5.425000</td>\n",
       "      <td>124.250000</td>\n",
       "      <td>5.900000</td>\n",
       "      <td>4.500000</td>\n",
       "      <td>3.850000</td>\n",
       "      <td>2.800000</td>\n",
       "      <td>6</td>\n",
       "      <td>2.0</td>\n",
       "      <td>6.0</td>\n",
       "      <td>8.0</td>\n",
       "      <td>7.0</td>\n",
       "      <td>7.0</td>\n",
       "      <td>5.0</td>\n",
       "    </tr>\n",
       "    <tr>\n",
       "      <th>7</th>\n",
       "      <td>K pop</td>\n",
       "      <td>18.423077</td>\n",
       "      <td>4.000000</td>\n",
       "      <td>128.230769</td>\n",
       "      <td>6.230769</td>\n",
       "      <td>4.423077</td>\n",
       "      <td>3.461538</td>\n",
       "      <td>2.538462</td>\n",
       "      <td>15</td>\n",
       "      <td>6.0</td>\n",
       "      <td>4.0</td>\n",
       "      <td>2.0</td>\n",
       "      <td>9.0</td>\n",
       "      <td>11.0</td>\n",
       "      <td>10.0</td>\n",
       "    </tr>\n",
       "    <tr>\n",
       "      <th>8</th>\n",
       "      <td>Latin</td>\n",
       "      <td>17.666667</td>\n",
       "      <td>6.666667</td>\n",
       "      <td>133.666667</td>\n",
       "      <td>4.333333</td>\n",
       "      <td>3.000000</td>\n",
       "      <td>3.333333</td>\n",
       "      <td>1.666667</td>\n",
       "      <td>16</td>\n",
       "      <td>1.0</td>\n",
       "      <td>3.0</td>\n",
       "      <td>16.0</td>\n",
       "      <td>15.0</td>\n",
       "      <td>13.0</td>\n",
       "      <td>15.0</td>\n",
       "    </tr>\n",
       "    <tr>\n",
       "      <th>9</th>\n",
       "      <td>Lofi</td>\n",
       "      <td>22.100000</td>\n",
       "      <td>4.200000</td>\n",
       "      <td>114.300000</td>\n",
       "      <td>6.100000</td>\n",
       "      <td>6.600000</td>\n",
       "      <td>5.600000</td>\n",
       "      <td>3.400000</td>\n",
       "      <td>11</td>\n",
       "      <td>5.0</td>\n",
       "      <td>12.0</td>\n",
       "      <td>5.0</td>\n",
       "      <td>1.0</td>\n",
       "      <td>1.0</td>\n",
       "      <td>1.0</td>\n",
       "    </tr>\n",
       "    <tr>\n",
       "      <th>10</th>\n",
       "      <td>Metal</td>\n",
       "      <td>25.113636</td>\n",
       "      <td>3.596591</td>\n",
       "      <td>136.931818</td>\n",
       "      <td>5.761364</td>\n",
       "      <td>5.068182</td>\n",
       "      <td>4.556818</td>\n",
       "      <td>2.397727</td>\n",
       "      <td>8</td>\n",
       "      <td>9.0</td>\n",
       "      <td>2.0</td>\n",
       "      <td>9.0</td>\n",
       "      <td>5.0</td>\n",
       "      <td>3.0</td>\n",
       "      <td>11.0</td>\n",
       "    </tr>\n",
       "    <tr>\n",
       "      <th>11</th>\n",
       "      <td>Pop</td>\n",
       "      <td>23.254386</td>\n",
       "      <td>2.907895</td>\n",
       "      <td>119.070175</td>\n",
       "      <td>6.074561</td>\n",
       "      <td>4.486842</td>\n",
       "      <td>3.368421</td>\n",
       "      <td>2.855263</td>\n",
       "      <td>10</td>\n",
       "      <td>13.0</td>\n",
       "      <td>9.0</td>\n",
       "      <td>6.0</td>\n",
       "      <td>8.0</td>\n",
       "      <td>12.0</td>\n",
       "      <td>4.0</td>\n",
       "    </tr>\n",
       "    <tr>\n",
       "      <th>12</th>\n",
       "      <td>R&amp;B</td>\n",
       "      <td>25.342857</td>\n",
       "      <td>3.471429</td>\n",
       "      <td>115.000000</td>\n",
       "      <td>5.171429</td>\n",
       "      <td>3.828571</td>\n",
       "      <td>2.885714</td>\n",
       "      <td>2.742857</td>\n",
       "      <td>7</td>\n",
       "      <td>10.0</td>\n",
       "      <td>11.0</td>\n",
       "      <td>12.0</td>\n",
       "      <td>14.0</td>\n",
       "      <td>14.0</td>\n",
       "      <td>6.0</td>\n",
       "    </tr>\n",
       "    <tr>\n",
       "      <th>13</th>\n",
       "      <td>Rap</td>\n",
       "      <td>21.772727</td>\n",
       "      <td>5.318182</td>\n",
       "      <td>126.454545</td>\n",
       "      <td>5.090909</td>\n",
       "      <td>4.000000</td>\n",
       "      <td>2.272727</td>\n",
       "      <td>3.181818</td>\n",
       "      <td>13</td>\n",
       "      <td>3.0</td>\n",
       "      <td>5.0</td>\n",
       "      <td>13.0</td>\n",
       "      <td>13.0</td>\n",
       "      <td>16.0</td>\n",
       "      <td>2.0</td>\n",
       "    </tr>\n",
       "    <tr>\n",
       "      <th>14</th>\n",
       "      <td>Rock</td>\n",
       "      <td>28.420213</td>\n",
       "      <td>3.634043</td>\n",
       "      <td>123.255319</td>\n",
       "      <td>6.122340</td>\n",
       "      <td>5.236702</td>\n",
       "      <td>3.880319</td>\n",
       "      <td>2.678191</td>\n",
       "      <td>2</td>\n",
       "      <td>8.0</td>\n",
       "      <td>7.0</td>\n",
       "      <td>3.0</td>\n",
       "      <td>4.0</td>\n",
       "      <td>6.0</td>\n",
       "      <td>7.0</td>\n",
       "    </tr>\n",
       "    <tr>\n",
       "      <th>15</th>\n",
       "      <td>Video game music</td>\n",
       "      <td>21.720930</td>\n",
       "      <td>2.819767</td>\n",
       "      <td>119.790698</td>\n",
       "      <td>5.930233</td>\n",
       "      <td>4.395349</td>\n",
       "      <td>3.906977</td>\n",
       "      <td>2.348837</td>\n",
       "      <td>14</td>\n",
       "      <td>15.0</td>\n",
       "      <td>8.0</td>\n",
       "      <td>7.0</td>\n",
       "      <td>10.0</td>\n",
       "      <td>5.0</td>\n",
       "      <td>13.0</td>\n",
       "    </tr>\n",
       "  </tbody>\n",
       "</table>\n",
       "</div>"
      ],
      "text/plain": [
       "           fav_genre        age  hours_per_day         bpm   anxiety  \\\n",
       "0          Classical  26.226415       2.882075  115.905660  4.886792   \n",
       "1            Country  25.541667       3.354167  112.875000  5.250000   \n",
       "2                EDM  22.054054       4.594595  146.756757  5.486486   \n",
       "3               Folk  25.800000       3.236667  110.933333  6.566667   \n",
       "4             Gospel  55.666667       2.375000   99.500000  4.833333   \n",
       "5            Hip hop  23.441176       3.955882  112.382353  6.117647   \n",
       "6               Jazz  25.450000       5.425000  124.250000  5.900000   \n",
       "7              K pop  18.423077       4.000000  128.230769  6.230769   \n",
       "8              Latin  17.666667       6.666667  133.666667  4.333333   \n",
       "9               Lofi  22.100000       4.200000  114.300000  6.100000   \n",
       "10             Metal  25.113636       3.596591  136.931818  5.761364   \n",
       "11               Pop  23.254386       2.907895  119.070175  6.074561   \n",
       "12               R&B  25.342857       3.471429  115.000000  5.171429   \n",
       "13               Rap  21.772727       5.318182  126.454545  5.090909   \n",
       "14              Rock  28.420213       3.634043  123.255319  6.122340   \n",
       "15  Video game music  21.720930       2.819767  119.790698  5.930233   \n",
       "\n",
       "    depression  insomnia       ocd  age_rank  hours_rank  bpm_rank  \\\n",
       "0     4.075472  3.792453  2.377358         3        14.0      10.0   \n",
       "1     4.166667  2.458333  2.583333         5        11.0      13.0   \n",
       "2     5.243243  3.972973  3.000000        12         4.0       1.0   \n",
       "3     5.066667  3.633333  2.200000         4        12.0      15.0   \n",
       "4     2.666667  5.333333  0.333333         1        16.0      16.0   \n",
       "5     5.882353  3.470588  2.588235         9         7.0      14.0   \n",
       "6     4.500000  3.850000  2.800000         6         2.0       6.0   \n",
       "7     4.423077  3.461538  2.538462        15         6.0       4.0   \n",
       "8     3.000000  3.333333  1.666667        16         1.0       3.0   \n",
       "9     6.600000  5.600000  3.400000        11         5.0      12.0   \n",
       "10    5.068182  4.556818  2.397727         8         9.0       2.0   \n",
       "11    4.486842  3.368421  2.855263        10        13.0       9.0   \n",
       "12    3.828571  2.885714  2.742857         7        10.0      11.0   \n",
       "13    4.000000  2.272727  3.181818        13         3.0       5.0   \n",
       "14    5.236702  3.880319  2.678191         2         8.0       7.0   \n",
       "15    4.395349  3.906977  2.348837        14        15.0       8.0   \n",
       "\n",
       "    anxiety_rank  depression_rank  insomnia_rank  ocd_rank  \n",
       "0           14.0             12.0            8.0      12.0  \n",
       "1           11.0             11.0           15.0       9.0  \n",
       "2           10.0              3.0            4.0       3.0  \n",
       "3            1.0              6.0            9.0      14.0  \n",
       "4           15.0             16.0            2.0      16.0  \n",
       "5            4.0              2.0           10.0       8.0  \n",
       "6            8.0              7.0            7.0       5.0  \n",
       "7            2.0              9.0           11.0      10.0  \n",
       "8           16.0             15.0           13.0      15.0  \n",
       "9            5.0              1.0            1.0       1.0  \n",
       "10           9.0              5.0            3.0      11.0  \n",
       "11           6.0              8.0           12.0       4.0  \n",
       "12          12.0             14.0           14.0       6.0  \n",
       "13          13.0             13.0           16.0       2.0  \n",
       "14           3.0              4.0            6.0       7.0  \n",
       "15           7.0             10.0            5.0      13.0  "
      ]
     },
     "execution_count": 213,
     "metadata": {},
     "output_type": "execute_result"
    }
   ],
   "source": [
    "df_grouped"
   ]
  },
  {
   "cell_type": "code",
   "execution_count": 214,
   "id": "f34ac31a",
   "metadata": {},
   "outputs": [
    {
     "data": {
      "text/html": [
       "<div>\n",
       "<style scoped>\n",
       "    .dataframe tbody tr th:only-of-type {\n",
       "        vertical-align: middle;\n",
       "    }\n",
       "\n",
       "    .dataframe tbody tr th {\n",
       "        vertical-align: top;\n",
       "    }\n",
       "\n",
       "    .dataframe thead th {\n",
       "        text-align: right;\n",
       "    }\n",
       "</style>\n",
       "<table border=\"1\" class=\"dataframe\">\n",
       "  <thead>\n",
       "    <tr style=\"text-align: right;\">\n",
       "      <th></th>\n",
       "      <th>fav_genre</th>\n",
       "      <th>age</th>\n",
       "      <th>hours_per_day</th>\n",
       "      <th>bpm</th>\n",
       "      <th>anxiety</th>\n",
       "      <th>depression</th>\n",
       "      <th>insomnia</th>\n",
       "      <th>ocd</th>\n",
       "      <th>age_rank</th>\n",
       "      <th>hours_rank</th>\n",
       "      <th>bpm_rank</th>\n",
       "      <th>anxiety_rank</th>\n",
       "      <th>depression_rank</th>\n",
       "      <th>insomnia_rank</th>\n",
       "      <th>ocd_rank</th>\n",
       "    </tr>\n",
       "  </thead>\n",
       "  <tbody>\n",
       "    <tr>\n",
       "      <th>0</th>\n",
       "      <td>Classical</td>\n",
       "      <td>26.226415</td>\n",
       "      <td>2.882075</td>\n",
       "      <td>115.905660</td>\n",
       "      <td>4.886792</td>\n",
       "      <td>4.075472</td>\n",
       "      <td>3.792453</td>\n",
       "      <td>2.377358</td>\n",
       "      <td>3</td>\n",
       "      <td>14</td>\n",
       "      <td>10</td>\n",
       "      <td>14</td>\n",
       "      <td>12</td>\n",
       "      <td>8</td>\n",
       "      <td>12</td>\n",
       "    </tr>\n",
       "    <tr>\n",
       "      <th>1</th>\n",
       "      <td>Country</td>\n",
       "      <td>25.541667</td>\n",
       "      <td>3.354167</td>\n",
       "      <td>112.875000</td>\n",
       "      <td>5.250000</td>\n",
       "      <td>4.166667</td>\n",
       "      <td>2.458333</td>\n",
       "      <td>2.583333</td>\n",
       "      <td>5</td>\n",
       "      <td>11</td>\n",
       "      <td>13</td>\n",
       "      <td>11</td>\n",
       "      <td>11</td>\n",
       "      <td>15</td>\n",
       "      <td>9</td>\n",
       "    </tr>\n",
       "    <tr>\n",
       "      <th>2</th>\n",
       "      <td>EDM</td>\n",
       "      <td>22.054054</td>\n",
       "      <td>4.594595</td>\n",
       "      <td>146.756757</td>\n",
       "      <td>5.486486</td>\n",
       "      <td>5.243243</td>\n",
       "      <td>3.972973</td>\n",
       "      <td>3.000000</td>\n",
       "      <td>12</td>\n",
       "      <td>4</td>\n",
       "      <td>1</td>\n",
       "      <td>10</td>\n",
       "      <td>3</td>\n",
       "      <td>4</td>\n",
       "      <td>3</td>\n",
       "    </tr>\n",
       "    <tr>\n",
       "      <th>3</th>\n",
       "      <td>Folk</td>\n",
       "      <td>25.800000</td>\n",
       "      <td>3.236667</td>\n",
       "      <td>110.933333</td>\n",
       "      <td>6.566667</td>\n",
       "      <td>5.066667</td>\n",
       "      <td>3.633333</td>\n",
       "      <td>2.200000</td>\n",
       "      <td>4</td>\n",
       "      <td>12</td>\n",
       "      <td>15</td>\n",
       "      <td>1</td>\n",
       "      <td>6</td>\n",
       "      <td>9</td>\n",
       "      <td>14</td>\n",
       "    </tr>\n",
       "    <tr>\n",
       "      <th>4</th>\n",
       "      <td>Gospel</td>\n",
       "      <td>55.666667</td>\n",
       "      <td>2.375000</td>\n",
       "      <td>99.500000</td>\n",
       "      <td>4.833333</td>\n",
       "      <td>2.666667</td>\n",
       "      <td>5.333333</td>\n",
       "      <td>0.333333</td>\n",
       "      <td>1</td>\n",
       "      <td>16</td>\n",
       "      <td>16</td>\n",
       "      <td>15</td>\n",
       "      <td>16</td>\n",
       "      <td>2</td>\n",
       "      <td>16</td>\n",
       "    </tr>\n",
       "    <tr>\n",
       "      <th>5</th>\n",
       "      <td>Hip hop</td>\n",
       "      <td>23.441176</td>\n",
       "      <td>3.955882</td>\n",
       "      <td>112.382353</td>\n",
       "      <td>6.117647</td>\n",
       "      <td>5.882353</td>\n",
       "      <td>3.470588</td>\n",
       "      <td>2.588235</td>\n",
       "      <td>9</td>\n",
       "      <td>7</td>\n",
       "      <td>14</td>\n",
       "      <td>4</td>\n",
       "      <td>2</td>\n",
       "      <td>10</td>\n",
       "      <td>8</td>\n",
       "    </tr>\n",
       "    <tr>\n",
       "      <th>6</th>\n",
       "      <td>Jazz</td>\n",
       "      <td>25.450000</td>\n",
       "      <td>5.425000</td>\n",
       "      <td>124.250000</td>\n",
       "      <td>5.900000</td>\n",
       "      <td>4.500000</td>\n",
       "      <td>3.850000</td>\n",
       "      <td>2.800000</td>\n",
       "      <td>6</td>\n",
       "      <td>2</td>\n",
       "      <td>6</td>\n",
       "      <td>8</td>\n",
       "      <td>7</td>\n",
       "      <td>7</td>\n",
       "      <td>5</td>\n",
       "    </tr>\n",
       "    <tr>\n",
       "      <th>7</th>\n",
       "      <td>K pop</td>\n",
       "      <td>18.423077</td>\n",
       "      <td>4.000000</td>\n",
       "      <td>128.230769</td>\n",
       "      <td>6.230769</td>\n",
       "      <td>4.423077</td>\n",
       "      <td>3.461538</td>\n",
       "      <td>2.538462</td>\n",
       "      <td>15</td>\n",
       "      <td>6</td>\n",
       "      <td>4</td>\n",
       "      <td>2</td>\n",
       "      <td>9</td>\n",
       "      <td>11</td>\n",
       "      <td>10</td>\n",
       "    </tr>\n",
       "    <tr>\n",
       "      <th>8</th>\n",
       "      <td>Latin</td>\n",
       "      <td>17.666667</td>\n",
       "      <td>6.666667</td>\n",
       "      <td>133.666667</td>\n",
       "      <td>4.333333</td>\n",
       "      <td>3.000000</td>\n",
       "      <td>3.333333</td>\n",
       "      <td>1.666667</td>\n",
       "      <td>16</td>\n",
       "      <td>1</td>\n",
       "      <td>3</td>\n",
       "      <td>16</td>\n",
       "      <td>15</td>\n",
       "      <td>13</td>\n",
       "      <td>15</td>\n",
       "    </tr>\n",
       "    <tr>\n",
       "      <th>9</th>\n",
       "      <td>Lofi</td>\n",
       "      <td>22.100000</td>\n",
       "      <td>4.200000</td>\n",
       "      <td>114.300000</td>\n",
       "      <td>6.100000</td>\n",
       "      <td>6.600000</td>\n",
       "      <td>5.600000</td>\n",
       "      <td>3.400000</td>\n",
       "      <td>11</td>\n",
       "      <td>5</td>\n",
       "      <td>12</td>\n",
       "      <td>5</td>\n",
       "      <td>1</td>\n",
       "      <td>1</td>\n",
       "      <td>1</td>\n",
       "    </tr>\n",
       "    <tr>\n",
       "      <th>10</th>\n",
       "      <td>Metal</td>\n",
       "      <td>25.113636</td>\n",
       "      <td>3.596591</td>\n",
       "      <td>136.931818</td>\n",
       "      <td>5.761364</td>\n",
       "      <td>5.068182</td>\n",
       "      <td>4.556818</td>\n",
       "      <td>2.397727</td>\n",
       "      <td>8</td>\n",
       "      <td>9</td>\n",
       "      <td>2</td>\n",
       "      <td>9</td>\n",
       "      <td>5</td>\n",
       "      <td>3</td>\n",
       "      <td>11</td>\n",
       "    </tr>\n",
       "    <tr>\n",
       "      <th>11</th>\n",
       "      <td>Pop</td>\n",
       "      <td>23.254386</td>\n",
       "      <td>2.907895</td>\n",
       "      <td>119.070175</td>\n",
       "      <td>6.074561</td>\n",
       "      <td>4.486842</td>\n",
       "      <td>3.368421</td>\n",
       "      <td>2.855263</td>\n",
       "      <td>10</td>\n",
       "      <td>13</td>\n",
       "      <td>9</td>\n",
       "      <td>6</td>\n",
       "      <td>8</td>\n",
       "      <td>12</td>\n",
       "      <td>4</td>\n",
       "    </tr>\n",
       "    <tr>\n",
       "      <th>12</th>\n",
       "      <td>R&amp;B</td>\n",
       "      <td>25.342857</td>\n",
       "      <td>3.471429</td>\n",
       "      <td>115.000000</td>\n",
       "      <td>5.171429</td>\n",
       "      <td>3.828571</td>\n",
       "      <td>2.885714</td>\n",
       "      <td>2.742857</td>\n",
       "      <td>7</td>\n",
       "      <td>10</td>\n",
       "      <td>11</td>\n",
       "      <td>12</td>\n",
       "      <td>14</td>\n",
       "      <td>14</td>\n",
       "      <td>6</td>\n",
       "    </tr>\n",
       "    <tr>\n",
       "      <th>13</th>\n",
       "      <td>Rap</td>\n",
       "      <td>21.772727</td>\n",
       "      <td>5.318182</td>\n",
       "      <td>126.454545</td>\n",
       "      <td>5.090909</td>\n",
       "      <td>4.000000</td>\n",
       "      <td>2.272727</td>\n",
       "      <td>3.181818</td>\n",
       "      <td>13</td>\n",
       "      <td>3</td>\n",
       "      <td>5</td>\n",
       "      <td>13</td>\n",
       "      <td>13</td>\n",
       "      <td>16</td>\n",
       "      <td>2</td>\n",
       "    </tr>\n",
       "    <tr>\n",
       "      <th>14</th>\n",
       "      <td>Rock</td>\n",
       "      <td>28.420213</td>\n",
       "      <td>3.634043</td>\n",
       "      <td>123.255319</td>\n",
       "      <td>6.122340</td>\n",
       "      <td>5.236702</td>\n",
       "      <td>3.880319</td>\n",
       "      <td>2.678191</td>\n",
       "      <td>2</td>\n",
       "      <td>8</td>\n",
       "      <td>7</td>\n",
       "      <td>3</td>\n",
       "      <td>4</td>\n",
       "      <td>6</td>\n",
       "      <td>7</td>\n",
       "    </tr>\n",
       "    <tr>\n",
       "      <th>15</th>\n",
       "      <td>Video game music</td>\n",
       "      <td>21.720930</td>\n",
       "      <td>2.819767</td>\n",
       "      <td>119.790698</td>\n",
       "      <td>5.930233</td>\n",
       "      <td>4.395349</td>\n",
       "      <td>3.906977</td>\n",
       "      <td>2.348837</td>\n",
       "      <td>14</td>\n",
       "      <td>15</td>\n",
       "      <td>8</td>\n",
       "      <td>7</td>\n",
       "      <td>10</td>\n",
       "      <td>5</td>\n",
       "      <td>13</td>\n",
       "    </tr>\n",
       "  </tbody>\n",
       "</table>\n",
       "</div>"
      ],
      "text/plain": [
       "           fav_genre        age  hours_per_day         bpm   anxiety  \\\n",
       "0          Classical  26.226415       2.882075  115.905660  4.886792   \n",
       "1            Country  25.541667       3.354167  112.875000  5.250000   \n",
       "2                EDM  22.054054       4.594595  146.756757  5.486486   \n",
       "3               Folk  25.800000       3.236667  110.933333  6.566667   \n",
       "4             Gospel  55.666667       2.375000   99.500000  4.833333   \n",
       "5            Hip hop  23.441176       3.955882  112.382353  6.117647   \n",
       "6               Jazz  25.450000       5.425000  124.250000  5.900000   \n",
       "7              K pop  18.423077       4.000000  128.230769  6.230769   \n",
       "8              Latin  17.666667       6.666667  133.666667  4.333333   \n",
       "9               Lofi  22.100000       4.200000  114.300000  6.100000   \n",
       "10             Metal  25.113636       3.596591  136.931818  5.761364   \n",
       "11               Pop  23.254386       2.907895  119.070175  6.074561   \n",
       "12               R&B  25.342857       3.471429  115.000000  5.171429   \n",
       "13               Rap  21.772727       5.318182  126.454545  5.090909   \n",
       "14              Rock  28.420213       3.634043  123.255319  6.122340   \n",
       "15  Video game music  21.720930       2.819767  119.790698  5.930233   \n",
       "\n",
       "    depression  insomnia       ocd  age_rank  hours_rank  bpm_rank  \\\n",
       "0     4.075472  3.792453  2.377358         3          14        10   \n",
       "1     4.166667  2.458333  2.583333         5          11        13   \n",
       "2     5.243243  3.972973  3.000000        12           4         1   \n",
       "3     5.066667  3.633333  2.200000         4          12        15   \n",
       "4     2.666667  5.333333  0.333333         1          16        16   \n",
       "5     5.882353  3.470588  2.588235         9           7        14   \n",
       "6     4.500000  3.850000  2.800000         6           2         6   \n",
       "7     4.423077  3.461538  2.538462        15           6         4   \n",
       "8     3.000000  3.333333  1.666667        16           1         3   \n",
       "9     6.600000  5.600000  3.400000        11           5        12   \n",
       "10    5.068182  4.556818  2.397727         8           9         2   \n",
       "11    4.486842  3.368421  2.855263        10          13         9   \n",
       "12    3.828571  2.885714  2.742857         7          10        11   \n",
       "13    4.000000  2.272727  3.181818        13           3         5   \n",
       "14    5.236702  3.880319  2.678191         2           8         7   \n",
       "15    4.395349  3.906977  2.348837        14          15         8   \n",
       "\n",
       "    anxiety_rank  depression_rank  insomnia_rank  ocd_rank  \n",
       "0             14               12              8        12  \n",
       "1             11               11             15         9  \n",
       "2             10                3              4         3  \n",
       "3              1                6              9        14  \n",
       "4             15               16              2        16  \n",
       "5              4                2             10         8  \n",
       "6              8                7              7         5  \n",
       "7              2                9             11        10  \n",
       "8             16               15             13        15  \n",
       "9              5                1              1         1  \n",
       "10             9                5              3        11  \n",
       "11             6                8             12         4  \n",
       "12            12               14             14         6  \n",
       "13            13               13             16         2  \n",
       "14             3                4              6         7  \n",
       "15             7               10              5        13  "
      ]
     },
     "execution_count": 214,
     "metadata": {},
     "output_type": "execute_result"
    }
   ],
   "source": [
    "df_grouped['hours_rank'] = df_grouped['hours_rank'].astype(int)\n",
    "df_grouped['bpm_rank'] = df_grouped['bpm_rank'].astype(int)\n",
    "df_grouped['anxiety_rank'] = df_grouped['anxiety_rank'].astype(int)\n",
    "df_grouped['depression_rank'] = df_grouped['depression_rank'].astype(int)\n",
    "df_grouped['insomnia_rank'] = df_grouped['insomnia_rank'].astype(int)\n",
    "df_grouped['ocd_rank'] = df_grouped['ocd_rank'].astype(int)\n",
    "df_grouped"
   ]
  },
  {
   "cell_type": "code",
   "execution_count": 215,
   "id": "b5c48e3c",
   "metadata": {},
   "outputs": [
    {
     "data": {
      "text/plain": [
       "0      No effect\n",
       "1      No effect\n",
       "2      No effect\n",
       "3        Improve\n",
       "4        Improve\n",
       "         ...    \n",
       "731      Improve\n",
       "732      Improve\n",
       "733      Improve\n",
       "734      Improve\n",
       "735      Improve\n",
       "Name: music_effects, Length: 733, dtype: object"
      ]
     },
     "execution_count": 215,
     "metadata": {},
     "output_type": "execute_result"
    }
   ],
   "source": [
    "df['music_effects']"
   ]
  },
  {
   "cell_type": "code",
   "execution_count": 218,
   "id": "2f8d3877",
   "metadata": {},
   "outputs": [
    {
     "data": {
      "text/plain": [
       "Improve      540\n",
       "No effect    176\n",
       "Worsen        17\n",
       "Name: music_effects, dtype: int64"
      ]
     },
     "execution_count": 218,
     "metadata": {},
     "output_type": "execute_result"
    }
   ],
   "source": [
    "df['music_effects'].value_counts()"
   ]
  },
  {
   "cell_type": "code",
   "execution_count": 219,
   "id": "15f43ad7",
   "metadata": {},
   "outputs": [
    {
     "data": {
      "text/html": [
       "<div>\n",
       "<style scoped>\n",
       "    .dataframe tbody tr th:only-of-type {\n",
       "        vertical-align: middle;\n",
       "    }\n",
       "\n",
       "    .dataframe tbody tr th {\n",
       "        vertical-align: top;\n",
       "    }\n",
       "\n",
       "    .dataframe thead th {\n",
       "        text-align: right;\n",
       "    }\n",
       "</style>\n",
       "<table border=\"1\" class=\"dataframe\">\n",
       "  <thead>\n",
       "    <tr style=\"text-align: right;\">\n",
       "      <th></th>\n",
       "      <th>timestamp</th>\n",
       "      <th>age</th>\n",
       "      <th>primary_streaming_service</th>\n",
       "      <th>hours_per_day</th>\n",
       "      <th>while_working</th>\n",
       "      <th>instrumentalist</th>\n",
       "      <th>composer</th>\n",
       "      <th>fav_genre</th>\n",
       "      <th>exploratory</th>\n",
       "      <th>foreign_languages</th>\n",
       "      <th>...</th>\n",
       "      <th>frequency_r&amp;b</th>\n",
       "      <th>frequency_rap</th>\n",
       "      <th>frequency_rock</th>\n",
       "      <th>frequency_video_game_music</th>\n",
       "      <th>anxiety</th>\n",
       "      <th>depression</th>\n",
       "      <th>insomnia</th>\n",
       "      <th>ocd</th>\n",
       "      <th>music_effects</th>\n",
       "      <th>permissions</th>\n",
       "    </tr>\n",
       "  </thead>\n",
       "  <tbody>\n",
       "    <tr>\n",
       "      <th>31</th>\n",
       "      <td>8/28/2022 10:38:05</td>\n",
       "      <td>19.0</td>\n",
       "      <td>Spotify</td>\n",
       "      <td>2.00</td>\n",
       "      <td>Yes</td>\n",
       "      <td>No</td>\n",
       "      <td>No</td>\n",
       "      <td>Classical</td>\n",
       "      <td>No</td>\n",
       "      <td>No</td>\n",
       "      <td>...</td>\n",
       "      <td>Never</td>\n",
       "      <td>Never</td>\n",
       "      <td>Never</td>\n",
       "      <td>Very frequently</td>\n",
       "      <td>4.0</td>\n",
       "      <td>4.0</td>\n",
       "      <td>4.0</td>\n",
       "      <td>3.0</td>\n",
       "      <td>No effect</td>\n",
       "      <td>I understand.</td>\n",
       "    </tr>\n",
       "    <tr>\n",
       "      <th>34</th>\n",
       "      <td>8/28/2022 11:08:51</td>\n",
       "      <td>16.0</td>\n",
       "      <td>Spotify</td>\n",
       "      <td>1.00</td>\n",
       "      <td>Yes</td>\n",
       "      <td>No</td>\n",
       "      <td>No</td>\n",
       "      <td>Classical</td>\n",
       "      <td>No</td>\n",
       "      <td>No</td>\n",
       "      <td>...</td>\n",
       "      <td>Never</td>\n",
       "      <td>Never</td>\n",
       "      <td>Never</td>\n",
       "      <td>Rarely</td>\n",
       "      <td>0.0</td>\n",
       "      <td>0.0</td>\n",
       "      <td>0.0</td>\n",
       "      <td>0.0</td>\n",
       "      <td>No effect</td>\n",
       "      <td>I understand.</td>\n",
       "    </tr>\n",
       "    <tr>\n",
       "      <th>43</th>\n",
       "      <td>8/28/2022 11:58:48</td>\n",
       "      <td>17.0</td>\n",
       "      <td>Spotify</td>\n",
       "      <td>3.00</td>\n",
       "      <td>Yes</td>\n",
       "      <td>No</td>\n",
       "      <td>No</td>\n",
       "      <td>Classical</td>\n",
       "      <td>Yes</td>\n",
       "      <td>Yes</td>\n",
       "      <td>...</td>\n",
       "      <td>Very frequently</td>\n",
       "      <td>Very frequently</td>\n",
       "      <td>Rarely</td>\n",
       "      <td>Sometimes</td>\n",
       "      <td>6.0</td>\n",
       "      <td>6.0</td>\n",
       "      <td>8.0</td>\n",
       "      <td>2.0</td>\n",
       "      <td>Improve</td>\n",
       "      <td>I understand.</td>\n",
       "    </tr>\n",
       "    <tr>\n",
       "      <th>46</th>\n",
       "      <td>8/28/2022 12:15:02</td>\n",
       "      <td>36.0</td>\n",
       "      <td>Spotify</td>\n",
       "      <td>1.00</td>\n",
       "      <td>No</td>\n",
       "      <td>Yes</td>\n",
       "      <td>Yes</td>\n",
       "      <td>Classical</td>\n",
       "      <td>No</td>\n",
       "      <td>No</td>\n",
       "      <td>...</td>\n",
       "      <td>Never</td>\n",
       "      <td>Never</td>\n",
       "      <td>Sometimes</td>\n",
       "      <td>Never</td>\n",
       "      <td>8.0</td>\n",
       "      <td>9.0</td>\n",
       "      <td>3.0</td>\n",
       "      <td>0.0</td>\n",
       "      <td>No effect</td>\n",
       "      <td>I understand.</td>\n",
       "    </tr>\n",
       "    <tr>\n",
       "      <th>55</th>\n",
       "      <td>8/28/2022 13:01:42</td>\n",
       "      <td>16.0</td>\n",
       "      <td>Apple Music</td>\n",
       "      <td>2.00</td>\n",
       "      <td>Yes</td>\n",
       "      <td>Yes</td>\n",
       "      <td>No</td>\n",
       "      <td>Classical</td>\n",
       "      <td>Yes</td>\n",
       "      <td>No</td>\n",
       "      <td>...</td>\n",
       "      <td>Rarely</td>\n",
       "      <td>Rarely</td>\n",
       "      <td>Sometimes</td>\n",
       "      <td>Rarely</td>\n",
       "      <td>0.0</td>\n",
       "      <td>0.0</td>\n",
       "      <td>1.0</td>\n",
       "      <td>3.0</td>\n",
       "      <td>Improve</td>\n",
       "      <td>I understand.</td>\n",
       "    </tr>\n",
       "    <tr>\n",
       "      <th>92</th>\n",
       "      <td>8/28/2022 14:49:18</td>\n",
       "      <td>24.0</td>\n",
       "      <td>Spotify</td>\n",
       "      <td>4.00</td>\n",
       "      <td>Yes</td>\n",
       "      <td>No</td>\n",
       "      <td>No</td>\n",
       "      <td>Classical</td>\n",
       "      <td>Yes</td>\n",
       "      <td>Yes</td>\n",
       "      <td>...</td>\n",
       "      <td>Rarely</td>\n",
       "      <td>Never</td>\n",
       "      <td>Very frequently</td>\n",
       "      <td>Rarely</td>\n",
       "      <td>4.0</td>\n",
       "      <td>6.0</td>\n",
       "      <td>5.0</td>\n",
       "      <td>3.0</td>\n",
       "      <td>Improve</td>\n",
       "      <td>I understand.</td>\n",
       "    </tr>\n",
       "    <tr>\n",
       "      <th>101</th>\n",
       "      <td>8/28/2022 15:22:00</td>\n",
       "      <td>25.0</td>\n",
       "      <td>I do not use a streaming service.</td>\n",
       "      <td>0.50</td>\n",
       "      <td>No</td>\n",
       "      <td>Yes</td>\n",
       "      <td>No</td>\n",
       "      <td>Classical</td>\n",
       "      <td>No</td>\n",
       "      <td>No</td>\n",
       "      <td>...</td>\n",
       "      <td>Rarely</td>\n",
       "      <td>Never</td>\n",
       "      <td>Very frequently</td>\n",
       "      <td>Sometimes</td>\n",
       "      <td>1.0</td>\n",
       "      <td>1.0</td>\n",
       "      <td>3.0</td>\n",
       "      <td>1.0</td>\n",
       "      <td>Improve</td>\n",
       "      <td>I understand.</td>\n",
       "    </tr>\n",
       "    <tr>\n",
       "      <th>136</th>\n",
       "      <td>8/28/2022 17:56:27</td>\n",
       "      <td>19.0</td>\n",
       "      <td>Spotify</td>\n",
       "      <td>3.00</td>\n",
       "      <td>Yes</td>\n",
       "      <td>Yes</td>\n",
       "      <td>No</td>\n",
       "      <td>Classical</td>\n",
       "      <td>Yes</td>\n",
       "      <td>No</td>\n",
       "      <td>...</td>\n",
       "      <td>Never</td>\n",
       "      <td>Never</td>\n",
       "      <td>Rarely</td>\n",
       "      <td>Sometimes</td>\n",
       "      <td>3.0</td>\n",
       "      <td>3.0</td>\n",
       "      <td>1.0</td>\n",
       "      <td>2.0</td>\n",
       "      <td>Improve</td>\n",
       "      <td>I understand.</td>\n",
       "    </tr>\n",
       "    <tr>\n",
       "      <th>187</th>\n",
       "      <td>8/28/2022 20:12:05</td>\n",
       "      <td>31.0</td>\n",
       "      <td>Spotify</td>\n",
       "      <td>4.00</td>\n",
       "      <td>Yes</td>\n",
       "      <td>Yes</td>\n",
       "      <td>No</td>\n",
       "      <td>Classical</td>\n",
       "      <td>No</td>\n",
       "      <td>Yes</td>\n",
       "      <td>...</td>\n",
       "      <td>Never</td>\n",
       "      <td>Sometimes</td>\n",
       "      <td>Sometimes</td>\n",
       "      <td>Never</td>\n",
       "      <td>6.0</td>\n",
       "      <td>8.0</td>\n",
       "      <td>9.0</td>\n",
       "      <td>5.0</td>\n",
       "      <td>Improve</td>\n",
       "      <td>I understand.</td>\n",
       "    </tr>\n",
       "    <tr>\n",
       "      <th>206</th>\n",
       "      <td>8/28/2022 21:23:07</td>\n",
       "      <td>23.0</td>\n",
       "      <td>I do not use a streaming service.</td>\n",
       "      <td>6.00</td>\n",
       "      <td>Yes</td>\n",
       "      <td>No</td>\n",
       "      <td>Yes</td>\n",
       "      <td>Classical</td>\n",
       "      <td>No</td>\n",
       "      <td>Yes</td>\n",
       "      <td>...</td>\n",
       "      <td>Never</td>\n",
       "      <td>Never</td>\n",
       "      <td>Never</td>\n",
       "      <td>Rarely</td>\n",
       "      <td>6.0</td>\n",
       "      <td>5.0</td>\n",
       "      <td>6.0</td>\n",
       "      <td>8.0</td>\n",
       "      <td>Improve</td>\n",
       "      <td>I understand.</td>\n",
       "    </tr>\n",
       "    <tr>\n",
       "      <th>242</th>\n",
       "      <td>8/28/2022 23:08:27</td>\n",
       "      <td>29.0</td>\n",
       "      <td>Spotify</td>\n",
       "      <td>5.00</td>\n",
       "      <td>Yes</td>\n",
       "      <td>Yes</td>\n",
       "      <td>Yes</td>\n",
       "      <td>Classical</td>\n",
       "      <td>Yes</td>\n",
       "      <td>Yes</td>\n",
       "      <td>...</td>\n",
       "      <td>Rarely</td>\n",
       "      <td>Never</td>\n",
       "      <td>Sometimes</td>\n",
       "      <td>Never</td>\n",
       "      <td>7.0</td>\n",
       "      <td>2.0</td>\n",
       "      <td>2.0</td>\n",
       "      <td>0.0</td>\n",
       "      <td>Improve</td>\n",
       "      <td>I understand.</td>\n",
       "    </tr>\n",
       "    <tr>\n",
       "      <th>246</th>\n",
       "      <td>8/28/2022 23:23:50</td>\n",
       "      <td>17.0</td>\n",
       "      <td>Spotify</td>\n",
       "      <td>4.00</td>\n",
       "      <td>No</td>\n",
       "      <td>Yes</td>\n",
       "      <td>No</td>\n",
       "      <td>Classical</td>\n",
       "      <td>Yes</td>\n",
       "      <td>Yes</td>\n",
       "      <td>...</td>\n",
       "      <td>Sometimes</td>\n",
       "      <td>Rarely</td>\n",
       "      <td>Never</td>\n",
       "      <td>Rarely</td>\n",
       "      <td>7.0</td>\n",
       "      <td>9.0</td>\n",
       "      <td>2.0</td>\n",
       "      <td>8.0</td>\n",
       "      <td>Worsen</td>\n",
       "      <td>I understand.</td>\n",
       "    </tr>\n",
       "    <tr>\n",
       "      <th>259</th>\n",
       "      <td>8/29/2022 0:21:31</td>\n",
       "      <td>32.0</td>\n",
       "      <td>Apple Music</td>\n",
       "      <td>0.50</td>\n",
       "      <td>No</td>\n",
       "      <td>No</td>\n",
       "      <td>No</td>\n",
       "      <td>Classical</td>\n",
       "      <td>Yes</td>\n",
       "      <td>No</td>\n",
       "      <td>...</td>\n",
       "      <td>Never</td>\n",
       "      <td>Never</td>\n",
       "      <td>Very frequently</td>\n",
       "      <td>Rarely</td>\n",
       "      <td>3.0</td>\n",
       "      <td>0.0</td>\n",
       "      <td>4.0</td>\n",
       "      <td>4.0</td>\n",
       "      <td>No effect</td>\n",
       "      <td>I understand.</td>\n",
       "    </tr>\n",
       "    <tr>\n",
       "      <th>266</th>\n",
       "      <td>8/29/2022 0:47:59</td>\n",
       "      <td>31.0</td>\n",
       "      <td>Spotify</td>\n",
       "      <td>8.00</td>\n",
       "      <td>Yes</td>\n",
       "      <td>Yes</td>\n",
       "      <td>No</td>\n",
       "      <td>Classical</td>\n",
       "      <td>Yes</td>\n",
       "      <td>Yes</td>\n",
       "      <td>...</td>\n",
       "      <td>Never</td>\n",
       "      <td>Never</td>\n",
       "      <td>Rarely</td>\n",
       "      <td>Rarely</td>\n",
       "      <td>5.0</td>\n",
       "      <td>7.0</td>\n",
       "      <td>5.0</td>\n",
       "      <td>4.0</td>\n",
       "      <td>Improve</td>\n",
       "      <td>I understand.</td>\n",
       "    </tr>\n",
       "    <tr>\n",
       "      <th>348</th>\n",
       "      <td>8/29/2022 9:43:35</td>\n",
       "      <td>17.0</td>\n",
       "      <td>YouTube Music</td>\n",
       "      <td>6.00</td>\n",
       "      <td>Yes</td>\n",
       "      <td>Yes</td>\n",
       "      <td>No</td>\n",
       "      <td>Classical</td>\n",
       "      <td>Yes</td>\n",
       "      <td>Yes</td>\n",
       "      <td>...</td>\n",
       "      <td>Never</td>\n",
       "      <td>Never</td>\n",
       "      <td>Never</td>\n",
       "      <td>Rarely</td>\n",
       "      <td>4.0</td>\n",
       "      <td>2.0</td>\n",
       "      <td>0.0</td>\n",
       "      <td>0.0</td>\n",
       "      <td>Improve</td>\n",
       "      <td>I understand.</td>\n",
       "    </tr>\n",
       "    <tr>\n",
       "      <th>368</th>\n",
       "      <td>8/29/2022 14:13:58</td>\n",
       "      <td>32.0</td>\n",
       "      <td>Pandora</td>\n",
       "      <td>2.00</td>\n",
       "      <td>Yes</td>\n",
       "      <td>Yes</td>\n",
       "      <td>No</td>\n",
       "      <td>Classical</td>\n",
       "      <td>Yes</td>\n",
       "      <td>No</td>\n",
       "      <td>...</td>\n",
       "      <td>Sometimes</td>\n",
       "      <td>Rarely</td>\n",
       "      <td>Very frequently</td>\n",
       "      <td>Very frequently</td>\n",
       "      <td>8.0</td>\n",
       "      <td>7.0</td>\n",
       "      <td>5.0</td>\n",
       "      <td>4.0</td>\n",
       "      <td>Improve</td>\n",
       "      <td>I understand.</td>\n",
       "    </tr>\n",
       "    <tr>\n",
       "      <th>371</th>\n",
       "      <td>8/29/2022 14:53:54</td>\n",
       "      <td>24.0</td>\n",
       "      <td>Spotify</td>\n",
       "      <td>3.00</td>\n",
       "      <td>Yes</td>\n",
       "      <td>Yes</td>\n",
       "      <td>No</td>\n",
       "      <td>Classical</td>\n",
       "      <td>No</td>\n",
       "      <td>Yes</td>\n",
       "      <td>...</td>\n",
       "      <td>Never</td>\n",
       "      <td>Rarely</td>\n",
       "      <td>Never</td>\n",
       "      <td>Never</td>\n",
       "      <td>9.0</td>\n",
       "      <td>6.0</td>\n",
       "      <td>1.0</td>\n",
       "      <td>1.0</td>\n",
       "      <td>Improve</td>\n",
       "      <td>I understand.</td>\n",
       "    </tr>\n",
       "    <tr>\n",
       "      <th>383</th>\n",
       "      <td>8/29/2022 17:52:06</td>\n",
       "      <td>19.0</td>\n",
       "      <td>Apple Music</td>\n",
       "      <td>3.00</td>\n",
       "      <td>No</td>\n",
       "      <td>Yes</td>\n",
       "      <td>No</td>\n",
       "      <td>Classical</td>\n",
       "      <td>Yes</td>\n",
       "      <td>No</td>\n",
       "      <td>...</td>\n",
       "      <td>Never</td>\n",
       "      <td>Never</td>\n",
       "      <td>Very frequently</td>\n",
       "      <td>Sometimes</td>\n",
       "      <td>7.0</td>\n",
       "      <td>6.0</td>\n",
       "      <td>4.0</td>\n",
       "      <td>0.0</td>\n",
       "      <td>Improve</td>\n",
       "      <td>I understand.</td>\n",
       "    </tr>\n",
       "    <tr>\n",
       "      <th>384</th>\n",
       "      <td>8/29/2022 17:58:47</td>\n",
       "      <td>12.0</td>\n",
       "      <td>YouTube Music</td>\n",
       "      <td>2.00</td>\n",
       "      <td>Yes</td>\n",
       "      <td>Yes</td>\n",
       "      <td>Yes</td>\n",
       "      <td>Classical</td>\n",
       "      <td>No</td>\n",
       "      <td>No</td>\n",
       "      <td>...</td>\n",
       "      <td>Never</td>\n",
       "      <td>Never</td>\n",
       "      <td>Never</td>\n",
       "      <td>Never</td>\n",
       "      <td>0.0</td>\n",
       "      <td>0.0</td>\n",
       "      <td>3.0</td>\n",
       "      <td>0.0</td>\n",
       "      <td>Improve</td>\n",
       "      <td>I understand.</td>\n",
       "    </tr>\n",
       "    <tr>\n",
       "      <th>385</th>\n",
       "      <td>8/29/2022 18:00:27</td>\n",
       "      <td>16.0</td>\n",
       "      <td>Other streaming service</td>\n",
       "      <td>3.00</td>\n",
       "      <td>Yes</td>\n",
       "      <td>Yes</td>\n",
       "      <td>Yes</td>\n",
       "      <td>Classical</td>\n",
       "      <td>No</td>\n",
       "      <td>No</td>\n",
       "      <td>...</td>\n",
       "      <td>Never</td>\n",
       "      <td>Never</td>\n",
       "      <td>Never</td>\n",
       "      <td>Rarely</td>\n",
       "      <td>9.0</td>\n",
       "      <td>7.0</td>\n",
       "      <td>10.0</td>\n",
       "      <td>6.0</td>\n",
       "      <td>No effect</td>\n",
       "      <td>I understand.</td>\n",
       "    </tr>\n",
       "    <tr>\n",
       "      <th>390</th>\n",
       "      <td>8/29/2022 18:56:27</td>\n",
       "      <td>54.0</td>\n",
       "      <td>I do not use a streaming service.</td>\n",
       "      <td>6.00</td>\n",
       "      <td>Yes</td>\n",
       "      <td>No</td>\n",
       "      <td>No</td>\n",
       "      <td>Classical</td>\n",
       "      <td>No</td>\n",
       "      <td>No</td>\n",
       "      <td>...</td>\n",
       "      <td>Sometimes</td>\n",
       "      <td>Rarely</td>\n",
       "      <td>Rarely</td>\n",
       "      <td>Never</td>\n",
       "      <td>2.0</td>\n",
       "      <td>2.0</td>\n",
       "      <td>3.0</td>\n",
       "      <td>2.0</td>\n",
       "      <td>Improve</td>\n",
       "      <td>I understand.</td>\n",
       "    </tr>\n",
       "    <tr>\n",
       "      <th>392</th>\n",
       "      <td>8/29/2022 19:07:50</td>\n",
       "      <td>14.0</td>\n",
       "      <td>Spotify</td>\n",
       "      <td>2.00</td>\n",
       "      <td>Yes</td>\n",
       "      <td>Yes</td>\n",
       "      <td>No</td>\n",
       "      <td>Classical</td>\n",
       "      <td>Yes</td>\n",
       "      <td>No</td>\n",
       "      <td>...</td>\n",
       "      <td>Never</td>\n",
       "      <td>Rarely</td>\n",
       "      <td>Very frequently</td>\n",
       "      <td>Rarely</td>\n",
       "      <td>7.0</td>\n",
       "      <td>5.0</td>\n",
       "      <td>3.0</td>\n",
       "      <td>2.0</td>\n",
       "      <td>Improve</td>\n",
       "      <td>I understand.</td>\n",
       "    </tr>\n",
       "    <tr>\n",
       "      <th>393</th>\n",
       "      <td>8/29/2022 19:08:34</td>\n",
       "      <td>13.0</td>\n",
       "      <td>Other streaming service</td>\n",
       "      <td>4.00</td>\n",
       "      <td>Yes</td>\n",
       "      <td>Yes</td>\n",
       "      <td>Yes</td>\n",
       "      <td>Classical</td>\n",
       "      <td>Yes</td>\n",
       "      <td>No</td>\n",
       "      <td>...</td>\n",
       "      <td>Never</td>\n",
       "      <td>Never</td>\n",
       "      <td>Sometimes</td>\n",
       "      <td>Sometimes</td>\n",
       "      <td>8.0</td>\n",
       "      <td>5.0</td>\n",
       "      <td>10.0</td>\n",
       "      <td>3.0</td>\n",
       "      <td>Improve</td>\n",
       "      <td>I understand.</td>\n",
       "    </tr>\n",
       "    <tr>\n",
       "      <th>395</th>\n",
       "      <td>8/29/2022 20:03:00</td>\n",
       "      <td>14.0</td>\n",
       "      <td>Spotify</td>\n",
       "      <td>4.00</td>\n",
       "      <td>Yes</td>\n",
       "      <td>Yes</td>\n",
       "      <td>No</td>\n",
       "      <td>Classical</td>\n",
       "      <td>Yes</td>\n",
       "      <td>No</td>\n",
       "      <td>...</td>\n",
       "      <td>Sometimes</td>\n",
       "      <td>Sometimes</td>\n",
       "      <td>Sometimes</td>\n",
       "      <td>Rarely</td>\n",
       "      <td>6.0</td>\n",
       "      <td>8.0</td>\n",
       "      <td>8.0</td>\n",
       "      <td>2.0</td>\n",
       "      <td>Improve</td>\n",
       "      <td>I understand.</td>\n",
       "    </tr>\n",
       "    <tr>\n",
       "      <th>396</th>\n",
       "      <td>8/29/2022 20:03:04</td>\n",
       "      <td>14.0</td>\n",
       "      <td>YouTube Music</td>\n",
       "      <td>1.50</td>\n",
       "      <td>No</td>\n",
       "      <td>Yes</td>\n",
       "      <td>No</td>\n",
       "      <td>Classical</td>\n",
       "      <td>Yes</td>\n",
       "      <td>No</td>\n",
       "      <td>...</td>\n",
       "      <td>Never</td>\n",
       "      <td>Never</td>\n",
       "      <td>Rarely</td>\n",
       "      <td>Sometimes</td>\n",
       "      <td>1.0</td>\n",
       "      <td>2.0</td>\n",
       "      <td>4.0</td>\n",
       "      <td>3.0</td>\n",
       "      <td>Improve</td>\n",
       "      <td>I understand.</td>\n",
       "    </tr>\n",
       "    <tr>\n",
       "      <th>399</th>\n",
       "      <td>8/29/2022 20:18:37</td>\n",
       "      <td>24.0</td>\n",
       "      <td>YouTube Music</td>\n",
       "      <td>6.00</td>\n",
       "      <td>Yes</td>\n",
       "      <td>Yes</td>\n",
       "      <td>No</td>\n",
       "      <td>Classical</td>\n",
       "      <td>No</td>\n",
       "      <td>No</td>\n",
       "      <td>...</td>\n",
       "      <td>Never</td>\n",
       "      <td>Never</td>\n",
       "      <td>Rarely</td>\n",
       "      <td>Never</td>\n",
       "      <td>6.0</td>\n",
       "      <td>7.0</td>\n",
       "      <td>2.0</td>\n",
       "      <td>0.0</td>\n",
       "      <td>No effect</td>\n",
       "      <td>I understand.</td>\n",
       "    </tr>\n",
       "    <tr>\n",
       "      <th>408</th>\n",
       "      <td>8/29/2022 23:36:14</td>\n",
       "      <td>13.0</td>\n",
       "      <td>YouTube Music</td>\n",
       "      <td>3.00</td>\n",
       "      <td>Yes</td>\n",
       "      <td>No</td>\n",
       "      <td>Yes</td>\n",
       "      <td>Classical</td>\n",
       "      <td>No</td>\n",
       "      <td>No</td>\n",
       "      <td>...</td>\n",
       "      <td>Never</td>\n",
       "      <td>Never</td>\n",
       "      <td>Never</td>\n",
       "      <td>Never</td>\n",
       "      <td>8.0</td>\n",
       "      <td>7.0</td>\n",
       "      <td>9.0</td>\n",
       "      <td>2.0</td>\n",
       "      <td>Improve</td>\n",
       "      <td>I understand.</td>\n",
       "    </tr>\n",
       "    <tr>\n",
       "      <th>409</th>\n",
       "      <td>8/30/2022 0:00:29</td>\n",
       "      <td>15.0</td>\n",
       "      <td>Spotify</td>\n",
       "      <td>3.00</td>\n",
       "      <td>Yes</td>\n",
       "      <td>Yes</td>\n",
       "      <td>Yes</td>\n",
       "      <td>Classical</td>\n",
       "      <td>Yes</td>\n",
       "      <td>No</td>\n",
       "      <td>...</td>\n",
       "      <td>Never</td>\n",
       "      <td>Never</td>\n",
       "      <td>Never</td>\n",
       "      <td>Sometimes</td>\n",
       "      <td>9.0</td>\n",
       "      <td>6.0</td>\n",
       "      <td>8.0</td>\n",
       "      <td>5.0</td>\n",
       "      <td>Improve</td>\n",
       "      <td>I understand.</td>\n",
       "    </tr>\n",
       "    <tr>\n",
       "      <th>411</th>\n",
       "      <td>8/30/2022 1:01:09</td>\n",
       "      <td>12.0</td>\n",
       "      <td>Spotify</td>\n",
       "      <td>0.50</td>\n",
       "      <td>Yes</td>\n",
       "      <td>Yes</td>\n",
       "      <td>Yes</td>\n",
       "      <td>Classical</td>\n",
       "      <td>Yes</td>\n",
       "      <td>Yes</td>\n",
       "      <td>...</td>\n",
       "      <td>Never</td>\n",
       "      <td>Never</td>\n",
       "      <td>Never</td>\n",
       "      <td>Never</td>\n",
       "      <td>7.0</td>\n",
       "      <td>8.0</td>\n",
       "      <td>6.0</td>\n",
       "      <td>2.0</td>\n",
       "      <td>Improve</td>\n",
       "      <td>I understand.</td>\n",
       "    </tr>\n",
       "    <tr>\n",
       "      <th>414</th>\n",
       "      <td>8/30/2022 6:10:58</td>\n",
       "      <td>17.0</td>\n",
       "      <td>Spotify</td>\n",
       "      <td>2.00</td>\n",
       "      <td>Yes</td>\n",
       "      <td>Yes</td>\n",
       "      <td>No</td>\n",
       "      <td>Classical</td>\n",
       "      <td>Yes</td>\n",
       "      <td>Yes</td>\n",
       "      <td>...</td>\n",
       "      <td>Rarely</td>\n",
       "      <td>Never</td>\n",
       "      <td>Sometimes</td>\n",
       "      <td>Sometimes</td>\n",
       "      <td>7.0</td>\n",
       "      <td>8.0</td>\n",
       "      <td>2.0</td>\n",
       "      <td>5.0</td>\n",
       "      <td>Improve</td>\n",
       "      <td>I understand.</td>\n",
       "    </tr>\n",
       "    <tr>\n",
       "      <th>415</th>\n",
       "      <td>8/30/2022 8:00:32</td>\n",
       "      <td>69.0</td>\n",
       "      <td>Pandora</td>\n",
       "      <td>4.00</td>\n",
       "      <td>Yes</td>\n",
       "      <td>Yes</td>\n",
       "      <td>Yes</td>\n",
       "      <td>Classical</td>\n",
       "      <td>Yes</td>\n",
       "      <td>Yes</td>\n",
       "      <td>...</td>\n",
       "      <td>Sometimes</td>\n",
       "      <td>Never</td>\n",
       "      <td>Very frequently</td>\n",
       "      <td>Never</td>\n",
       "      <td>1.0</td>\n",
       "      <td>1.0</td>\n",
       "      <td>2.0</td>\n",
       "      <td>0.0</td>\n",
       "      <td>Improve</td>\n",
       "      <td>I understand.</td>\n",
       "    </tr>\n",
       "    <tr>\n",
       "      <th>418</th>\n",
       "      <td>8/30/2022 11:05:06</td>\n",
       "      <td>22.0</td>\n",
       "      <td>YouTube Music</td>\n",
       "      <td>3.00</td>\n",
       "      <td>No</td>\n",
       "      <td>Yes</td>\n",
       "      <td>No</td>\n",
       "      <td>Classical</td>\n",
       "      <td>Yes</td>\n",
       "      <td>No</td>\n",
       "      <td>...</td>\n",
       "      <td>Never</td>\n",
       "      <td>Never</td>\n",
       "      <td>Rarely</td>\n",
       "      <td>Never</td>\n",
       "      <td>8.0</td>\n",
       "      <td>2.0</td>\n",
       "      <td>4.0</td>\n",
       "      <td>0.0</td>\n",
       "      <td>No effect</td>\n",
       "      <td>I understand.</td>\n",
       "    </tr>\n",
       "    <tr>\n",
       "      <th>421</th>\n",
       "      <td>8/30/2022 13:07:20</td>\n",
       "      <td>14.0</td>\n",
       "      <td>Spotify</td>\n",
       "      <td>5.00</td>\n",
       "      <td>Yes</td>\n",
       "      <td>Yes</td>\n",
       "      <td>No</td>\n",
       "      <td>Classical</td>\n",
       "      <td>Yes</td>\n",
       "      <td>Yes</td>\n",
       "      <td>...</td>\n",
       "      <td>Sometimes</td>\n",
       "      <td>Rarely</td>\n",
       "      <td>Rarely</td>\n",
       "      <td>Very frequently</td>\n",
       "      <td>3.0</td>\n",
       "      <td>0.0</td>\n",
       "      <td>2.0</td>\n",
       "      <td>3.0</td>\n",
       "      <td>Improve</td>\n",
       "      <td>I understand.</td>\n",
       "    </tr>\n",
       "    <tr>\n",
       "      <th>424</th>\n",
       "      <td>8/30/2022 16:04:47</td>\n",
       "      <td>20.0</td>\n",
       "      <td>YouTube Music</td>\n",
       "      <td>3.00</td>\n",
       "      <td>Yes</td>\n",
       "      <td>Yes</td>\n",
       "      <td>Yes</td>\n",
       "      <td>Classical</td>\n",
       "      <td>Yes</td>\n",
       "      <td>No</td>\n",
       "      <td>...</td>\n",
       "      <td>Sometimes</td>\n",
       "      <td>Rarely</td>\n",
       "      <td>Rarely</td>\n",
       "      <td>Rarely</td>\n",
       "      <td>2.0</td>\n",
       "      <td>3.0</td>\n",
       "      <td>3.0</td>\n",
       "      <td>0.0</td>\n",
       "      <td>Improve</td>\n",
       "      <td>I understand.</td>\n",
       "    </tr>\n",
       "    <tr>\n",
       "      <th>427</th>\n",
       "      <td>8/30/2022 17:33:13</td>\n",
       "      <td>31.0</td>\n",
       "      <td>I do not use a streaming service.</td>\n",
       "      <td>4.00</td>\n",
       "      <td>Yes</td>\n",
       "      <td>Yes</td>\n",
       "      <td>No</td>\n",
       "      <td>Classical</td>\n",
       "      <td>Yes</td>\n",
       "      <td>Yes</td>\n",
       "      <td>...</td>\n",
       "      <td>Never</td>\n",
       "      <td>Never</td>\n",
       "      <td>Sometimes</td>\n",
       "      <td>Sometimes</td>\n",
       "      <td>8.0</td>\n",
       "      <td>8.0</td>\n",
       "      <td>9.0</td>\n",
       "      <td>3.0</td>\n",
       "      <td>Improve</td>\n",
       "      <td>I understand.</td>\n",
       "    </tr>\n",
       "    <tr>\n",
       "      <th>432</th>\n",
       "      <td>8/31/2022 6:36:13</td>\n",
       "      <td>16.0</td>\n",
       "      <td>Spotify</td>\n",
       "      <td>2.00</td>\n",
       "      <td>Yes</td>\n",
       "      <td>Yes</td>\n",
       "      <td>No</td>\n",
       "      <td>Classical</td>\n",
       "      <td>No</td>\n",
       "      <td>No</td>\n",
       "      <td>...</td>\n",
       "      <td>Never</td>\n",
       "      <td>Never</td>\n",
       "      <td>Rarely</td>\n",
       "      <td>Rarely</td>\n",
       "      <td>7.0</td>\n",
       "      <td>5.0</td>\n",
       "      <td>3.0</td>\n",
       "      <td>1.0</td>\n",
       "      <td>Improve</td>\n",
       "      <td>I understand.</td>\n",
       "    </tr>\n",
       "    <tr>\n",
       "      <th>433</th>\n",
       "      <td>8/31/2022 8:04:22</td>\n",
       "      <td>12.0</td>\n",
       "      <td>Spotify</td>\n",
       "      <td>2.00</td>\n",
       "      <td>Yes</td>\n",
       "      <td>Yes</td>\n",
       "      <td>Yes</td>\n",
       "      <td>Classical</td>\n",
       "      <td>Yes</td>\n",
       "      <td>Yes</td>\n",
       "      <td>...</td>\n",
       "      <td>Never</td>\n",
       "      <td>Rarely</td>\n",
       "      <td>Sometimes</td>\n",
       "      <td>Never</td>\n",
       "      <td>8.0</td>\n",
       "      <td>0.0</td>\n",
       "      <td>1.0</td>\n",
       "      <td>6.0</td>\n",
       "      <td>Improve</td>\n",
       "      <td>I understand.</td>\n",
       "    </tr>\n",
       "    <tr>\n",
       "      <th>446</th>\n",
       "      <td>9/1/2022 1:16:46</td>\n",
       "      <td>17.0</td>\n",
       "      <td>Spotify</td>\n",
       "      <td>1.50</td>\n",
       "      <td>Yes</td>\n",
       "      <td>No</td>\n",
       "      <td>No</td>\n",
       "      <td>Classical</td>\n",
       "      <td>Yes</td>\n",
       "      <td>Yes</td>\n",
       "      <td>...</td>\n",
       "      <td>Rarely</td>\n",
       "      <td>Never</td>\n",
       "      <td>Never</td>\n",
       "      <td>Never</td>\n",
       "      <td>7.0</td>\n",
       "      <td>5.0</td>\n",
       "      <td>1.0</td>\n",
       "      <td>2.0</td>\n",
       "      <td>No effect</td>\n",
       "      <td>I understand.</td>\n",
       "    </tr>\n",
       "    <tr>\n",
       "      <th>474</th>\n",
       "      <td>9/1/2022 16:58:12</td>\n",
       "      <td>58.0</td>\n",
       "      <td>YouTube Music</td>\n",
       "      <td>1.00</td>\n",
       "      <td>Yes</td>\n",
       "      <td>Yes</td>\n",
       "      <td>Yes</td>\n",
       "      <td>Classical</td>\n",
       "      <td>Yes</td>\n",
       "      <td>No</td>\n",
       "      <td>...</td>\n",
       "      <td>Never</td>\n",
       "      <td>Never</td>\n",
       "      <td>Never</td>\n",
       "      <td>Never</td>\n",
       "      <td>0.0</td>\n",
       "      <td>0.0</td>\n",
       "      <td>2.0</td>\n",
       "      <td>1.0</td>\n",
       "      <td>Improve</td>\n",
       "      <td>I understand.</td>\n",
       "    </tr>\n",
       "    <tr>\n",
       "      <th>483</th>\n",
       "      <td>9/1/2022 18:11:35</td>\n",
       "      <td>49.0</td>\n",
       "      <td>YouTube Music</td>\n",
       "      <td>0.50</td>\n",
       "      <td>No</td>\n",
       "      <td>No</td>\n",
       "      <td>No</td>\n",
       "      <td>Classical</td>\n",
       "      <td>No</td>\n",
       "      <td>No</td>\n",
       "      <td>...</td>\n",
       "      <td>Sometimes</td>\n",
       "      <td>Sometimes</td>\n",
       "      <td>Rarely</td>\n",
       "      <td>Rarely</td>\n",
       "      <td>3.0</td>\n",
       "      <td>2.0</td>\n",
       "      <td>2.0</td>\n",
       "      <td>2.0</td>\n",
       "      <td>Improve</td>\n",
       "      <td>I understand.</td>\n",
       "    </tr>\n",
       "    <tr>\n",
       "      <th>514</th>\n",
       "      <td>9/2/2022 5:40:14</td>\n",
       "      <td>64.0</td>\n",
       "      <td>YouTube Music</td>\n",
       "      <td>2.00</td>\n",
       "      <td>Yes</td>\n",
       "      <td>No</td>\n",
       "      <td>No</td>\n",
       "      <td>Classical</td>\n",
       "      <td>No</td>\n",
       "      <td>No</td>\n",
       "      <td>...</td>\n",
       "      <td>Rarely</td>\n",
       "      <td>Never</td>\n",
       "      <td>Rarely</td>\n",
       "      <td>Never</td>\n",
       "      <td>5.0</td>\n",
       "      <td>2.0</td>\n",
       "      <td>4.0</td>\n",
       "      <td>0.0</td>\n",
       "      <td>Improve</td>\n",
       "      <td>I understand.</td>\n",
       "    </tr>\n",
       "    <tr>\n",
       "      <th>527</th>\n",
       "      <td>9/2/2022 14:09:04</td>\n",
       "      <td>80.0</td>\n",
       "      <td>I do not use a streaming service.</td>\n",
       "      <td>3.00</td>\n",
       "      <td>Yes</td>\n",
       "      <td>Yes</td>\n",
       "      <td>No</td>\n",
       "      <td>Classical</td>\n",
       "      <td>No</td>\n",
       "      <td>No</td>\n",
       "      <td>...</td>\n",
       "      <td>Never</td>\n",
       "      <td>Never</td>\n",
       "      <td>Never</td>\n",
       "      <td>Sometimes</td>\n",
       "      <td>7.0</td>\n",
       "      <td>3.0</td>\n",
       "      <td>9.0</td>\n",
       "      <td>2.0</td>\n",
       "      <td>Improve</td>\n",
       "      <td>I understand.</td>\n",
       "    </tr>\n",
       "    <tr>\n",
       "      <th>551</th>\n",
       "      <td>9/3/2022 17:14:57</td>\n",
       "      <td>34.0</td>\n",
       "      <td>Spotify</td>\n",
       "      <td>3.00</td>\n",
       "      <td>Yes</td>\n",
       "      <td>No</td>\n",
       "      <td>No</td>\n",
       "      <td>Classical</td>\n",
       "      <td>No</td>\n",
       "      <td>Yes</td>\n",
       "      <td>...</td>\n",
       "      <td>Never</td>\n",
       "      <td>Never</td>\n",
       "      <td>Sometimes</td>\n",
       "      <td>Sometimes</td>\n",
       "      <td>0.0</td>\n",
       "      <td>0.0</td>\n",
       "      <td>0.0</td>\n",
       "      <td>0.0</td>\n",
       "      <td>No effect</td>\n",
       "      <td>I understand.</td>\n",
       "    </tr>\n",
       "    <tr>\n",
       "      <th>571</th>\n",
       "      <td>9/4/2022 20:38:17</td>\n",
       "      <td>29.0</td>\n",
       "      <td>Spotify</td>\n",
       "      <td>4.00</td>\n",
       "      <td>Yes</td>\n",
       "      <td>No</td>\n",
       "      <td>No</td>\n",
       "      <td>Classical</td>\n",
       "      <td>Yes</td>\n",
       "      <td>No</td>\n",
       "      <td>...</td>\n",
       "      <td>Never</td>\n",
       "      <td>Never</td>\n",
       "      <td>Rarely</td>\n",
       "      <td>Rarely</td>\n",
       "      <td>5.0</td>\n",
       "      <td>6.0</td>\n",
       "      <td>7.0</td>\n",
       "      <td>7.0</td>\n",
       "      <td>No effect</td>\n",
       "      <td>I understand.</td>\n",
       "    </tr>\n",
       "    <tr>\n",
       "      <th>590</th>\n",
       "      <td>9/7/2022 12:32:12</td>\n",
       "      <td>23.0</td>\n",
       "      <td>Spotify</td>\n",
       "      <td>2.00</td>\n",
       "      <td>Yes</td>\n",
       "      <td>Yes</td>\n",
       "      <td>No</td>\n",
       "      <td>Classical</td>\n",
       "      <td>Yes</td>\n",
       "      <td>Yes</td>\n",
       "      <td>...</td>\n",
       "      <td>Rarely</td>\n",
       "      <td>Never</td>\n",
       "      <td>Very frequently</td>\n",
       "      <td>Never</td>\n",
       "      <td>8.0</td>\n",
       "      <td>7.0</td>\n",
       "      <td>6.0</td>\n",
       "      <td>2.0</td>\n",
       "      <td>Improve</td>\n",
       "      <td>I understand.</td>\n",
       "    </tr>\n",
       "    <tr>\n",
       "      <th>607</th>\n",
       "      <td>9/9/2022 23:34:31</td>\n",
       "      <td>19.0</td>\n",
       "      <td>I do not use a streaming service.</td>\n",
       "      <td>0.00</td>\n",
       "      <td>No</td>\n",
       "      <td>No</td>\n",
       "      <td>No</td>\n",
       "      <td>Classical</td>\n",
       "      <td>Yes</td>\n",
       "      <td>Yes</td>\n",
       "      <td>...</td>\n",
       "      <td>Rarely</td>\n",
       "      <td>Rarely</td>\n",
       "      <td>Rarely</td>\n",
       "      <td>Rarely</td>\n",
       "      <td>0.0</td>\n",
       "      <td>0.0</td>\n",
       "      <td>0.0</td>\n",
       "      <td>0.0</td>\n",
       "      <td>Improve</td>\n",
       "      <td>I understand.</td>\n",
       "    </tr>\n",
       "    <tr>\n",
       "      <th>627</th>\n",
       "      <td>9/12/2022 15:07:48</td>\n",
       "      <td>21.0</td>\n",
       "      <td>I do not use a streaming service.</td>\n",
       "      <td>1.00</td>\n",
       "      <td>Yes</td>\n",
       "      <td>Yes</td>\n",
       "      <td>No</td>\n",
       "      <td>Classical</td>\n",
       "      <td>No</td>\n",
       "      <td>No</td>\n",
       "      <td>...</td>\n",
       "      <td>Never</td>\n",
       "      <td>Never</td>\n",
       "      <td>Never</td>\n",
       "      <td>Rarely</td>\n",
       "      <td>3.0</td>\n",
       "      <td>0.0</td>\n",
       "      <td>0.0</td>\n",
       "      <td>5.0</td>\n",
       "      <td>Improve</td>\n",
       "      <td>I understand.</td>\n",
       "    </tr>\n",
       "    <tr>\n",
       "      <th>635</th>\n",
       "      <td>9/12/2022 19:13:06</td>\n",
       "      <td>49.0</td>\n",
       "      <td>I do not use a streaming service.</td>\n",
       "      <td>8.00</td>\n",
       "      <td>Yes</td>\n",
       "      <td>Yes</td>\n",
       "      <td>Yes</td>\n",
       "      <td>Classical</td>\n",
       "      <td>No</td>\n",
       "      <td>No</td>\n",
       "      <td>...</td>\n",
       "      <td>Never</td>\n",
       "      <td>Never</td>\n",
       "      <td>Rarely</td>\n",
       "      <td>Never</td>\n",
       "      <td>4.0</td>\n",
       "      <td>8.0</td>\n",
       "      <td>9.0</td>\n",
       "      <td>1.0</td>\n",
       "      <td>Improve</td>\n",
       "      <td>I understand.</td>\n",
       "    </tr>\n",
       "    <tr>\n",
       "      <th>643</th>\n",
       "      <td>9/13/2022 0:48:14</td>\n",
       "      <td>42.0</td>\n",
       "      <td>Other streaming service</td>\n",
       "      <td>0.25</td>\n",
       "      <td>No</td>\n",
       "      <td>Yes</td>\n",
       "      <td>No</td>\n",
       "      <td>Classical</td>\n",
       "      <td>Yes</td>\n",
       "      <td>Yes</td>\n",
       "      <td>...</td>\n",
       "      <td>Rarely</td>\n",
       "      <td>Rarely</td>\n",
       "      <td>Sometimes</td>\n",
       "      <td>Never</td>\n",
       "      <td>7.0</td>\n",
       "      <td>9.0</td>\n",
       "      <td>4.0</td>\n",
       "      <td>5.0</td>\n",
       "      <td>Improve</td>\n",
       "      <td>I understand.</td>\n",
       "    </tr>\n",
       "    <tr>\n",
       "      <th>675</th>\n",
       "      <td>9/19/2022 8:12:47</td>\n",
       "      <td>21.0</td>\n",
       "      <td>Spotify</td>\n",
       "      <td>1.50</td>\n",
       "      <td>Yes</td>\n",
       "      <td>Yes</td>\n",
       "      <td>No</td>\n",
       "      <td>Classical</td>\n",
       "      <td>Yes</td>\n",
       "      <td>Yes</td>\n",
       "      <td>...</td>\n",
       "      <td>Rarely</td>\n",
       "      <td>Sometimes</td>\n",
       "      <td>Sometimes</td>\n",
       "      <td>Sometimes</td>\n",
       "      <td>4.0</td>\n",
       "      <td>6.0</td>\n",
       "      <td>0.0</td>\n",
       "      <td>0.0</td>\n",
       "      <td>No effect</td>\n",
       "      <td>I understand.</td>\n",
       "    </tr>\n",
       "    <tr>\n",
       "      <th>686</th>\n",
       "      <td>9/23/2022 23:06:29</td>\n",
       "      <td>18.0</td>\n",
       "      <td>I do not use a streaming service.</td>\n",
       "      <td>1.00</td>\n",
       "      <td>Yes</td>\n",
       "      <td>No</td>\n",
       "      <td>No</td>\n",
       "      <td>Classical</td>\n",
       "      <td>No</td>\n",
       "      <td>No</td>\n",
       "      <td>...</td>\n",
       "      <td>Rarely</td>\n",
       "      <td>Rarely</td>\n",
       "      <td>Rarely</td>\n",
       "      <td>Rarely</td>\n",
       "      <td>2.0</td>\n",
       "      <td>0.0</td>\n",
       "      <td>0.0</td>\n",
       "      <td>5.0</td>\n",
       "      <td>No effect</td>\n",
       "      <td>I understand.</td>\n",
       "    </tr>\n",
       "    <tr>\n",
       "      <th>687</th>\n",
       "      <td>9/23/2022 23:43:10</td>\n",
       "      <td>18.0</td>\n",
       "      <td>I do not use a streaming service.</td>\n",
       "      <td>1.00</td>\n",
       "      <td>No</td>\n",
       "      <td>Yes</td>\n",
       "      <td>No</td>\n",
       "      <td>Classical</td>\n",
       "      <td>No</td>\n",
       "      <td>No</td>\n",
       "      <td>...</td>\n",
       "      <td>Never</td>\n",
       "      <td>Rarely</td>\n",
       "      <td>Never</td>\n",
       "      <td>Rarely</td>\n",
       "      <td>7.0</td>\n",
       "      <td>0.0</td>\n",
       "      <td>0.0</td>\n",
       "      <td>0.0</td>\n",
       "      <td>No effect</td>\n",
       "      <td>I understand.</td>\n",
       "    </tr>\n",
       "    <tr>\n",
       "      <th>734</th>\n",
       "      <td>11/4/2022 17:31:47</td>\n",
       "      <td>19.0</td>\n",
       "      <td>Spotify</td>\n",
       "      <td>5.00</td>\n",
       "      <td>Yes</td>\n",
       "      <td>Yes</td>\n",
       "      <td>No</td>\n",
       "      <td>Classical</td>\n",
       "      <td>No</td>\n",
       "      <td>No</td>\n",
       "      <td>...</td>\n",
       "      <td>Never</td>\n",
       "      <td>Never</td>\n",
       "      <td>Never</td>\n",
       "      <td>Sometimes</td>\n",
       "      <td>2.0</td>\n",
       "      <td>3.0</td>\n",
       "      <td>2.0</td>\n",
       "      <td>1.0</td>\n",
       "      <td>Improve</td>\n",
       "      <td>I understand.</td>\n",
       "    </tr>\n",
       "  </tbody>\n",
       "</table>\n",
       "<p>53 rows × 33 columns</p>\n",
       "</div>"
      ],
      "text/plain": [
       "              timestamp   age          primary_streaming_service  \\\n",
       "31   8/28/2022 10:38:05  19.0                            Spotify   \n",
       "34   8/28/2022 11:08:51  16.0                            Spotify   \n",
       "43   8/28/2022 11:58:48  17.0                            Spotify   \n",
       "46   8/28/2022 12:15:02  36.0                            Spotify   \n",
       "55   8/28/2022 13:01:42  16.0                        Apple Music   \n",
       "92   8/28/2022 14:49:18  24.0                            Spotify   \n",
       "101  8/28/2022 15:22:00  25.0  I do not use a streaming service.   \n",
       "136  8/28/2022 17:56:27  19.0                            Spotify   \n",
       "187  8/28/2022 20:12:05  31.0                            Spotify   \n",
       "206  8/28/2022 21:23:07  23.0  I do not use a streaming service.   \n",
       "242  8/28/2022 23:08:27  29.0                            Spotify   \n",
       "246  8/28/2022 23:23:50  17.0                            Spotify   \n",
       "259   8/29/2022 0:21:31  32.0                        Apple Music   \n",
       "266   8/29/2022 0:47:59  31.0                            Spotify   \n",
       "348   8/29/2022 9:43:35  17.0                      YouTube Music   \n",
       "368  8/29/2022 14:13:58  32.0                            Pandora   \n",
       "371  8/29/2022 14:53:54  24.0                            Spotify   \n",
       "383  8/29/2022 17:52:06  19.0                        Apple Music   \n",
       "384  8/29/2022 17:58:47  12.0                      YouTube Music   \n",
       "385  8/29/2022 18:00:27  16.0            Other streaming service   \n",
       "390  8/29/2022 18:56:27  54.0  I do not use a streaming service.   \n",
       "392  8/29/2022 19:07:50  14.0                            Spotify   \n",
       "393  8/29/2022 19:08:34  13.0            Other streaming service   \n",
       "395  8/29/2022 20:03:00  14.0                            Spotify   \n",
       "396  8/29/2022 20:03:04  14.0                      YouTube Music   \n",
       "399  8/29/2022 20:18:37  24.0                      YouTube Music   \n",
       "408  8/29/2022 23:36:14  13.0                      YouTube Music   \n",
       "409   8/30/2022 0:00:29  15.0                            Spotify   \n",
       "411   8/30/2022 1:01:09  12.0                            Spotify   \n",
       "414   8/30/2022 6:10:58  17.0                            Spotify   \n",
       "415   8/30/2022 8:00:32  69.0                            Pandora   \n",
       "418  8/30/2022 11:05:06  22.0                      YouTube Music   \n",
       "421  8/30/2022 13:07:20  14.0                            Spotify   \n",
       "424  8/30/2022 16:04:47  20.0                      YouTube Music   \n",
       "427  8/30/2022 17:33:13  31.0  I do not use a streaming service.   \n",
       "432   8/31/2022 6:36:13  16.0                            Spotify   \n",
       "433   8/31/2022 8:04:22  12.0                            Spotify   \n",
       "446    9/1/2022 1:16:46  17.0                            Spotify   \n",
       "474   9/1/2022 16:58:12  58.0                      YouTube Music   \n",
       "483   9/1/2022 18:11:35  49.0                      YouTube Music   \n",
       "514    9/2/2022 5:40:14  64.0                      YouTube Music   \n",
       "527   9/2/2022 14:09:04  80.0  I do not use a streaming service.   \n",
       "551   9/3/2022 17:14:57  34.0                            Spotify   \n",
       "571   9/4/2022 20:38:17  29.0                            Spotify   \n",
       "590   9/7/2022 12:32:12  23.0                            Spotify   \n",
       "607   9/9/2022 23:34:31  19.0  I do not use a streaming service.   \n",
       "627  9/12/2022 15:07:48  21.0  I do not use a streaming service.   \n",
       "635  9/12/2022 19:13:06  49.0  I do not use a streaming service.   \n",
       "643   9/13/2022 0:48:14  42.0            Other streaming service   \n",
       "675   9/19/2022 8:12:47  21.0                            Spotify   \n",
       "686  9/23/2022 23:06:29  18.0  I do not use a streaming service.   \n",
       "687  9/23/2022 23:43:10  18.0  I do not use a streaming service.   \n",
       "734  11/4/2022 17:31:47  19.0                            Spotify   \n",
       "\n",
       "     hours_per_day while_working instrumentalist composer  fav_genre  \\\n",
       "31            2.00           Yes              No       No  Classical   \n",
       "34            1.00           Yes              No       No  Classical   \n",
       "43            3.00           Yes              No       No  Classical   \n",
       "46            1.00            No             Yes      Yes  Classical   \n",
       "55            2.00           Yes             Yes       No  Classical   \n",
       "92            4.00           Yes              No       No  Classical   \n",
       "101           0.50            No             Yes       No  Classical   \n",
       "136           3.00           Yes             Yes       No  Classical   \n",
       "187           4.00           Yes             Yes       No  Classical   \n",
       "206           6.00           Yes              No      Yes  Classical   \n",
       "242           5.00           Yes             Yes      Yes  Classical   \n",
       "246           4.00            No             Yes       No  Classical   \n",
       "259           0.50            No              No       No  Classical   \n",
       "266           8.00           Yes             Yes       No  Classical   \n",
       "348           6.00           Yes             Yes       No  Classical   \n",
       "368           2.00           Yes             Yes       No  Classical   \n",
       "371           3.00           Yes             Yes       No  Classical   \n",
       "383           3.00            No             Yes       No  Classical   \n",
       "384           2.00           Yes             Yes      Yes  Classical   \n",
       "385           3.00           Yes             Yes      Yes  Classical   \n",
       "390           6.00           Yes              No       No  Classical   \n",
       "392           2.00           Yes             Yes       No  Classical   \n",
       "393           4.00           Yes             Yes      Yes  Classical   \n",
       "395           4.00           Yes             Yes       No  Classical   \n",
       "396           1.50            No             Yes       No  Classical   \n",
       "399           6.00           Yes             Yes       No  Classical   \n",
       "408           3.00           Yes              No      Yes  Classical   \n",
       "409           3.00           Yes             Yes      Yes  Classical   \n",
       "411           0.50           Yes             Yes      Yes  Classical   \n",
       "414           2.00           Yes             Yes       No  Classical   \n",
       "415           4.00           Yes             Yes      Yes  Classical   \n",
       "418           3.00            No             Yes       No  Classical   \n",
       "421           5.00           Yes             Yes       No  Classical   \n",
       "424           3.00           Yes             Yes      Yes  Classical   \n",
       "427           4.00           Yes             Yes       No  Classical   \n",
       "432           2.00           Yes             Yes       No  Classical   \n",
       "433           2.00           Yes             Yes      Yes  Classical   \n",
       "446           1.50           Yes              No       No  Classical   \n",
       "474           1.00           Yes             Yes      Yes  Classical   \n",
       "483           0.50            No              No       No  Classical   \n",
       "514           2.00           Yes              No       No  Classical   \n",
       "527           3.00           Yes             Yes       No  Classical   \n",
       "551           3.00           Yes              No       No  Classical   \n",
       "571           4.00           Yes              No       No  Classical   \n",
       "590           2.00           Yes             Yes       No  Classical   \n",
       "607           0.00            No              No       No  Classical   \n",
       "627           1.00           Yes             Yes       No  Classical   \n",
       "635           8.00           Yes             Yes      Yes  Classical   \n",
       "643           0.25            No             Yes       No  Classical   \n",
       "675           1.50           Yes             Yes       No  Classical   \n",
       "686           1.00           Yes              No       No  Classical   \n",
       "687           1.00            No             Yes       No  Classical   \n",
       "734           5.00           Yes             Yes       No  Classical   \n",
       "\n",
       "    exploratory foreign_languages  ...    frequency_r&b    frequency_rap  \\\n",
       "31           No                No  ...            Never            Never   \n",
       "34           No                No  ...            Never            Never   \n",
       "43          Yes               Yes  ...  Very frequently  Very frequently   \n",
       "46           No                No  ...            Never            Never   \n",
       "55          Yes                No  ...           Rarely           Rarely   \n",
       "92          Yes               Yes  ...           Rarely            Never   \n",
       "101          No                No  ...           Rarely            Never   \n",
       "136         Yes                No  ...            Never            Never   \n",
       "187          No               Yes  ...            Never        Sometimes   \n",
       "206          No               Yes  ...            Never            Never   \n",
       "242         Yes               Yes  ...           Rarely            Never   \n",
       "246         Yes               Yes  ...        Sometimes           Rarely   \n",
       "259         Yes                No  ...            Never            Never   \n",
       "266         Yes               Yes  ...            Never            Never   \n",
       "348         Yes               Yes  ...            Never            Never   \n",
       "368         Yes                No  ...        Sometimes           Rarely   \n",
       "371          No               Yes  ...            Never           Rarely   \n",
       "383         Yes                No  ...            Never            Never   \n",
       "384          No                No  ...            Never            Never   \n",
       "385          No                No  ...            Never            Never   \n",
       "390          No                No  ...        Sometimes           Rarely   \n",
       "392         Yes                No  ...            Never           Rarely   \n",
       "393         Yes                No  ...            Never            Never   \n",
       "395         Yes                No  ...        Sometimes        Sometimes   \n",
       "396         Yes                No  ...            Never            Never   \n",
       "399          No                No  ...            Never            Never   \n",
       "408          No                No  ...            Never            Never   \n",
       "409         Yes                No  ...            Never            Never   \n",
       "411         Yes               Yes  ...            Never            Never   \n",
       "414         Yes               Yes  ...           Rarely            Never   \n",
       "415         Yes               Yes  ...        Sometimes            Never   \n",
       "418         Yes                No  ...            Never            Never   \n",
       "421         Yes               Yes  ...        Sometimes           Rarely   \n",
       "424         Yes                No  ...        Sometimes           Rarely   \n",
       "427         Yes               Yes  ...            Never            Never   \n",
       "432          No                No  ...            Never            Never   \n",
       "433         Yes               Yes  ...            Never           Rarely   \n",
       "446         Yes               Yes  ...           Rarely            Never   \n",
       "474         Yes                No  ...            Never            Never   \n",
       "483          No                No  ...        Sometimes        Sometimes   \n",
       "514          No                No  ...           Rarely            Never   \n",
       "527          No                No  ...            Never            Never   \n",
       "551          No               Yes  ...            Never            Never   \n",
       "571         Yes                No  ...            Never            Never   \n",
       "590         Yes               Yes  ...           Rarely            Never   \n",
       "607         Yes               Yes  ...           Rarely           Rarely   \n",
       "627          No                No  ...            Never            Never   \n",
       "635          No                No  ...            Never            Never   \n",
       "643         Yes               Yes  ...           Rarely           Rarely   \n",
       "675         Yes               Yes  ...           Rarely        Sometimes   \n",
       "686          No                No  ...           Rarely           Rarely   \n",
       "687          No                No  ...            Never           Rarely   \n",
       "734          No                No  ...            Never            Never   \n",
       "\n",
       "      frequency_rock frequency_video_game_music anxiety depression insomnia  \\\n",
       "31             Never            Very frequently     4.0        4.0      4.0   \n",
       "34             Never                     Rarely     0.0        0.0      0.0   \n",
       "43            Rarely                  Sometimes     6.0        6.0      8.0   \n",
       "46         Sometimes                      Never     8.0        9.0      3.0   \n",
       "55         Sometimes                     Rarely     0.0        0.0      1.0   \n",
       "92   Very frequently                     Rarely     4.0        6.0      5.0   \n",
       "101  Very frequently                  Sometimes     1.0        1.0      3.0   \n",
       "136           Rarely                  Sometimes     3.0        3.0      1.0   \n",
       "187        Sometimes                      Never     6.0        8.0      9.0   \n",
       "206            Never                     Rarely     6.0        5.0      6.0   \n",
       "242        Sometimes                      Never     7.0        2.0      2.0   \n",
       "246            Never                     Rarely     7.0        9.0      2.0   \n",
       "259  Very frequently                     Rarely     3.0        0.0      4.0   \n",
       "266           Rarely                     Rarely     5.0        7.0      5.0   \n",
       "348            Never                     Rarely     4.0        2.0      0.0   \n",
       "368  Very frequently            Very frequently     8.0        7.0      5.0   \n",
       "371            Never                      Never     9.0        6.0      1.0   \n",
       "383  Very frequently                  Sometimes     7.0        6.0      4.0   \n",
       "384            Never                      Never     0.0        0.0      3.0   \n",
       "385            Never                     Rarely     9.0        7.0     10.0   \n",
       "390           Rarely                      Never     2.0        2.0      3.0   \n",
       "392  Very frequently                     Rarely     7.0        5.0      3.0   \n",
       "393        Sometimes                  Sometimes     8.0        5.0     10.0   \n",
       "395        Sometimes                     Rarely     6.0        8.0      8.0   \n",
       "396           Rarely                  Sometimes     1.0        2.0      4.0   \n",
       "399           Rarely                      Never     6.0        7.0      2.0   \n",
       "408            Never                      Never     8.0        7.0      9.0   \n",
       "409            Never                  Sometimes     9.0        6.0      8.0   \n",
       "411            Never                      Never     7.0        8.0      6.0   \n",
       "414        Sometimes                  Sometimes     7.0        8.0      2.0   \n",
       "415  Very frequently                      Never     1.0        1.0      2.0   \n",
       "418           Rarely                      Never     8.0        2.0      4.0   \n",
       "421           Rarely            Very frequently     3.0        0.0      2.0   \n",
       "424           Rarely                     Rarely     2.0        3.0      3.0   \n",
       "427        Sometimes                  Sometimes     8.0        8.0      9.0   \n",
       "432           Rarely                     Rarely     7.0        5.0      3.0   \n",
       "433        Sometimes                      Never     8.0        0.0      1.0   \n",
       "446            Never                      Never     7.0        5.0      1.0   \n",
       "474            Never                      Never     0.0        0.0      2.0   \n",
       "483           Rarely                     Rarely     3.0        2.0      2.0   \n",
       "514           Rarely                      Never     5.0        2.0      4.0   \n",
       "527            Never                  Sometimes     7.0        3.0      9.0   \n",
       "551        Sometimes                  Sometimes     0.0        0.0      0.0   \n",
       "571           Rarely                     Rarely     5.0        6.0      7.0   \n",
       "590  Very frequently                      Never     8.0        7.0      6.0   \n",
       "607           Rarely                     Rarely     0.0        0.0      0.0   \n",
       "627            Never                     Rarely     3.0        0.0      0.0   \n",
       "635           Rarely                      Never     4.0        8.0      9.0   \n",
       "643        Sometimes                      Never     7.0        9.0      4.0   \n",
       "675        Sometimes                  Sometimes     4.0        6.0      0.0   \n",
       "686           Rarely                     Rarely     2.0        0.0      0.0   \n",
       "687            Never                     Rarely     7.0        0.0      0.0   \n",
       "734            Never                  Sometimes     2.0        3.0      2.0   \n",
       "\n",
       "     ocd music_effects    permissions  \n",
       "31   3.0     No effect  I understand.  \n",
       "34   0.0     No effect  I understand.  \n",
       "43   2.0       Improve  I understand.  \n",
       "46   0.0     No effect  I understand.  \n",
       "55   3.0       Improve  I understand.  \n",
       "92   3.0       Improve  I understand.  \n",
       "101  1.0       Improve  I understand.  \n",
       "136  2.0       Improve  I understand.  \n",
       "187  5.0       Improve  I understand.  \n",
       "206  8.0       Improve  I understand.  \n",
       "242  0.0       Improve  I understand.  \n",
       "246  8.0        Worsen  I understand.  \n",
       "259  4.0     No effect  I understand.  \n",
       "266  4.0       Improve  I understand.  \n",
       "348  0.0       Improve  I understand.  \n",
       "368  4.0       Improve  I understand.  \n",
       "371  1.0       Improve  I understand.  \n",
       "383  0.0       Improve  I understand.  \n",
       "384  0.0       Improve  I understand.  \n",
       "385  6.0     No effect  I understand.  \n",
       "390  2.0       Improve  I understand.  \n",
       "392  2.0       Improve  I understand.  \n",
       "393  3.0       Improve  I understand.  \n",
       "395  2.0       Improve  I understand.  \n",
       "396  3.0       Improve  I understand.  \n",
       "399  0.0     No effect  I understand.  \n",
       "408  2.0       Improve  I understand.  \n",
       "409  5.0       Improve  I understand.  \n",
       "411  2.0       Improve  I understand.  \n",
       "414  5.0       Improve  I understand.  \n",
       "415  0.0       Improve  I understand.  \n",
       "418  0.0     No effect  I understand.  \n",
       "421  3.0       Improve  I understand.  \n",
       "424  0.0       Improve  I understand.  \n",
       "427  3.0       Improve  I understand.  \n",
       "432  1.0       Improve  I understand.  \n",
       "433  6.0       Improve  I understand.  \n",
       "446  2.0     No effect  I understand.  \n",
       "474  1.0       Improve  I understand.  \n",
       "483  2.0       Improve  I understand.  \n",
       "514  0.0       Improve  I understand.  \n",
       "527  2.0       Improve  I understand.  \n",
       "551  0.0     No effect  I understand.  \n",
       "571  7.0     No effect  I understand.  \n",
       "590  2.0       Improve  I understand.  \n",
       "607  0.0       Improve  I understand.  \n",
       "627  5.0       Improve  I understand.  \n",
       "635  1.0       Improve  I understand.  \n",
       "643  5.0       Improve  I understand.  \n",
       "675  0.0     No effect  I understand.  \n",
       "686  5.0     No effect  I understand.  \n",
       "687  0.0     No effect  I understand.  \n",
       "734  1.0       Improve  I understand.  \n",
       "\n",
       "[53 rows x 33 columns]"
      ]
     },
     "execution_count": 219,
     "metadata": {},
     "output_type": "execute_result"
    }
   ],
   "source": [
    "df_cl = df.loc[df['fav_genre'] == 'Classical']\n",
    "df_cl"
   ]
  },
  {
   "cell_type": "code",
   "execution_count": 221,
   "id": "9548dbc7",
   "metadata": {},
   "outputs": [
    {
     "data": {
      "text/plain": [
       "Text(0, 0.5, '# of Respondents')"
      ]
     },
     "execution_count": 221,
     "metadata": {},
     "output_type": "execute_result"
    },
    {
     "data": {
      "image/png": "[encoded data removed]",
      "text/plain": [
       "<Figure size 1152x432 with 1 Axes>"
      ]
     },
     "metadata": {
      "needs_background": "light"
     },
     "output_type": "display_data"
    }
   ],
   "source": [
    "plt.figure(figsize=(16,6))\n",
    "ax = sns.histplot(data=df_cl, x='music_effects', bins=10)\n",
    "plt.title('Effects of Classical Music For Respondents Whose Favorite Genre is Classical', fontsize=16)\n",
    "plt.xlabel('Effects', fontsize=12)\n",
    "plt.ylabel('# of Respondents', fontsize=12)"
   ]
  },
  {
   "cell_type": "code",
   "execution_count": 222,
   "id": "5af34ed2",
   "metadata": {},
   "outputs": [
    {
     "data": {
      "text/plain": [
       "Text(0, 0.5, '# of Respondents')"
      ]
     },
     "execution_count": 222,
     "metadata": {},
     "output_type": "execute_result"
    },
    {
     "data": {
      "image/png": "[encoded data removed]",
      "text/plain": [
       "<Figure size 1152x432 with 1 Axes>"
      ]
     },
     "metadata": {
      "needs_background": "light"
     },
     "output_type": "display_data"
    }
   ],
   "source": [
    "df_co = df.loc[df['fav_genre'] == 'Country']\n",
    "plt.figure(figsize=(16,6))\n",
    "ax = sns.histplot(data=df_co, x='music_effects', bins=10)\n",
    "plt.title('Effects of Country Music For Respondents Whose Favorite Genre is Country', fontsize=16)\n",
    "plt.xlabel('Effects', fontsize=12)\n",
    "plt.ylabel('# of Respondents', fontsize=12)"
   ]
  },
  {
   "cell_type": "code",
   "execution_count": 224,
   "id": "f41d5d21",
   "metadata": {},
   "outputs": [
    {
     "data": {
      "text/plain": [
       "Text(0, 0.5, '# of Respondents')"
      ]
     },
     "execution_count": 224,
     "metadata": {},
     "output_type": "execute_result"
    },
    {
     "data": {
      "image/png": "[encoded data removed]",
      "text/plain": [
       "<Figure size 1152x432 with 1 Axes>"
      ]
     },
     "metadata": {
      "needs_background": "light"
     },
     "output_type": "display_data"
    }
   ],
   "source": [
    "df_e = df.loc[df['fav_genre'] == 'EDM']\n",
    "plt.figure(figsize=(16,6))\n",
    "ax = sns.histplot(data=df_e, x='music_effects', bins=10)\n",
    "plt.title('Effects of EDM For Respondents Whose Favorite Genre is EDM', fontsize=16)\n",
    "plt.xlabel('Effects', fontsize=12)\n",
    "plt.ylabel('# of Respondents', fontsize=12)"
   ]
  },
  {
   "cell_type": "code",
   "execution_count": 225,
   "id": "8454cf31",
   "metadata": {},
   "outputs": [
    {
     "data": {
      "text/plain": [
       "Text(0, 0.5, '# of Respondents')"
      ]
     },
     "execution_count": 225,
     "metadata": {},
     "output_type": "execute_result"
    },
    {
     "data": {
      "image/png": "[encoded data removed]",
      "text/plain": [
       "<Figure size 1152x432 with 1 Axes>"
      ]
     },
     "metadata": {
      "needs_background": "light"
     },
     "output_type": "display_data"
    }
   ],
   "source": [
    "df_f = df.loc[df['fav_genre'] == 'Folk']\n",
    "plt.figure(figsize=(16,6))\n",
    "ax = sns.histplot(data=df_f, x='music_effects', bins=10)\n",
    "plt.title('Effects of Folk Music For Respondents Whose Favorite Genre is Folk', fontsize=16)\n",
    "plt.xlabel('Effects', fontsize=12)\n",
    "plt.ylabel('# of Respondents', fontsize=12)"
   ]
  },
  {
   "cell_type": "code",
   "execution_count": 226,
   "id": "60d58698",
   "metadata": {},
   "outputs": [
    {
     "data": {
      "text/plain": [
       "Text(0, 0.5, '# of Respondents')"
      ]
     },
     "execution_count": 226,
     "metadata": {},
     "output_type": "execute_result"
    },
    {
     "data": {
      "image/png": "[encoded data removed]",
      "text/plain": [
       "<Figure size 1152x432 with 1 Axes>"
      ]
     },
     "metadata": {
      "needs_background": "light"
     },
     "output_type": "display_data"
    }
   ],
   "source": [
    "df_g = df.loc[df['fav_genre'] == 'Gospel']\n",
    "plt.figure(figsize=(16,6))\n",
    "ax = sns.histplot(data=df_g, x='music_effects', bins=10)\n",
    "plt.title('Effects of Gospel Music For Respondents Whose Favorite Genre is Gospel', fontsize=16)\n",
    "plt.xlabel('Effects', fontsize=12)\n",
    "plt.ylabel('# of Respondents', fontsize=12)"
   ]
  },
  {
   "cell_type": "code",
   "execution_count": 227,
   "id": "df38d629",
   "metadata": {},
   "outputs": [
    {
     "data": {
      "text/plain": [
       "Text(0, 0.5, '# of Respondents')"
      ]
     },
     "execution_count": 227,
     "metadata": {},
     "output_type": "execute_result"
    },
    {
     "data": {
      "image/png": "[encoded data removed]",
      "text/plain": [
       "<Figure size 1152x432 with 1 Axes>"
      ]
     },
     "metadata": {
      "needs_background": "light"
     },
     "output_type": "display_data"
    }
   ],
   "source": [
    "df_hh = df.loc[df['fav_genre'] == 'Hip hop']\n",
    "plt.figure(figsize=(16,6))\n",
    "ax = sns.histplot(data=df_hh, x='music_effects', bins=10)\n",
    "plt.title('Effects of Hip Hop Music For Respondents Whose Favorite Genre is Hip Hop', fontsize=16)\n",
    "plt.xlabel('Effects', fontsize=12)\n",
    "plt.ylabel('# of Respondents', fontsize=12)"
   ]
  },
  {
   "cell_type": "code",
   "execution_count": 228,
   "id": "8131800d",
   "metadata": {},
   "outputs": [
    {
     "data": {
      "text/plain": [
       "Text(0, 0.5, '# of Respondents')"
      ]
     },
     "execution_count": 228,
     "metadata": {},
     "output_type": "execute_result"
    },
    {
     "data": {
      "image/png": "[encoded data removed]",
      "text/plain": [
       "<Figure size 1152x432 with 1 Axes>"
      ]
     },
     "metadata": {
      "needs_background": "light"
     },
     "output_type": "display_data"
    }
   ],
   "source": [
    "df_j = df.loc[df['fav_genre'] == 'Jazz']\n",
    "plt.figure(figsize=(16,6))\n",
    "ax = sns.histplot(data=df_j, x='music_effects', bins=10)\n",
    "plt.title('Effects of Jazz Music For Respondents Whose Favorite Genre is Jazz', fontsize=16)\n",
    "plt.xlabel('Effects', fontsize=12)\n",
    "plt.ylabel('# of Respondents', fontsize=12)"
   ]
  },
  {
   "cell_type": "code",
   "execution_count": 229,
   "id": "1da0eb05",
   "metadata": {},
   "outputs": [
    {
     "data": {
      "text/plain": [
       "Text(0, 0.5, '# of Respondents')"
      ]
     },
     "execution_count": 229,
     "metadata": {},
     "output_type": "execute_result"
    },
    {
     "data": {
      "image/png": "[encoded data removed]",
      "text/plain": [
       "<Figure size 1152x432 with 1 Axes>"
      ]
     },
     "metadata": {
      "needs_background": "light"
     },
     "output_type": "display_data"
    }
   ],
   "source": [
    "df_kp = df.loc[df['fav_genre'] == 'K pop']\n",
    "plt.figure(figsize=(16,6))\n",
    "ax = sns.histplot(data=df_kp, x='music_effects', bins=10)\n",
    "plt.title('Effects of Korean Pop Music For Respondents Whose Favorite Genre is Korean Pop', fontsize=16)\n",
    "plt.xlabel('Effects', fontsize=12)\n",
    "plt.ylabel('# of Respondents', fontsize=12)"
   ]
  },
  {
   "cell_type": "code",
   "execution_count": 230,
   "id": "f62c3b32",
   "metadata": {},
   "outputs": [
    {
     "data": {
      "text/plain": [
       "Text(0, 0.5, '# of Respondents')"
      ]
     },
     "execution_count": 230,
     "metadata": {},
     "output_type": "execute_result"
    },
    {
     "data": {
      "image/png": "[encoded data removed]",
      "text/plain": [
       "<Figure size 1152x432 with 1 Axes>"
      ]
     },
     "metadata": {
      "needs_background": "light"
     },
     "output_type": "display_data"
    }
   ],
   "source": [
    "df_la = df.loc[df['fav_genre'] == 'Latin']\n",
    "plt.figure(figsize=(16,6))\n",
    "ax = sns.histplot(data=df_la, x='music_effects', bins=10)\n",
    "plt.title('Effects of Latin Music For Respondents Whose Favorite Genre is Latin', fontsize=16)\n",
    "plt.xlabel('Effects', fontsize=12)\n",
    "plt.ylabel('# of Respondents', fontsize=12)"
   ]
  },
  {
   "cell_type": "code",
   "execution_count": 231,
   "id": "4cc119ae",
   "metadata": {},
   "outputs": [
    {
     "data": {
      "text/plain": [
       "Text(0, 0.5, '# of Respondents')"
      ]
     },
     "execution_count": 231,
     "metadata": {},
     "output_type": "execute_result"
    },
    {
     "data": {
      "image/png": "[encoded data removed]",
      "text/plain": [
       "<Figure size 1152x432 with 1 Axes>"
      ]
     },
     "metadata": {
      "needs_background": "light"
     },
     "output_type": "display_data"
    }
   ],
   "source": [
    "df_lo = df.loc[df['fav_genre'] == 'Lofi']\n",
    "plt.figure(figsize=(16,6))\n",
    "ax = sns.histplot(data=df_lo, x='music_effects', bins=10)\n",
    "plt.title('Effects of Lofi Music For Respondents Whose Favorite Genre is Lofi', fontsize=16)\n",
    "plt.xlabel('Effects', fontsize=12)\n",
    "plt.ylabel('# of Respondents', fontsize=12)"
   ]
  },
  {
   "cell_type": "code",
   "execution_count": 232,
   "id": "bf6b849d",
   "metadata": {},
   "outputs": [
    {
     "data": {
      "text/plain": [
       "Text(0, 0.5, '# of Respondents')"
      ]
     },
     "execution_count": 232,
     "metadata": {},
     "output_type": "execute_result"
    },
    {
     "data": {
      "image/png": "[encoded data removed]",
      "text/plain": [
       "<Figure size 1152x432 with 1 Axes>"
      ]
     },
     "metadata": {
      "needs_background": "light"
     },
     "output_type": "display_data"
    }
   ],
   "source": [
    "df_m = df.loc[df['fav_genre'] == 'Metal']\n",
    "plt.figure(figsize=(16,6))\n",
    "ax = sns.histplot(data=df_m, x='music_effects', bins=10)\n",
    "plt.title('Effects of Metal Music For Respondents Whose Favorite Genre is Metal', fontsize=16)\n",
    "plt.xlabel('Effects', fontsize=12)\n",
    "plt.ylabel('# of Respondents', fontsize=12)"
   ]
  },
  {
   "cell_type": "code",
   "execution_count": 233,
   "id": "d1e3ca15",
   "metadata": {},
   "outputs": [
    {
     "data": {
      "text/plain": [
       "Text(0, 0.5, '# of Respondents')"
      ]
     },
     "execution_count": 233,
     "metadata": {},
     "output_type": "execute_result"
    },
    {
     "data": {
      "image/png": "[encoded data removed]",
      "text/plain": [
       "<Figure size 1152x432 with 1 Axes>"
      ]
     },
     "metadata": {
      "needs_background": "light"
     },
     "output_type": "display_data"
    }
   ],
   "source": [
    "df_p = df.loc[df['fav_genre'] == 'Pop']\n",
    "plt.figure(figsize=(16,6))\n",
    "ax = sns.histplot(data=df_p, x='music_effects', bins=10)\n",
    "plt.title('Effects of Pop Music For Respondents Whose Favorite Genre is Pop', fontsize=16)\n",
    "plt.xlabel('Effects', fontsize=12)\n",
    "plt.ylabel('# of Respondents', fontsize=12)"
   ]
  },
  {
   "cell_type": "code",
   "execution_count": 234,
   "id": "772d4af8",
   "metadata": {},
   "outputs": [
    {
     "data": {
      "text/plain": [
       "Text(0, 0.5, '# of Respondents')"
      ]
     },
     "execution_count": 234,
     "metadata": {},
     "output_type": "execute_result"
    },
    {
     "data": {
      "image/png": "[encoded data removed]",
      "text/plain": [
       "<Figure size 1152x432 with 1 Axes>"
      ]
     },
     "metadata": {
      "needs_background": "light"
     },
     "output_type": "display_data"
    }
   ],
   "source": [
    "df_rb = df.loc[df['fav_genre'] == 'R&B']\n",
    "plt.figure(figsize=(16,6))\n",
    "ax = sns.histplot(data=df_rb, x='music_effects', bins=10)\n",
    "plt.title('Effects of R&B Music For Respondents Whose Favorite Genre is R&B', fontsize=16)\n",
    "plt.xlabel('Effects', fontsize=12)\n",
    "plt.ylabel('# of Respondents', fontsize=12)"
   ]
  },
  {
   "cell_type": "code",
   "execution_count": 235,
   "id": "e8d73abe",
   "metadata": {},
   "outputs": [
    {
     "data": {
      "text/plain": [
       "Text(0, 0.5, '# of Respondents')"
      ]
     },
     "execution_count": 235,
     "metadata": {},
     "output_type": "execute_result"
    },
    {
     "data": {
      "image/png": "[encoded data removed]",
      "text/plain": [
       "<Figure size 1152x432 with 1 Axes>"
      ]
     },
     "metadata": {
      "needs_background": "light"
     },
     "output_type": "display_data"
    }
   ],
   "source": [
    "df_ra = df.loc[df['fav_genre'] == 'Rap']\n",
    "plt.figure(figsize=(16,6))\n",
    "ax = sns.histplot(data=df_ra, x='music_effects', bins=10)\n",
    "plt.title('Effects of Rap Music For Respondents Whose Favorite Genre is Rap', fontsize=16)\n",
    "plt.xlabel('Effects', fontsize=12)\n",
    "plt.ylabel('# of Respondents', fontsize=12)"
   ]
  },
  {
   "cell_type": "code",
   "execution_count": 236,
   "id": "91941823",
   "metadata": {},
   "outputs": [
    {
     "data": {
      "text/plain": [
       "Text(0, 0.5, '# of Respondents')"
      ]
     },
     "execution_count": 236,
     "metadata": {},
     "output_type": "execute_result"
    },
    {
     "data": {
      "image/png": "[encoded data removed]",
      "text/plain": [
       "<Figure size 1152x432 with 1 Axes>"
      ]
     },
     "metadata": {
      "needs_background": "light"
     },
     "output_type": "display_data"
    }
   ],
   "source": [
    "df_ro = df.loc[df['fav_genre'] == 'Rock']\n",
    "plt.figure(figsize=(16,6))\n",
    "ax = sns.histplot(data=df_ro, x='music_effects', bins=10)\n",
    "plt.title('Effects of Rock Music For Respondents Whose Favorite Genre is Rock', fontsize=16)\n",
    "plt.xlabel('Effects', fontsize=12)\n",
    "plt.ylabel('# of Respondents', fontsize=12)"
   ]
  },
  {
   "cell_type": "code",
   "execution_count": 237,
   "id": "65b39e43",
   "metadata": {},
   "outputs": [
    {
     "data": {
      "text/plain": [
       "Text(0, 0.5, '# of Respondents')"
      ]
     },
     "execution_count": 237,
     "metadata": {},
     "output_type": "execute_result"
    },
    {
     "data": {
      "image/png": "[encoded data removed]",
      "text/plain": [
       "<Figure size 1152x432 with 1 Axes>"
      ]
     },
     "metadata": {
      "needs_background": "light"
     },
     "output_type": "display_data"
    }
   ],
   "source": [
    "df_vgm = df.loc[df['fav_genre'] == 'Video game music']\n",
    "plt.figure(figsize=(16,6))\n",
    "ax = sns.histplot(data=df_co, x='music_effects', bins=10)\n",
    "plt.title('Effects of Video Game Music For Respondents Whose Favorite Genre is Video Game Music', fontsize=16)\n",
    "plt.xlabel('Effects', fontsize=12)\n",
    "plt.ylabel('# of Respondents', fontsize=12)"
   ]
  },
  {
   "cell_type": "code",
   "execution_count": 238,
   "id": "a9375d0e",
   "metadata": {},
   "outputs": [],
   "source": [
    "from scipy.stats import pearsonr\n",
    "from scipy.stats import spearmanr"
   ]
  },
  {
   "cell_type": "code",
   "execution_count": 239,
   "id": "1e0eb965",
   "metadata": {},
   "outputs": [
    {
     "data": {
      "text/plain": [
       "SpearmanrResult(correlation=0.028029311773593114, pvalue=0.44861947745484987)"
      ]
     },
     "execution_count": 239,
     "metadata": {},
     "output_type": "execute_result"
    }
   ],
   "source": [
    "spearmanr(df['bpm'], df['anxiety'])"
   ]
  },
  {
   "cell_type": "code",
   "execution_count": 240,
   "id": "43b7bcdf",
   "metadata": {},
   "outputs": [
    {
     "data": {
      "text/plain": [
       "(0.13908388137895253, 0.00015840971352943148)"
      ]
     },
     "execution_count": 240,
     "metadata": {},
     "output_type": "execute_result"
    }
   ],
   "source": [
    "pearsonr(df['hours_per_day'], df['insomnia'])"
   ]
  },
  {
   "cell_type": "code",
   "execution_count": 241,
   "id": "7fe49fa4",
   "metadata": {},
   "outputs": [
    {
     "data": {
      "text/plain": [
       "SpearmanrResult(correlation=0.09423094725150385, pvalue=0.01069425523499073)"
      ]
     },
     "execution_count": 241,
     "metadata": {},
     "output_type": "execute_result"
    }
   ],
   "source": [
    "spearmanr(df['hours_per_day'], df['anxiety'])"
   ]
  },
  {
   "cell_type": "code",
   "execution_count": 242,
   "id": "85f1e55f",
   "metadata": {},
   "outputs": [
    {
     "data": {
      "text/plain": [
       "SpearmanrResult(correlation=0.12224775292265425, pvalue=0.0009114260875045451)"
      ]
     },
     "execution_count": 242,
     "metadata": {},
     "output_type": "execute_result"
    }
   ],
   "source": [
    "spearmanr(df['hours_per_day'], df['ocd'])"
   ]
  },
  {
   "cell_type": "code",
   "execution_count": 243,
   "id": "3346d860",
   "metadata": {},
   "outputs": [
    {
     "data": {
      "text/plain": [
       "SpearmanrResult(correlation=0.05271114013777415, pvalue=0.15396777962432612)"
      ]
     },
     "execution_count": 243,
     "metadata": {},
     "output_type": "execute_result"
    }
   ],
   "source": [
    "spearmanr(df['bpm'], df['depression'])"
   ]
  },
  {
   "cell_type": "code",
   "execution_count": 244,
   "id": "7e198d3c",
   "metadata": {},
   "outputs": [
    {
     "data": {
      "text/plain": [
       "SpearmanrResult(correlation=0.06310518800112264, pvalue=0.08776738476299699)"
      ]
     },
     "execution_count": 244,
     "metadata": {},
     "output_type": "execute_result"
    }
   ],
   "source": [
    "spearmanr(df['bpm'], df['insomnia'])"
   ]
  },
  {
   "cell_type": "code",
   "execution_count": 245,
   "id": "55a15ffc",
   "metadata": {},
   "outputs": [
    {
     "data": {
      "text/plain": [
       "SpearmanrResult(correlation=-0.02236253667888984, pvalue=0.5455212281000288)"
      ]
     },
     "execution_count": 245,
     "metadata": {},
     "output_type": "execute_result"
    }
   ],
   "source": [
    "spearmanr(df['bpm'], df['ocd'])"
   ]
  },
  {
   "cell_type": "code",
   "execution_count": 246,
   "id": "b6948a7f",
   "metadata": {},
   "outputs": [
    {
     "data": {
      "text/plain": [
       "SpearmanrResult(correlation=-0.13888426257248043, pvalue=0.00016192709659290744)"
      ]
     },
     "execution_count": 246,
     "metadata": {},
     "output_type": "execute_result"
    }
   ],
   "source": [
    "spearmanr(df['age'], df['hours_per_day'])"
   ]
  },
  {
   "cell_type": "code",
   "execution_count": 247,
   "id": "974ee6a2",
   "metadata": {},
   "outputs": [
    {
     "data": {
      "text/plain": [
       "SpearmanrResult(correlation=0.008812718121797528, pvalue=0.811731627518615)"
      ]
     },
     "execution_count": 247,
     "metadata": {},
     "output_type": "execute_result"
    }
   ],
   "source": [
    "spearmanr(df['age'], df['bpm'])"
   ]
  },
  {
   "cell_type": "code",
   "execution_count": 248,
   "id": "4f669a9a",
   "metadata": {},
   "outputs": [
    {
     "data": {
      "text/plain": [
       "(-0.043299012340081336, 0.2416692343024275)"
      ]
     },
     "execution_count": 248,
     "metadata": {},
     "output_type": "execute_result"
    }
   ],
   "source": [
    "pearsonr(df['age'], df['hours_per_day'])"
   ]
  },
  {
   "cell_type": "code",
   "execution_count": 249,
   "id": "35a91228",
   "metadata": {},
   "outputs": [
    {
     "data": {
      "text/plain": [
       "(-0.04080201780682666, 0.2699199743950543)"
      ]
     },
     "execution_count": 249,
     "metadata": {},
     "output_type": "execute_result"
    }
   ],
   "source": [
    "pearsonr(df['age'], df['bpm'])"
   ]
  },
  {
   "cell_type": "code",
   "execution_count": 250,
   "id": "a56c78d0",
   "metadata": {},
   "outputs": [
    {
     "data": {
      "text/plain": [
       "(0.11791382424911437, 0.0013833131713142266)"
      ]
     },
     "execution_count": 250,
     "metadata": {},
     "output_type": "execute_result"
    }
   ],
   "source": [
    "pearsonr(df['ocd'], df['hours_per_day'])"
   ]
  },
  {
   "cell_type": "code",
   "execution_count": 251,
   "id": "0af71639",
   "metadata": {},
   "outputs": [
    {
     "data": {
      "text/plain": [
       "(-0.12019853945338396, 0.0011120568968161387)"
      ]
     },
     "execution_count": 251,
     "metadata": {},
     "output_type": "execute_result"
    }
   ],
   "source": [
    "pearsonr(df['age'], df['depression'])"
   ]
  },
  {
   "cell_type": "code",
   "execution_count": 252,
   "id": "40cf79b0",
   "metadata": {},
   "outputs": [
    {
     "data": {
      "text/plain": [
       "(0.009192769522749937, 0.8037744307030297)"
      ]
     },
     "execution_count": 252,
     "metadata": {},
     "output_type": "execute_result"
    }
   ],
   "source": [
    "pearsonr(df['age'], df['insomnia'])"
   ]
  },
  {
   "cell_type": "code",
   "execution_count": 253,
   "id": "69c5160a",
   "metadata": {},
   "outputs": [
    {
     "data": {
      "text/plain": [
       "(-0.17709747861794553, 1.4018894102738102e-06)"
      ]
     },
     "execution_count": 253,
     "metadata": {},
     "output_type": "execute_result"
    }
   ],
   "source": [
    "pearsonr(df['age'], df['anxiety'])"
   ]
  },
  {
   "cell_type": "code",
   "execution_count": 254,
   "id": "9c2ccb03",
   "metadata": {},
   "outputs": [
    {
     "data": {
      "text/plain": [
       "(-0.12916793340923627, 0.0004552075341802968)"
      ]
     },
     "execution_count": 254,
     "metadata": {},
     "output_type": "execute_result"
    }
   ],
   "source": [
    "pearsonr(df['age'], df['ocd'])"
   ]
  },
  {
   "cell_type": "code",
   "execution_count": 258,
   "id": "532c2fd8",
   "metadata": {},
   "outputs": [
    {
     "data": {
      "image/png": "[encoded data removed]",
      "text/plain": [
       "<Figure size 1296x432 with 1 Axes>"
      ]
     },
     "metadata": {},
     "output_type": "display_data"
    }
   ],
   "source": [
    "plt.figure(figsize=(18,6))\n",
    "ax = sns.boxplot(x=df['fav_genre'], y=df['hours_per_day'])"
   ]
  },
  {
   "cell_type": "code",
   "execution_count": 259,
   "id": "947ebcad",
   "metadata": {},
   "outputs": [
    {
     "data": {
      "image/png": "[encoded data removed]",
      "text/plain": [
       "<Figure size 1296x576 with 1 Axes>"
      ]
     },
     "metadata": {},
     "output_type": "display_data"
    }
   ],
   "source": [
    "plt.figure(figsize=(18,8))\n",
    "ax = sns.barplot(x=df['fav_genre'], y=df['anxiety'])"
   ]
  },
  {
   "cell_type": "code",
   "execution_count": null,
   "id": "004827ee",
   "metadata": {},
   "outputs": [],
   "source": [
    "plt.figure(figsize=(18,8))\n",
    "ax = sns.barplot(x=df['fav_genre'], y=df['depression'])"
   ]
  }
 ],
 "metadata": {
  "kernelspec": {
   "display_name": "Python 3 (ipykernel)",
   "language": "python",
   "name": "python3"
  },
  "language_info": {
   "codemirror_mode": {
    "name": "ipython",
    "version": 3
   },
   "file_extension": ".py",
   "mimetype": "text/x-python",
   "name": "python",
   "nbconvert_exporter": "python",
   "pygments_lexer": "ipython3",
   "version": "3.9.12"
  }
 },
 "nbformat": 4,
 "nbformat_minor": 5
}
