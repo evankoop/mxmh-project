{
 "cells": [
  {
   "cell_type": "code",
   "execution_count": 1,
   "id": "3ac0fced",
   "metadata": {},
   "outputs": [],
   "source": [
    "import pandas as pd\n",
    "import numpy as np\n",
    "import matplotlib.pyplot as plt\n",
    "%matplotlib inline\n",
    "import seaborn as sns\n",
    "sns.set()"
   ]
  },
  {
   "cell_type": "code",
   "execution_count": 2,
   "id": "3035c5af",
   "metadata": {},
   "outputs": [],
   "source": [
    "df = pd.read_csv('mxmh_survey_results.csv')"
   ]
  },
  {
   "cell_type": "code",
   "execution_count": 3,
   "id": "a5a690f5",
   "metadata": {},
   "outputs": [
    {
     "data": {
      "text/html": [
       "<div>\n",
       "<style scoped>\n",
       "    .dataframe tbody tr th:only-of-type {\n",
       "        vertical-align: middle;\n",
       "    }\n",
       "\n",
       "    .dataframe tbody tr th {\n",
       "        vertical-align: top;\n",
       "    }\n",
       "\n",
       "    .dataframe thead th {\n",
       "        text-align: right;\n",
       "    }\n",
       "</style>\n",
       "<table border=\"1\" class=\"dataframe\">\n",
       "  <thead>\n",
       "    <tr style=\"text-align: right;\">\n",
       "      <th></th>\n",
       "      <th>Timestamp</th>\n",
       "      <th>Age</th>\n",
       "      <th>Primary streaming service</th>\n",
       "      <th>Hours per day</th>\n",
       "      <th>While working</th>\n",
       "      <th>Instrumentalist</th>\n",
       "      <th>Composer</th>\n",
       "      <th>Fav genre</th>\n",
       "      <th>Exploratory</th>\n",
       "      <th>Foreign languages</th>\n",
       "      <th>...</th>\n",
       "      <th>Frequency [R&amp;B]</th>\n",
       "      <th>Frequency [Rap]</th>\n",
       "      <th>Frequency [Rock]</th>\n",
       "      <th>Frequency [Video game music]</th>\n",
       "      <th>Anxiety</th>\n",
       "      <th>Depression</th>\n",
       "      <th>Insomnia</th>\n",
       "      <th>OCD</th>\n",
       "      <th>Music effects</th>\n",
       "      <th>Permissions</th>\n",
       "    </tr>\n",
       "  </thead>\n",
       "  <tbody>\n",
       "    <tr>\n",
       "      <th>0</th>\n",
       "      <td>8/27/2022 19:29:02</td>\n",
       "      <td>18.0</td>\n",
       "      <td>Spotify</td>\n",
       "      <td>3.0</td>\n",
       "      <td>Yes</td>\n",
       "      <td>Yes</td>\n",
       "      <td>Yes</td>\n",
       "      <td>Latin</td>\n",
       "      <td>Yes</td>\n",
       "      <td>Yes</td>\n",
       "      <td>...</td>\n",
       "      <td>Sometimes</td>\n",
       "      <td>Very frequently</td>\n",
       "      <td>Never</td>\n",
       "      <td>Sometimes</td>\n",
       "      <td>3.0</td>\n",
       "      <td>0.0</td>\n",
       "      <td>1.0</td>\n",
       "      <td>0.0</td>\n",
       "      <td>NaN</td>\n",
       "      <td>I understand.</td>\n",
       "    </tr>\n",
       "    <tr>\n",
       "      <th>1</th>\n",
       "      <td>8/27/2022 19:57:31</td>\n",
       "      <td>63.0</td>\n",
       "      <td>Pandora</td>\n",
       "      <td>1.5</td>\n",
       "      <td>Yes</td>\n",
       "      <td>No</td>\n",
       "      <td>No</td>\n",
       "      <td>Rock</td>\n",
       "      <td>Yes</td>\n",
       "      <td>No</td>\n",
       "      <td>...</td>\n",
       "      <td>Sometimes</td>\n",
       "      <td>Rarely</td>\n",
       "      <td>Very frequently</td>\n",
       "      <td>Rarely</td>\n",
       "      <td>7.0</td>\n",
       "      <td>2.0</td>\n",
       "      <td>2.0</td>\n",
       "      <td>1.0</td>\n",
       "      <td>NaN</td>\n",
       "      <td>I understand.</td>\n",
       "    </tr>\n",
       "    <tr>\n",
       "      <th>2</th>\n",
       "      <td>8/27/2022 21:28:18</td>\n",
       "      <td>18.0</td>\n",
       "      <td>Spotify</td>\n",
       "      <td>4.0</td>\n",
       "      <td>No</td>\n",
       "      <td>No</td>\n",
       "      <td>No</td>\n",
       "      <td>Video game music</td>\n",
       "      <td>No</td>\n",
       "      <td>Yes</td>\n",
       "      <td>...</td>\n",
       "      <td>Never</td>\n",
       "      <td>Rarely</td>\n",
       "      <td>Rarely</td>\n",
       "      <td>Very frequently</td>\n",
       "      <td>7.0</td>\n",
       "      <td>7.0</td>\n",
       "      <td>10.0</td>\n",
       "      <td>2.0</td>\n",
       "      <td>No effect</td>\n",
       "      <td>I understand.</td>\n",
       "    </tr>\n",
       "    <tr>\n",
       "      <th>3</th>\n",
       "      <td>8/27/2022 21:40:40</td>\n",
       "      <td>61.0</td>\n",
       "      <td>YouTube Music</td>\n",
       "      <td>2.5</td>\n",
       "      <td>Yes</td>\n",
       "      <td>No</td>\n",
       "      <td>Yes</td>\n",
       "      <td>Jazz</td>\n",
       "      <td>Yes</td>\n",
       "      <td>Yes</td>\n",
       "      <td>...</td>\n",
       "      <td>Sometimes</td>\n",
       "      <td>Never</td>\n",
       "      <td>Never</td>\n",
       "      <td>Never</td>\n",
       "      <td>9.0</td>\n",
       "      <td>7.0</td>\n",
       "      <td>3.0</td>\n",
       "      <td>3.0</td>\n",
       "      <td>Improve</td>\n",
       "      <td>I understand.</td>\n",
       "    </tr>\n",
       "    <tr>\n",
       "      <th>4</th>\n",
       "      <td>8/27/2022 21:54:47</td>\n",
       "      <td>18.0</td>\n",
       "      <td>Spotify</td>\n",
       "      <td>4.0</td>\n",
       "      <td>Yes</td>\n",
       "      <td>No</td>\n",
       "      <td>No</td>\n",
       "      <td>R&amp;B</td>\n",
       "      <td>Yes</td>\n",
       "      <td>No</td>\n",
       "      <td>...</td>\n",
       "      <td>Very frequently</td>\n",
       "      <td>Very frequently</td>\n",
       "      <td>Never</td>\n",
       "      <td>Rarely</td>\n",
       "      <td>7.0</td>\n",
       "      <td>2.0</td>\n",
       "      <td>5.0</td>\n",
       "      <td>9.0</td>\n",
       "      <td>Improve</td>\n",
       "      <td>I understand.</td>\n",
       "    </tr>\n",
       "  </tbody>\n",
       "</table>\n",
       "<p>5 rows × 33 columns</p>\n",
       "</div>"
      ],
      "text/plain": [
       "            Timestamp   Age Primary streaming service  Hours per day  \\\n",
       "0  8/27/2022 19:29:02  18.0                   Spotify            3.0   \n",
       "1  8/27/2022 19:57:31  63.0                   Pandora            1.5   \n",
       "2  8/27/2022 21:28:18  18.0                   Spotify            4.0   \n",
       "3  8/27/2022 21:40:40  61.0             YouTube Music            2.5   \n",
       "4  8/27/2022 21:54:47  18.0                   Spotify            4.0   \n",
       "\n",
       "  While working Instrumentalist Composer         Fav genre Exploratory  \\\n",
       "0           Yes             Yes      Yes             Latin         Yes   \n",
       "1           Yes              No       No              Rock         Yes   \n",
       "2            No              No       No  Video game music          No   \n",
       "3           Yes              No      Yes              Jazz         Yes   \n",
       "4           Yes              No       No               R&B         Yes   \n",
       "\n",
       "  Foreign languages  ...  Frequency [R&B]  Frequency [Rap] Frequency [Rock]  \\\n",
       "0               Yes  ...        Sometimes  Very frequently            Never   \n",
       "1                No  ...        Sometimes           Rarely  Very frequently   \n",
       "2               Yes  ...            Never           Rarely           Rarely   \n",
       "3               Yes  ...        Sometimes            Never            Never   \n",
       "4                No  ...  Very frequently  Very frequently            Never   \n",
       "\n",
       "  Frequency [Video game music] Anxiety Depression Insomnia  OCD Music effects  \\\n",
       "0                    Sometimes     3.0        0.0      1.0  0.0           NaN   \n",
       "1                       Rarely     7.0        2.0      2.0  1.0           NaN   \n",
       "2              Very frequently     7.0        7.0     10.0  2.0     No effect   \n",
       "3                        Never     9.0        7.0      3.0  3.0       Improve   \n",
       "4                       Rarely     7.0        2.0      5.0  9.0       Improve   \n",
       "\n",
       "     Permissions  \n",
       "0  I understand.  \n",
       "1  I understand.  \n",
       "2  I understand.  \n",
       "3  I understand.  \n",
       "4  I understand.  \n",
       "\n",
       "[5 rows x 33 columns]"
      ]
     },
     "execution_count": 3,
     "metadata": {},
     "output_type": "execute_result"
    }
   ],
   "source": [
    "df.head()"
   ]
  },
  {
   "cell_type": "code",
   "execution_count": 4,
   "id": "698db7cc",
   "metadata": {},
   "outputs": [
    {
     "name": "stdout",
     "output_type": "stream",
     "text": [
      "<class 'pandas.core.frame.DataFrame'>\n",
      "RangeIndex: 736 entries, 0 to 735\n",
      "Data columns (total 33 columns):\n",
      " #   Column                        Non-Null Count  Dtype  \n",
      "---  ------                        --------------  -----  \n",
      " 0   Timestamp                     736 non-null    object \n",
      " 1   Age                           735 non-null    float64\n",
      " 2   Primary streaming service     735 non-null    object \n",
      " 3   Hours per day                 736 non-null    float64\n",
      " 4   While working                 733 non-null    object \n",
      " 5   Instrumentalist               732 non-null    object \n",
      " 6   Composer                      735 non-null    object \n",
      " 7   Fav genre                     736 non-null    object \n",
      " 8   Exploratory                   736 non-null    object \n",
      " 9   Foreign languages             732 non-null    object \n",
      " 10  BPM                           629 non-null    float64\n",
      " 11  Frequency [Classical]         736 non-null    object \n",
      " 12  Frequency [Country]           736 non-null    object \n",
      " 13  Frequency [EDM]               736 non-null    object \n",
      " 14  Frequency [Folk]              736 non-null    object \n",
      " 15  Frequency [Gospel]            736 non-null    object \n",
      " 16  Frequency [Hip hop]           736 non-null    object \n",
      " 17  Frequency [Jazz]              736 non-null    object \n",
      " 18  Frequency [K pop]             736 non-null    object \n",
      " 19  Frequency [Latin]             736 non-null    object \n",
      " 20  Frequency [Lofi]              736 non-null    object \n",
      " 21  Frequency [Metal]             736 non-null    object \n",
      " 22  Frequency [Pop]               736 non-null    object \n",
      " 23  Frequency [R&B]               736 non-null    object \n",
      " 24  Frequency [Rap]               736 non-null    object \n",
      " 25  Frequency [Rock]              736 non-null    object \n",
      " 26  Frequency [Video game music]  736 non-null    object \n",
      " 27  Anxiety                       736 non-null    float64\n",
      " 28  Depression                    736 non-null    float64\n",
      " 29  Insomnia                      736 non-null    float64\n",
      " 30  OCD                           736 non-null    float64\n",
      " 31  Music effects                 728 non-null    object \n",
      " 32  Permissions                   736 non-null    object \n",
      "dtypes: float64(7), object(26)\n",
      "memory usage: 189.9+ KB\n"
     ]
    }
   ],
   "source": [
    "df.info()"
   ]
  },
  {
   "cell_type": "code",
   "execution_count": 5,
   "id": "aa66c574",
   "metadata": {},
   "outputs": [
    {
     "data": {
      "text/plain": [
       "(736, 33)"
      ]
     },
     "execution_count": 5,
     "metadata": {},
     "output_type": "execute_result"
    }
   ],
   "source": [
    "df.shape"
   ]
  },
  {
   "cell_type": "code",
   "execution_count": 6,
   "id": "716bd851",
   "metadata": {},
   "outputs": [
    {
     "data": {
      "text/plain": [
       "Timestamp                         0\n",
       "Age                               1\n",
       "Primary streaming service         1\n",
       "Hours per day                     0\n",
       "While working                     3\n",
       "Instrumentalist                   4\n",
       "Composer                          1\n",
       "Fav genre                         0\n",
       "Exploratory                       0\n",
       "Foreign languages                 4\n",
       "BPM                             107\n",
       "Frequency [Classical]             0\n",
       "Frequency [Country]               0\n",
       "Frequency [EDM]                   0\n",
       "Frequency [Folk]                  0\n",
       "Frequency [Gospel]                0\n",
       "Frequency [Hip hop]               0\n",
       "Frequency [Jazz]                  0\n",
       "Frequency [K pop]                 0\n",
       "Frequency [Latin]                 0\n",
       "Frequency [Lofi]                  0\n",
       "Frequency [Metal]                 0\n",
       "Frequency [Pop]                   0\n",
       "Frequency [R&B]                   0\n",
       "Frequency [Rap]                   0\n",
       "Frequency [Rock]                  0\n",
       "Frequency [Video game music]      0\n",
       "Anxiety                           0\n",
       "Depression                        0\n",
       "Insomnia                          0\n",
       "OCD                               0\n",
       "Music effects                     8\n",
       "Permissions                       0\n",
       "dtype: int64"
      ]
     },
     "execution_count": 6,
     "metadata": {},
     "output_type": "execute_result"
    }
   ],
   "source": [
    "df.isna().sum()"
   ]
  },
  {
   "cell_type": "code",
   "execution_count": 7,
   "id": "119beb82",
   "metadata": {},
   "outputs": [],
   "source": [
    "df.columns = df.columns.str.lower()"
   ]
  },
  {
   "cell_type": "code",
   "execution_count": 8,
   "id": "6b30723f",
   "metadata": {},
   "outputs": [
    {
     "name": "stdout",
     "output_type": "stream",
     "text": [
      "<class 'pandas.core.frame.DataFrame'>\n",
      "RangeIndex: 736 entries, 0 to 735\n",
      "Data columns (total 33 columns):\n",
      " #   Column                        Non-Null Count  Dtype  \n",
      "---  ------                        --------------  -----  \n",
      " 0   timestamp                     736 non-null    object \n",
      " 1   age                           735 non-null    float64\n",
      " 2   primary streaming service     735 non-null    object \n",
      " 3   hours per day                 736 non-null    float64\n",
      " 4   while working                 733 non-null    object \n",
      " 5   instrumentalist               732 non-null    object \n",
      " 6   composer                      735 non-null    object \n",
      " 7   fav genre                     736 non-null    object \n",
      " 8   exploratory                   736 non-null    object \n",
      " 9   foreign languages             732 non-null    object \n",
      " 10  bpm                           629 non-null    float64\n",
      " 11  frequency [classical]         736 non-null    object \n",
      " 12  frequency [country]           736 non-null    object \n",
      " 13  frequency [edm]               736 non-null    object \n",
      " 14  frequency [folk]              736 non-null    object \n",
      " 15  frequency [gospel]            736 non-null    object \n",
      " 16  frequency [hip hop]           736 non-null    object \n",
      " 17  frequency [jazz]              736 non-null    object \n",
      " 18  frequency [k pop]             736 non-null    object \n",
      " 19  frequency [latin]             736 non-null    object \n",
      " 20  frequency [lofi]              736 non-null    object \n",
      " 21  frequency [metal]             736 non-null    object \n",
      " 22  frequency [pop]               736 non-null    object \n",
      " 23  frequency [r&b]               736 non-null    object \n",
      " 24  frequency [rap]               736 non-null    object \n",
      " 25  frequency [rock]              736 non-null    object \n",
      " 26  frequency [video game music]  736 non-null    object \n",
      " 27  anxiety                       736 non-null    float64\n",
      " 28  depression                    736 non-null    float64\n",
      " 29  insomnia                      736 non-null    float64\n",
      " 30  ocd                           736 non-null    float64\n",
      " 31  music effects                 728 non-null    object \n",
      " 32  permissions                   736 non-null    object \n",
      "dtypes: float64(7), object(26)\n",
      "memory usage: 189.9+ KB\n"
     ]
    }
   ],
   "source": [
    "df.info()"
   ]
  },
  {
   "cell_type": "code",
   "execution_count": 9,
   "id": "95e2fd41",
   "metadata": {},
   "outputs": [],
   "source": [
    "df.columns = df.columns.str.replace(' ', '_')"
   ]
  },
  {
   "cell_type": "code",
   "execution_count": 10,
   "id": "d2246e1c",
   "metadata": {},
   "outputs": [
    {
     "name": "stdout",
     "output_type": "stream",
     "text": [
      "<class 'pandas.core.frame.DataFrame'>\n",
      "RangeIndex: 736 entries, 0 to 735\n",
      "Data columns (total 33 columns):\n",
      " #   Column                        Non-Null Count  Dtype  \n",
      "---  ------                        --------------  -----  \n",
      " 0   timestamp                     736 non-null    object \n",
      " 1   age                           735 non-null    float64\n",
      " 2   primary_streaming_service     735 non-null    object \n",
      " 3   hours_per_day                 736 non-null    float64\n",
      " 4   while_working                 733 non-null    object \n",
      " 5   instrumentalist               732 non-null    object \n",
      " 6   composer                      735 non-null    object \n",
      " 7   fav_genre                     736 non-null    object \n",
      " 8   exploratory                   736 non-null    object \n",
      " 9   foreign_languages             732 non-null    object \n",
      " 10  bpm                           629 non-null    float64\n",
      " 11  frequency_[classical]         736 non-null    object \n",
      " 12  frequency_[country]           736 non-null    object \n",
      " 13  frequency_[edm]               736 non-null    object \n",
      " 14  frequency_[folk]              736 non-null    object \n",
      " 15  frequency_[gospel]            736 non-null    object \n",
      " 16  frequency_[hip_hop]           736 non-null    object \n",
      " 17  frequency_[jazz]              736 non-null    object \n",
      " 18  frequency_[k_pop]             736 non-null    object \n",
      " 19  frequency_[latin]             736 non-null    object \n",
      " 20  frequency_[lofi]              736 non-null    object \n",
      " 21  frequency_[metal]             736 non-null    object \n",
      " 22  frequency_[pop]               736 non-null    object \n",
      " 23  frequency_[r&b]               736 non-null    object \n",
      " 24  frequency_[rap]               736 non-null    object \n",
      " 25  frequency_[rock]              736 non-null    object \n",
      " 26  frequency_[video_game_music]  736 non-null    object \n",
      " 27  anxiety                       736 non-null    float64\n",
      " 28  depression                    736 non-null    float64\n",
      " 29  insomnia                      736 non-null    float64\n",
      " 30  ocd                           736 non-null    float64\n",
      " 31  music_effects                 728 non-null    object \n",
      " 32  permissions                   736 non-null    object \n",
      "dtypes: float64(7), object(26)\n",
      "memory usage: 189.9+ KB\n"
     ]
    }
   ],
   "source": [
    "df.info()"
   ]
  },
  {
   "cell_type": "code",
   "execution_count": 11,
   "id": "cea08e21",
   "metadata": {},
   "outputs": [
    {
     "name": "stderr",
     "output_type": "stream",
     "text": [
      "C:\\Users\\18016\\AppData\\Local\\Temp\\ipykernel_23420\\3044033024.py:1: FutureWarning: The default value of regex will change from True to False in a future version. In addition, single character regular expressions will *not* be treated as literal strings when regex=True.\n",
      "  df.columns = df.columns.str.replace('[', '')\n",
      "C:\\Users\\18016\\AppData\\Local\\Temp\\ipykernel_23420\\3044033024.py:2: FutureWarning: The default value of regex will change from True to False in a future version. In addition, single character regular expressions will *not* be treated as literal strings when regex=True.\n",
      "  df.columns = df.columns.str.replace(']', '')\n"
     ]
    }
   ],
   "source": [
    "df.columns = df.columns.str.replace('[', '')\n",
    "df.columns = df.columns.str.replace(']', '')"
   ]
  },
  {
   "cell_type": "code",
   "execution_count": 12,
   "id": "a198341b",
   "metadata": {},
   "outputs": [
    {
     "name": "stdout",
     "output_type": "stream",
     "text": [
      "<class 'pandas.core.frame.DataFrame'>\n",
      "RangeIndex: 736 entries, 0 to 735\n",
      "Data columns (total 33 columns):\n",
      " #   Column                      Non-Null Count  Dtype  \n",
      "---  ------                      --------------  -----  \n",
      " 0   timestamp                   736 non-null    object \n",
      " 1   age                         735 non-null    float64\n",
      " 2   primary_streaming_service   735 non-null    object \n",
      " 3   hours_per_day               736 non-null    float64\n",
      " 4   while_working               733 non-null    object \n",
      " 5   instrumentalist             732 non-null    object \n",
      " 6   composer                    735 non-null    object \n",
      " 7   fav_genre                   736 non-null    object \n",
      " 8   exploratory                 736 non-null    object \n",
      " 9   foreign_languages           732 non-null    object \n",
      " 10  bpm                         629 non-null    float64\n",
      " 11  frequency_classical         736 non-null    object \n",
      " 12  frequency_country           736 non-null    object \n",
      " 13  frequency_edm               736 non-null    object \n",
      " 14  frequency_folk              736 non-null    object \n",
      " 15  frequency_gospel            736 non-null    object \n",
      " 16  frequency_hip_hop           736 non-null    object \n",
      " 17  frequency_jazz              736 non-null    object \n",
      " 18  frequency_k_pop             736 non-null    object \n",
      " 19  frequency_latin             736 non-null    object \n",
      " 20  frequency_lofi              736 non-null    object \n",
      " 21  frequency_metal             736 non-null    object \n",
      " 22  frequency_pop               736 non-null    object \n",
      " 23  frequency_r&b               736 non-null    object \n",
      " 24  frequency_rap               736 non-null    object \n",
      " 25  frequency_rock              736 non-null    object \n",
      " 26  frequency_video_game_music  736 non-null    object \n",
      " 27  anxiety                     736 non-null    float64\n",
      " 28  depression                  736 non-null    float64\n",
      " 29  insomnia                    736 non-null    float64\n",
      " 30  ocd                         736 non-null    float64\n",
      " 31  music_effects               728 non-null    object \n",
      " 32  permissions                 736 non-null    object \n",
      "dtypes: float64(7), object(26)\n",
      "memory usage: 189.9+ KB\n"
     ]
    }
   ],
   "source": [
    "df.info()"
   ]
  },
  {
   "cell_type": "code",
   "execution_count": 13,
   "id": "83f450c3",
   "metadata": {
    "scrolled": true
   },
   "outputs": [
    {
     "data": {
      "text/plain": [
       "timestamp                       0\n",
       "age                             1\n",
       "primary_streaming_service       1\n",
       "hours_per_day                   0\n",
       "while_working                   3\n",
       "instrumentalist                 4\n",
       "composer                        1\n",
       "fav_genre                       0\n",
       "exploratory                     0\n",
       "foreign_languages               4\n",
       "bpm                           107\n",
       "frequency_classical             0\n",
       "frequency_country               0\n",
       "frequency_edm                   0\n",
       "frequency_folk                  0\n",
       "frequency_gospel                0\n",
       "frequency_hip_hop               0\n",
       "frequency_jazz                  0\n",
       "frequency_k_pop                 0\n",
       "frequency_latin                 0\n",
       "frequency_lofi                  0\n",
       "frequency_metal                 0\n",
       "frequency_pop                   0\n",
       "frequency_r&b                   0\n",
       "frequency_rap                   0\n",
       "frequency_rock                  0\n",
       "frequency_video_game_music      0\n",
       "anxiety                         0\n",
       "depression                      0\n",
       "insomnia                        0\n",
       "ocd                             0\n",
       "music_effects                   8\n",
       "permissions                     0\n",
       "dtype: int64"
      ]
     },
     "execution_count": 13,
     "metadata": {},
     "output_type": "execute_result"
    }
   ],
   "source": [
    "df.isna().sum()"
   ]
  },
  {
   "cell_type": "code",
   "execution_count": 14,
   "id": "34cb43ae",
   "metadata": {},
   "outputs": [],
   "source": [
    "df = df.dropna(subset=['age'], axis=0)"
   ]
  },
  {
   "cell_type": "code",
   "execution_count": 15,
   "id": "10f87ed4",
   "metadata": {},
   "outputs": [
    {
     "data": {
      "text/html": [
       "<div>\n",
       "<style scoped>\n",
       "    .dataframe tbody tr th:only-of-type {\n",
       "        vertical-align: middle;\n",
       "    }\n",
       "\n",
       "    .dataframe tbody tr th {\n",
       "        vertical-align: top;\n",
       "    }\n",
       "\n",
       "    .dataframe thead th {\n",
       "        text-align: right;\n",
       "    }\n",
       "</style>\n",
       "<table border=\"1\" class=\"dataframe\">\n",
       "  <thead>\n",
       "    <tr style=\"text-align: right;\">\n",
       "      <th></th>\n",
       "      <th>timestamp</th>\n",
       "      <th>age</th>\n",
       "      <th>primary_streaming_service</th>\n",
       "      <th>hours_per_day</th>\n",
       "      <th>while_working</th>\n",
       "      <th>instrumentalist</th>\n",
       "      <th>composer</th>\n",
       "      <th>fav_genre</th>\n",
       "      <th>exploratory</th>\n",
       "      <th>foreign_languages</th>\n",
       "      <th>...</th>\n",
       "      <th>frequency_r&amp;b</th>\n",
       "      <th>frequency_rap</th>\n",
       "      <th>frequency_rock</th>\n",
       "      <th>frequency_video_game_music</th>\n",
       "      <th>anxiety</th>\n",
       "      <th>depression</th>\n",
       "      <th>insomnia</th>\n",
       "      <th>ocd</th>\n",
       "      <th>music_effects</th>\n",
       "      <th>permissions</th>\n",
       "    </tr>\n",
       "  </thead>\n",
       "  <tbody>\n",
       "    <tr>\n",
       "      <th>0</th>\n",
       "      <td>8/27/2022 19:29:02</td>\n",
       "      <td>18.0</td>\n",
       "      <td>Spotify</td>\n",
       "      <td>3.0</td>\n",
       "      <td>Yes</td>\n",
       "      <td>Yes</td>\n",
       "      <td>Yes</td>\n",
       "      <td>Latin</td>\n",
       "      <td>Yes</td>\n",
       "      <td>Yes</td>\n",
       "      <td>...</td>\n",
       "      <td>Sometimes</td>\n",
       "      <td>Very frequently</td>\n",
       "      <td>Never</td>\n",
       "      <td>Sometimes</td>\n",
       "      <td>3.0</td>\n",
       "      <td>0.0</td>\n",
       "      <td>1.0</td>\n",
       "      <td>0.0</td>\n",
       "      <td>NaN</td>\n",
       "      <td>I understand.</td>\n",
       "    </tr>\n",
       "    <tr>\n",
       "      <th>1</th>\n",
       "      <td>8/27/2022 19:57:31</td>\n",
       "      <td>63.0</td>\n",
       "      <td>Pandora</td>\n",
       "      <td>1.5</td>\n",
       "      <td>Yes</td>\n",
       "      <td>No</td>\n",
       "      <td>No</td>\n",
       "      <td>Rock</td>\n",
       "      <td>Yes</td>\n",
       "      <td>No</td>\n",
       "      <td>...</td>\n",
       "      <td>Sometimes</td>\n",
       "      <td>Rarely</td>\n",
       "      <td>Very frequently</td>\n",
       "      <td>Rarely</td>\n",
       "      <td>7.0</td>\n",
       "      <td>2.0</td>\n",
       "      <td>2.0</td>\n",
       "      <td>1.0</td>\n",
       "      <td>NaN</td>\n",
       "      <td>I understand.</td>\n",
       "    </tr>\n",
       "    <tr>\n",
       "      <th>2</th>\n",
       "      <td>8/27/2022 21:28:18</td>\n",
       "      <td>18.0</td>\n",
       "      <td>Spotify</td>\n",
       "      <td>4.0</td>\n",
       "      <td>No</td>\n",
       "      <td>No</td>\n",
       "      <td>No</td>\n",
       "      <td>Video game music</td>\n",
       "      <td>No</td>\n",
       "      <td>Yes</td>\n",
       "      <td>...</td>\n",
       "      <td>Never</td>\n",
       "      <td>Rarely</td>\n",
       "      <td>Rarely</td>\n",
       "      <td>Very frequently</td>\n",
       "      <td>7.0</td>\n",
       "      <td>7.0</td>\n",
       "      <td>10.0</td>\n",
       "      <td>2.0</td>\n",
       "      <td>No effect</td>\n",
       "      <td>I understand.</td>\n",
       "    </tr>\n",
       "    <tr>\n",
       "      <th>3</th>\n",
       "      <td>8/27/2022 21:40:40</td>\n",
       "      <td>61.0</td>\n",
       "      <td>YouTube Music</td>\n",
       "      <td>2.5</td>\n",
       "      <td>Yes</td>\n",
       "      <td>No</td>\n",
       "      <td>Yes</td>\n",
       "      <td>Jazz</td>\n",
       "      <td>Yes</td>\n",
       "      <td>Yes</td>\n",
       "      <td>...</td>\n",
       "      <td>Sometimes</td>\n",
       "      <td>Never</td>\n",
       "      <td>Never</td>\n",
       "      <td>Never</td>\n",
       "      <td>9.0</td>\n",
       "      <td>7.0</td>\n",
       "      <td>3.0</td>\n",
       "      <td>3.0</td>\n",
       "      <td>Improve</td>\n",
       "      <td>I understand.</td>\n",
       "    </tr>\n",
       "    <tr>\n",
       "      <th>4</th>\n",
       "      <td>8/27/2022 21:54:47</td>\n",
       "      <td>18.0</td>\n",
       "      <td>Spotify</td>\n",
       "      <td>4.0</td>\n",
       "      <td>Yes</td>\n",
       "      <td>No</td>\n",
       "      <td>No</td>\n",
       "      <td>R&amp;B</td>\n",
       "      <td>Yes</td>\n",
       "      <td>No</td>\n",
       "      <td>...</td>\n",
       "      <td>Very frequently</td>\n",
       "      <td>Very frequently</td>\n",
       "      <td>Never</td>\n",
       "      <td>Rarely</td>\n",
       "      <td>7.0</td>\n",
       "      <td>2.0</td>\n",
       "      <td>5.0</td>\n",
       "      <td>9.0</td>\n",
       "      <td>Improve</td>\n",
       "      <td>I understand.</td>\n",
       "    </tr>\n",
       "    <tr>\n",
       "      <th>...</th>\n",
       "      <td>...</td>\n",
       "      <td>...</td>\n",
       "      <td>...</td>\n",
       "      <td>...</td>\n",
       "      <td>...</td>\n",
       "      <td>...</td>\n",
       "      <td>...</td>\n",
       "      <td>...</td>\n",
       "      <td>...</td>\n",
       "      <td>...</td>\n",
       "      <td>...</td>\n",
       "      <td>...</td>\n",
       "      <td>...</td>\n",
       "      <td>...</td>\n",
       "      <td>...</td>\n",
       "      <td>...</td>\n",
       "      <td>...</td>\n",
       "      <td>...</td>\n",
       "      <td>...</td>\n",
       "      <td>...</td>\n",
       "      <td>...</td>\n",
       "    </tr>\n",
       "    <tr>\n",
       "      <th>731</th>\n",
       "      <td>10/30/2022 14:37:28</td>\n",
       "      <td>17.0</td>\n",
       "      <td>Spotify</td>\n",
       "      <td>2.0</td>\n",
       "      <td>Yes</td>\n",
       "      <td>Yes</td>\n",
       "      <td>No</td>\n",
       "      <td>Rock</td>\n",
       "      <td>Yes</td>\n",
       "      <td>Yes</td>\n",
       "      <td>...</td>\n",
       "      <td>Never</td>\n",
       "      <td>Rarely</td>\n",
       "      <td>Very frequently</td>\n",
       "      <td>Never</td>\n",
       "      <td>7.0</td>\n",
       "      <td>6.0</td>\n",
       "      <td>0.0</td>\n",
       "      <td>9.0</td>\n",
       "      <td>Improve</td>\n",
       "      <td>I understand.</td>\n",
       "    </tr>\n",
       "    <tr>\n",
       "      <th>732</th>\n",
       "      <td>11/1/2022 22:26:42</td>\n",
       "      <td>18.0</td>\n",
       "      <td>Spotify</td>\n",
       "      <td>1.0</td>\n",
       "      <td>Yes</td>\n",
       "      <td>Yes</td>\n",
       "      <td>No</td>\n",
       "      <td>Pop</td>\n",
       "      <td>Yes</td>\n",
       "      <td>Yes</td>\n",
       "      <td>...</td>\n",
       "      <td>Never</td>\n",
       "      <td>Never</td>\n",
       "      <td>Sometimes</td>\n",
       "      <td>Sometimes</td>\n",
       "      <td>3.0</td>\n",
       "      <td>2.0</td>\n",
       "      <td>2.0</td>\n",
       "      <td>5.0</td>\n",
       "      <td>Improve</td>\n",
       "      <td>I understand.</td>\n",
       "    </tr>\n",
       "    <tr>\n",
       "      <th>733</th>\n",
       "      <td>11/3/2022 23:24:38</td>\n",
       "      <td>19.0</td>\n",
       "      <td>Other streaming service</td>\n",
       "      <td>6.0</td>\n",
       "      <td>Yes</td>\n",
       "      <td>No</td>\n",
       "      <td>Yes</td>\n",
       "      <td>Rap</td>\n",
       "      <td>Yes</td>\n",
       "      <td>No</td>\n",
       "      <td>...</td>\n",
       "      <td>Sometimes</td>\n",
       "      <td>Sometimes</td>\n",
       "      <td>Rarely</td>\n",
       "      <td>Rarely</td>\n",
       "      <td>2.0</td>\n",
       "      <td>2.0</td>\n",
       "      <td>2.0</td>\n",
       "      <td>2.0</td>\n",
       "      <td>Improve</td>\n",
       "      <td>I understand.</td>\n",
       "    </tr>\n",
       "    <tr>\n",
       "      <th>734</th>\n",
       "      <td>11/4/2022 17:31:47</td>\n",
       "      <td>19.0</td>\n",
       "      <td>Spotify</td>\n",
       "      <td>5.0</td>\n",
       "      <td>Yes</td>\n",
       "      <td>Yes</td>\n",
       "      <td>No</td>\n",
       "      <td>Classical</td>\n",
       "      <td>No</td>\n",
       "      <td>No</td>\n",
       "      <td>...</td>\n",
       "      <td>Never</td>\n",
       "      <td>Never</td>\n",
       "      <td>Never</td>\n",
       "      <td>Sometimes</td>\n",
       "      <td>2.0</td>\n",
       "      <td>3.0</td>\n",
       "      <td>2.0</td>\n",
       "      <td>1.0</td>\n",
       "      <td>Improve</td>\n",
       "      <td>I understand.</td>\n",
       "    </tr>\n",
       "    <tr>\n",
       "      <th>735</th>\n",
       "      <td>11/9/2022 1:55:20</td>\n",
       "      <td>29.0</td>\n",
       "      <td>YouTube Music</td>\n",
       "      <td>2.0</td>\n",
       "      <td>Yes</td>\n",
       "      <td>No</td>\n",
       "      <td>No</td>\n",
       "      <td>Hip hop</td>\n",
       "      <td>Yes</td>\n",
       "      <td>Yes</td>\n",
       "      <td>...</td>\n",
       "      <td>Very frequently</td>\n",
       "      <td>Very frequently</td>\n",
       "      <td>Very frequently</td>\n",
       "      <td>Rarely</td>\n",
       "      <td>2.0</td>\n",
       "      <td>2.0</td>\n",
       "      <td>2.0</td>\n",
       "      <td>5.0</td>\n",
       "      <td>Improve</td>\n",
       "      <td>I understand.</td>\n",
       "    </tr>\n",
       "  </tbody>\n",
       "</table>\n",
       "<p>735 rows × 33 columns</p>\n",
       "</div>"
      ],
      "text/plain": [
       "               timestamp   age primary_streaming_service  hours_per_day  \\\n",
       "0     8/27/2022 19:29:02  18.0                   Spotify            3.0   \n",
       "1     8/27/2022 19:57:31  63.0                   Pandora            1.5   \n",
       "2     8/27/2022 21:28:18  18.0                   Spotify            4.0   \n",
       "3     8/27/2022 21:40:40  61.0             YouTube Music            2.5   \n",
       "4     8/27/2022 21:54:47  18.0                   Spotify            4.0   \n",
       "..                   ...   ...                       ...            ...   \n",
       "731  10/30/2022 14:37:28  17.0                   Spotify            2.0   \n",
       "732   11/1/2022 22:26:42  18.0                   Spotify            1.0   \n",
       "733   11/3/2022 23:24:38  19.0   Other streaming service            6.0   \n",
       "734   11/4/2022 17:31:47  19.0                   Spotify            5.0   \n",
       "735    11/9/2022 1:55:20  29.0             YouTube Music            2.0   \n",
       "\n",
       "    while_working instrumentalist composer         fav_genre exploratory  \\\n",
       "0             Yes             Yes      Yes             Latin         Yes   \n",
       "1             Yes              No       No              Rock         Yes   \n",
       "2              No              No       No  Video game music          No   \n",
       "3             Yes              No      Yes              Jazz         Yes   \n",
       "4             Yes              No       No               R&B         Yes   \n",
       "..            ...             ...      ...               ...         ...   \n",
       "731           Yes             Yes       No              Rock         Yes   \n",
       "732           Yes             Yes       No               Pop         Yes   \n",
       "733           Yes              No      Yes               Rap         Yes   \n",
       "734           Yes             Yes       No         Classical          No   \n",
       "735           Yes              No       No           Hip hop         Yes   \n",
       "\n",
       "    foreign_languages  ...    frequency_r&b    frequency_rap   frequency_rock  \\\n",
       "0                 Yes  ...        Sometimes  Very frequently            Never   \n",
       "1                  No  ...        Sometimes           Rarely  Very frequently   \n",
       "2                 Yes  ...            Never           Rarely           Rarely   \n",
       "3                 Yes  ...        Sometimes            Never            Never   \n",
       "4                  No  ...  Very frequently  Very frequently            Never   \n",
       "..                ...  ...              ...              ...              ...   \n",
       "731               Yes  ...            Never           Rarely  Very frequently   \n",
       "732               Yes  ...            Never            Never        Sometimes   \n",
       "733                No  ...        Sometimes        Sometimes           Rarely   \n",
       "734                No  ...            Never            Never            Never   \n",
       "735               Yes  ...  Very frequently  Very frequently  Very frequently   \n",
       "\n",
       "    frequency_video_game_music anxiety depression insomnia  ocd music_effects  \\\n",
       "0                    Sometimes     3.0        0.0      1.0  0.0           NaN   \n",
       "1                       Rarely     7.0        2.0      2.0  1.0           NaN   \n",
       "2              Very frequently     7.0        7.0     10.0  2.0     No effect   \n",
       "3                        Never     9.0        7.0      3.0  3.0       Improve   \n",
       "4                       Rarely     7.0        2.0      5.0  9.0       Improve   \n",
       "..                         ...     ...        ...      ...  ...           ...   \n",
       "731                      Never     7.0        6.0      0.0  9.0       Improve   \n",
       "732                  Sometimes     3.0        2.0      2.0  5.0       Improve   \n",
       "733                     Rarely     2.0        2.0      2.0  2.0       Improve   \n",
       "734                  Sometimes     2.0        3.0      2.0  1.0       Improve   \n",
       "735                     Rarely     2.0        2.0      2.0  5.0       Improve   \n",
       "\n",
       "       permissions  \n",
       "0    I understand.  \n",
       "1    I understand.  \n",
       "2    I understand.  \n",
       "3    I understand.  \n",
       "4    I understand.  \n",
       "..             ...  \n",
       "731  I understand.  \n",
       "732  I understand.  \n",
       "733  I understand.  \n",
       "734  I understand.  \n",
       "735  I understand.  \n",
       "\n",
       "[735 rows x 33 columns]"
      ]
     },
     "execution_count": 15,
     "metadata": {},
     "output_type": "execute_result"
    }
   ],
   "source": [
    "df"
   ]
  },
  {
   "cell_type": "code",
   "execution_count": 16,
   "id": "93f1c222",
   "metadata": {},
   "outputs": [
    {
     "data": {
      "text/plain": [
       "timestamp                       0\n",
       "age                             0\n",
       "primary_streaming_service       1\n",
       "hours_per_day                   0\n",
       "while_working                   3\n",
       "instrumentalist                 4\n",
       "composer                        1\n",
       "fav_genre                       0\n",
       "exploratory                     0\n",
       "foreign_languages               4\n",
       "bpm                           106\n",
       "frequency_classical             0\n",
       "frequency_country               0\n",
       "frequency_edm                   0\n",
       "frequency_folk                  0\n",
       "frequency_gospel                0\n",
       "frequency_hip_hop               0\n",
       "frequency_jazz                  0\n",
       "frequency_k_pop                 0\n",
       "frequency_latin                 0\n",
       "frequency_lofi                  0\n",
       "frequency_metal                 0\n",
       "frequency_pop                   0\n",
       "frequency_r&b                   0\n",
       "frequency_rap                   0\n",
       "frequency_rock                  0\n",
       "frequency_video_game_music      0\n",
       "anxiety                         0\n",
       "depression                      0\n",
       "insomnia                        0\n",
       "ocd                             0\n",
       "music_effects                   8\n",
       "permissions                     0\n",
       "dtype: int64"
      ]
     },
     "execution_count": 16,
     "metadata": {},
     "output_type": "execute_result"
    }
   ],
   "source": [
    "df.isna().sum()"
   ]
  },
  {
   "cell_type": "code",
   "execution_count": 17,
   "id": "2f4814dd",
   "metadata": {},
   "outputs": [],
   "source": [
    "df = df.dropna(subset=['primary_streaming_service'], axis=0)"
   ]
  },
  {
   "cell_type": "code",
   "execution_count": 18,
   "id": "ca684ec8",
   "metadata": {},
   "outputs": [
    {
     "data": {
      "text/plain": [
       "timestamp                       0\n",
       "age                             0\n",
       "primary_streaming_service       0\n",
       "hours_per_day                   0\n",
       "while_working                   3\n",
       "instrumentalist                 4\n",
       "composer                        1\n",
       "fav_genre                       0\n",
       "exploratory                     0\n",
       "foreign_languages               4\n",
       "bpm                           106\n",
       "frequency_classical             0\n",
       "frequency_country               0\n",
       "frequency_edm                   0\n",
       "frequency_folk                  0\n",
       "frequency_gospel                0\n",
       "frequency_hip_hop               0\n",
       "frequency_jazz                  0\n",
       "frequency_k_pop                 0\n",
       "frequency_latin                 0\n",
       "frequency_lofi                  0\n",
       "frequency_metal                 0\n",
       "frequency_pop                   0\n",
       "frequency_r&b                   0\n",
       "frequency_rap                   0\n",
       "frequency_rock                  0\n",
       "frequency_video_game_music      0\n",
       "anxiety                         0\n",
       "depression                      0\n",
       "insomnia                        0\n",
       "ocd                             0\n",
       "music_effects                   8\n",
       "permissions                     0\n",
       "dtype: int64"
      ]
     },
     "execution_count": 18,
     "metadata": {},
     "output_type": "execute_result"
    }
   ],
   "source": [
    "df.isna().sum()"
   ]
  },
  {
   "cell_type": "code",
   "execution_count": 19,
   "id": "3e01493d",
   "metadata": {},
   "outputs": [
    {
     "data": {
      "text/plain": [
       "0      Yes\n",
       "1      Yes\n",
       "2       No\n",
       "3      Yes\n",
       "4      Yes\n",
       "      ... \n",
       "731    Yes\n",
       "732    Yes\n",
       "733    Yes\n",
       "734    Yes\n",
       "735    Yes\n",
       "Name: while_working, Length: 734, dtype: object"
      ]
     },
     "execution_count": 19,
     "metadata": {},
     "output_type": "execute_result"
    }
   ],
   "source": [
    "df['while_working']"
   ]
  },
  {
   "cell_type": "code",
   "execution_count": 20,
   "id": "ae0b2115",
   "metadata": {},
   "outputs": [
    {
     "name": "stderr",
     "output_type": "stream",
     "text": [
      "C:\\Users\\18016\\AppData\\Local\\Temp\\ipykernel_23420\\3047577847.py:1: SettingWithCopyWarning: \n",
      "A value is trying to be set on a copy of a slice from a DataFrame.\n",
      "Try using .loc[row_indexer,col_indexer] = value instead\n",
      "\n",
      "See the caveats in the documentation: https://pandas.pydata.org/pandas-docs/stable/user_guide/indexing.html#returning-a-view-versus-a-copy\n",
      "  df['while_working'] = df['while_working'].fillna('No')\n"
     ]
    }
   ],
   "source": [
    "df['while_working'] = df['while_working'].fillna('No')"
   ]
  },
  {
   "cell_type": "code",
   "execution_count": 21,
   "id": "cb51d982",
   "metadata": {},
   "outputs": [
    {
     "data": {
      "text/plain": [
       "timestamp                       0\n",
       "age                             0\n",
       "primary_streaming_service       0\n",
       "hours_per_day                   0\n",
       "while_working                   0\n",
       "instrumentalist                 4\n",
       "composer                        1\n",
       "fav_genre                       0\n",
       "exploratory                     0\n",
       "foreign_languages               4\n",
       "bpm                           106\n",
       "frequency_classical             0\n",
       "frequency_country               0\n",
       "frequency_edm                   0\n",
       "frequency_folk                  0\n",
       "frequency_gospel                0\n",
       "frequency_hip_hop               0\n",
       "frequency_jazz                  0\n",
       "frequency_k_pop                 0\n",
       "frequency_latin                 0\n",
       "frequency_lofi                  0\n",
       "frequency_metal                 0\n",
       "frequency_pop                   0\n",
       "frequency_r&b                   0\n",
       "frequency_rap                   0\n",
       "frequency_rock                  0\n",
       "frequency_video_game_music      0\n",
       "anxiety                         0\n",
       "depression                      0\n",
       "insomnia                        0\n",
       "ocd                             0\n",
       "music_effects                   8\n",
       "permissions                     0\n",
       "dtype: int64"
      ]
     },
     "execution_count": 21,
     "metadata": {},
     "output_type": "execute_result"
    }
   ],
   "source": [
    "df.isna().sum()"
   ]
  },
  {
   "cell_type": "code",
   "execution_count": 22,
   "id": "c7182bba",
   "metadata": {},
   "outputs": [
    {
     "data": {
      "text/plain": [
       "0      Yes\n",
       "1       No\n",
       "2       No\n",
       "3       No\n",
       "4       No\n",
       "      ... \n",
       "731    Yes\n",
       "732    Yes\n",
       "733     No\n",
       "734    Yes\n",
       "735     No\n",
       "Name: instrumentalist, Length: 734, dtype: object"
      ]
     },
     "execution_count": 22,
     "metadata": {},
     "output_type": "execute_result"
    }
   ],
   "source": [
    "df['instrumentalist']"
   ]
  },
  {
   "cell_type": "code",
   "execution_count": 23,
   "id": "7d15346e",
   "metadata": {},
   "outputs": [
    {
     "name": "stderr",
     "output_type": "stream",
     "text": [
      "C:\\Users\\18016\\AppData\\Local\\Temp\\ipykernel_23420\\3370393572.py:1: SettingWithCopyWarning: \n",
      "A value is trying to be set on a copy of a slice from a DataFrame.\n",
      "Try using .loc[row_indexer,col_indexer] = value instead\n",
      "\n",
      "See the caveats in the documentation: https://pandas.pydata.org/pandas-docs/stable/user_guide/indexing.html#returning-a-view-versus-a-copy\n",
      "  df['instrumentalist'] = df['instrumentalist'].fillna('No')\n"
     ]
    }
   ],
   "source": [
    "df['instrumentalist'] = df['instrumentalist'].fillna('No')"
   ]
  },
  {
   "cell_type": "code",
   "execution_count": 24,
   "id": "d8e78393",
   "metadata": {},
   "outputs": [
    {
     "data": {
      "text/plain": [
       "timestamp                       0\n",
       "age                             0\n",
       "primary_streaming_service       0\n",
       "hours_per_day                   0\n",
       "while_working                   0\n",
       "instrumentalist                 0\n",
       "composer                        1\n",
       "fav_genre                       0\n",
       "exploratory                     0\n",
       "foreign_languages               4\n",
       "bpm                           106\n",
       "frequency_classical             0\n",
       "frequency_country               0\n",
       "frequency_edm                   0\n",
       "frequency_folk                  0\n",
       "frequency_gospel                0\n",
       "frequency_hip_hop               0\n",
       "frequency_jazz                  0\n",
       "frequency_k_pop                 0\n",
       "frequency_latin                 0\n",
       "frequency_lofi                  0\n",
       "frequency_metal                 0\n",
       "frequency_pop                   0\n",
       "frequency_r&b                   0\n",
       "frequency_rap                   0\n",
       "frequency_rock                  0\n",
       "frequency_video_game_music      0\n",
       "anxiety                         0\n",
       "depression                      0\n",
       "insomnia                        0\n",
       "ocd                             0\n",
       "music_effects                   8\n",
       "permissions                     0\n",
       "dtype: int64"
      ]
     },
     "execution_count": 24,
     "metadata": {},
     "output_type": "execute_result"
    }
   ],
   "source": [
    "df.isna().sum()"
   ]
  },
  {
   "cell_type": "code",
   "execution_count": 25,
   "id": "82975157",
   "metadata": {},
   "outputs": [
    {
     "data": {
      "text/plain": [
       "0      Yes\n",
       "1       No\n",
       "2       No\n",
       "3      Yes\n",
       "4       No\n",
       "      ... \n",
       "731     No\n",
       "732     No\n",
       "733    Yes\n",
       "734     No\n",
       "735     No\n",
       "Name: composer, Length: 734, dtype: object"
      ]
     },
     "execution_count": 25,
     "metadata": {},
     "output_type": "execute_result"
    }
   ],
   "source": [
    "df['composer']"
   ]
  },
  {
   "cell_type": "code",
   "execution_count": 26,
   "id": "c5c1190c",
   "metadata": {},
   "outputs": [
    {
     "name": "stderr",
     "output_type": "stream",
     "text": [
      "C:\\Users\\18016\\AppData\\Local\\Temp\\ipykernel_23420\\4026005507.py:1: SettingWithCopyWarning: \n",
      "A value is trying to be set on a copy of a slice from a DataFrame.\n",
      "Try using .loc[row_indexer,col_indexer] = value instead\n",
      "\n",
      "See the caveats in the documentation: https://pandas.pydata.org/pandas-docs/stable/user_guide/indexing.html#returning-a-view-versus-a-copy\n",
      "  df['composer'] = df['composer'].fillna('No')\n"
     ]
    }
   ],
   "source": [
    "df['composer'] = df['composer'].fillna('No')"
   ]
  },
  {
   "cell_type": "code",
   "execution_count": 27,
   "id": "6af5d850",
   "metadata": {},
   "outputs": [
    {
     "data": {
      "text/plain": [
       "timestamp                       0\n",
       "age                             0\n",
       "primary_streaming_service       0\n",
       "hours_per_day                   0\n",
       "while_working                   0\n",
       "instrumentalist                 0\n",
       "composer                        0\n",
       "fav_genre                       0\n",
       "exploratory                     0\n",
       "foreign_languages               4\n",
       "bpm                           106\n",
       "frequency_classical             0\n",
       "frequency_country               0\n",
       "frequency_edm                   0\n",
       "frequency_folk                  0\n",
       "frequency_gospel                0\n",
       "frequency_hip_hop               0\n",
       "frequency_jazz                  0\n",
       "frequency_k_pop                 0\n",
       "frequency_latin                 0\n",
       "frequency_lofi                  0\n",
       "frequency_metal                 0\n",
       "frequency_pop                   0\n",
       "frequency_r&b                   0\n",
       "frequency_rap                   0\n",
       "frequency_rock                  0\n",
       "frequency_video_game_music      0\n",
       "anxiety                         0\n",
       "depression                      0\n",
       "insomnia                        0\n",
       "ocd                             0\n",
       "music_effects                   8\n",
       "permissions                     0\n",
       "dtype: int64"
      ]
     },
     "execution_count": 27,
     "metadata": {},
     "output_type": "execute_result"
    }
   ],
   "source": [
    "df.isna().sum()"
   ]
  },
  {
   "cell_type": "code",
   "execution_count": 28,
   "id": "9a0cce8e",
   "metadata": {},
   "outputs": [
    {
     "data": {
      "text/plain": [
       "0      Yes\n",
       "1       No\n",
       "2      Yes\n",
       "3      Yes\n",
       "4       No\n",
       "      ... \n",
       "731    Yes\n",
       "732    Yes\n",
       "733     No\n",
       "734     No\n",
       "735    Yes\n",
       "Name: foreign_languages, Length: 734, dtype: object"
      ]
     },
     "execution_count": 28,
     "metadata": {},
     "output_type": "execute_result"
    }
   ],
   "source": [
    "df['foreign_languages']"
   ]
  },
  {
   "cell_type": "code",
   "execution_count": 29,
   "id": "2ac24aac",
   "metadata": {},
   "outputs": [
    {
     "name": "stderr",
     "output_type": "stream",
     "text": [
      "C:\\Users\\18016\\AppData\\Local\\Temp\\ipykernel_23420\\4105969388.py:1: SettingWithCopyWarning: \n",
      "A value is trying to be set on a copy of a slice from a DataFrame.\n",
      "Try using .loc[row_indexer,col_indexer] = value instead\n",
      "\n",
      "See the caveats in the documentation: https://pandas.pydata.org/pandas-docs/stable/user_guide/indexing.html#returning-a-view-versus-a-copy\n",
      "  df['foreign_languages'] = df['foreign_languages'].fillna('No')\n"
     ]
    }
   ],
   "source": [
    "df['foreign_languages'] = df['foreign_languages'].fillna('No')"
   ]
  },
  {
   "cell_type": "code",
   "execution_count": 30,
   "id": "1cb18fbd",
   "metadata": {},
   "outputs": [
    {
     "data": {
      "text/plain": [
       "timestamp                       0\n",
       "age                             0\n",
       "primary_streaming_service       0\n",
       "hours_per_day                   0\n",
       "while_working                   0\n",
       "instrumentalist                 0\n",
       "composer                        0\n",
       "fav_genre                       0\n",
       "exploratory                     0\n",
       "foreign_languages               0\n",
       "bpm                           106\n",
       "frequency_classical             0\n",
       "frequency_country               0\n",
       "frequency_edm                   0\n",
       "frequency_folk                  0\n",
       "frequency_gospel                0\n",
       "frequency_hip_hop               0\n",
       "frequency_jazz                  0\n",
       "frequency_k_pop                 0\n",
       "frequency_latin                 0\n",
       "frequency_lofi                  0\n",
       "frequency_metal                 0\n",
       "frequency_pop                   0\n",
       "frequency_r&b                   0\n",
       "frequency_rap                   0\n",
       "frequency_rock                  0\n",
       "frequency_video_game_music      0\n",
       "anxiety                         0\n",
       "depression                      0\n",
       "insomnia                        0\n",
       "ocd                             0\n",
       "music_effects                   8\n",
       "permissions                     0\n",
       "dtype: int64"
      ]
     },
     "execution_count": 30,
     "metadata": {},
     "output_type": "execute_result"
    }
   ],
   "source": [
    "df.isna().sum()"
   ]
  },
  {
   "cell_type": "code",
   "execution_count": 31,
   "id": "1505d902",
   "metadata": {},
   "outputs": [
    {
     "data": {
      "text/plain": [
       "0      156.0\n",
       "1      119.0\n",
       "2      132.0\n",
       "3       84.0\n",
       "4      107.0\n",
       "       ...  \n",
       "731    120.0\n",
       "732    160.0\n",
       "733    120.0\n",
       "734    170.0\n",
       "735     98.0\n",
       "Name: bpm, Length: 734, dtype: float64"
      ]
     },
     "execution_count": 31,
     "metadata": {},
     "output_type": "execute_result"
    }
   ],
   "source": [
    "df['bpm']"
   ]
  },
  {
   "cell_type": "code",
   "execution_count": 32,
   "id": "cf86ddd5",
   "metadata": {},
   "outputs": [
    {
     "data": {
      "text/plain": [
       "1592479.974522293"
      ]
     },
     "execution_count": 32,
     "metadata": {},
     "output_type": "execute_result"
    }
   ],
   "source": [
    "df['bpm'].mean()"
   ]
  },
  {
   "cell_type": "code",
   "execution_count": 33,
   "id": "ee96f126",
   "metadata": {},
   "outputs": [
    {
     "data": {
      "text/plain": [
       "0     156.0\n",
       "1     119.0\n",
       "2     132.0\n",
       "3      84.0\n",
       "4     107.0\n",
       "5      86.0\n",
       "6      66.0\n",
       "7      95.0\n",
       "8      94.0\n",
       "9     155.0\n",
       "10      NaN\n",
       "11    125.0\n",
       "13     88.0\n",
       "14    148.0\n",
       "15      NaN\n",
       "16    103.0\n",
       "17    120.0\n",
       "18     99.0\n",
       "19    120.0\n",
       "20    120.0\n",
       "21    125.0\n",
       "22    118.0\n",
       "23     79.0\n",
       "24     84.0\n",
       "25    169.0\n",
       "26    136.0\n",
       "27    101.0\n",
       "28    126.0\n",
       "29    183.0\n",
       "30      NaN\n",
       "31    120.0\n",
       "32      NaN\n",
       "33    142.0\n",
       "34     75.0\n",
       "35    120.0\n",
       "36     89.0\n",
       "37      NaN\n",
       "38    140.0\n",
       "39    161.0\n",
       "40     80.0\n",
       "41    130.0\n",
       "42    147.0\n",
       "43    120.0\n",
       "44     77.0\n",
       "45    118.0\n",
       "46    132.0\n",
       "47    115.0\n",
       "48    157.0\n",
       "49     90.0\n",
       "50    128.0\n",
       "51    169.0\n",
       "52    140.0\n",
       "53     96.0\n",
       "54    126.0\n",
       "55      NaN\n",
       "Name: bpm, dtype: float64"
      ]
     },
     "execution_count": 33,
     "metadata": {},
     "output_type": "execute_result"
    }
   ],
   "source": [
    "df['bpm'].head(55)"
   ]
  },
  {
   "cell_type": "code",
   "execution_count": 34,
   "id": "6298c175",
   "metadata": {},
   "outputs": [
    {
     "name": "stdout",
     "output_type": "stream",
     "text": [
      "<class 'pandas.core.frame.DataFrame'>\n",
      "Int64Index: 734 entries, 0 to 735\n",
      "Data columns (total 33 columns):\n",
      " #   Column                      Non-Null Count  Dtype  \n",
      "---  ------                      --------------  -----  \n",
      " 0   timestamp                   734 non-null    object \n",
      " 1   age                         734 non-null    float64\n",
      " 2   primary_streaming_service   734 non-null    object \n",
      " 3   hours_per_day               734 non-null    float64\n",
      " 4   while_working               734 non-null    object \n",
      " 5   instrumentalist             734 non-null    object \n",
      " 6   composer                    734 non-null    object \n",
      " 7   fav_genre                   734 non-null    object \n",
      " 8   exploratory                 734 non-null    object \n",
      " 9   foreign_languages           734 non-null    object \n",
      " 10  bpm                         628 non-null    float64\n",
      " 11  frequency_classical         734 non-null    object \n",
      " 12  frequency_country           734 non-null    object \n",
      " 13  frequency_edm               734 non-null    object \n",
      " 14  frequency_folk              734 non-null    object \n",
      " 15  frequency_gospel            734 non-null    object \n",
      " 16  frequency_hip_hop           734 non-null    object \n",
      " 17  frequency_jazz              734 non-null    object \n",
      " 18  frequency_k_pop             734 non-null    object \n",
      " 19  frequency_latin             734 non-null    object \n",
      " 20  frequency_lofi              734 non-null    object \n",
      " 21  frequency_metal             734 non-null    object \n",
      " 22  frequency_pop               734 non-null    object \n",
      " 23  frequency_r&b               734 non-null    object \n",
      " 24  frequency_rap               734 non-null    object \n",
      " 25  frequency_rock              734 non-null    object \n",
      " 26  frequency_video_game_music  734 non-null    object \n",
      " 27  anxiety                     734 non-null    float64\n",
      " 28  depression                  734 non-null    float64\n",
      " 29  insomnia                    734 non-null    float64\n",
      " 30  ocd                         734 non-null    float64\n",
      " 31  music_effects               726 non-null    object \n",
      " 32  permissions                 734 non-null    object \n",
      "dtypes: float64(7), object(26)\n",
      "memory usage: 195.0+ KB\n"
     ]
    }
   ],
   "source": [
    "df.info()"
   ]
  },
  {
   "cell_type": "code",
   "execution_count": 35,
   "id": "98149128",
   "metadata": {},
   "outputs": [
    {
     "data": {
      "text/plain": [
       "120.0"
      ]
     },
     "execution_count": 35,
     "metadata": {},
     "output_type": "execute_result"
    }
   ],
   "source": [
    "df['bpm'].median()"
   ]
  },
  {
   "cell_type": "code",
   "execution_count": 36,
   "id": "4f59de98",
   "metadata": {},
   "outputs": [
    {
     "name": "stderr",
     "output_type": "stream",
     "text": [
      "C:\\Users\\18016\\AppData\\Local\\Temp\\ipykernel_23420\\793470261.py:1: SettingWithCopyWarning: \n",
      "A value is trying to be set on a copy of a slice from a DataFrame.\n",
      "Try using .loc[row_indexer,col_indexer] = value instead\n",
      "\n",
      "See the caveats in the documentation: https://pandas.pydata.org/pandas-docs/stable/user_guide/indexing.html#returning-a-view-versus-a-copy\n",
      "  df['bpm'] = df['bpm'].fillna(df['bpm'].median())\n"
     ]
    }
   ],
   "source": [
    "df['bpm'] = df['bpm'].fillna(df['bpm'].median())"
   ]
  },
  {
   "cell_type": "code",
   "execution_count": 37,
   "id": "36ed1e53",
   "metadata": {},
   "outputs": [
    {
     "data": {
      "text/plain": [
       "timestamp                     0\n",
       "age                           0\n",
       "primary_streaming_service     0\n",
       "hours_per_day                 0\n",
       "while_working                 0\n",
       "instrumentalist               0\n",
       "composer                      0\n",
       "fav_genre                     0\n",
       "exploratory                   0\n",
       "foreign_languages             0\n",
       "bpm                           0\n",
       "frequency_classical           0\n",
       "frequency_country             0\n",
       "frequency_edm                 0\n",
       "frequency_folk                0\n",
       "frequency_gospel              0\n",
       "frequency_hip_hop             0\n",
       "frequency_jazz                0\n",
       "frequency_k_pop               0\n",
       "frequency_latin               0\n",
       "frequency_lofi                0\n",
       "frequency_metal               0\n",
       "frequency_pop                 0\n",
       "frequency_r&b                 0\n",
       "frequency_rap                 0\n",
       "frequency_rock                0\n",
       "frequency_video_game_music    0\n",
       "anxiety                       0\n",
       "depression                    0\n",
       "insomnia                      0\n",
       "ocd                           0\n",
       "music_effects                 8\n",
       "permissions                   0\n",
       "dtype: int64"
      ]
     },
     "execution_count": 37,
     "metadata": {},
     "output_type": "execute_result"
    }
   ],
   "source": [
    "df.isna().sum()"
   ]
  },
  {
   "cell_type": "code",
   "execution_count": 38,
   "id": "3fa8f7b2",
   "metadata": {},
   "outputs": [
    {
     "data": {
      "text/plain": [
       "0            NaN\n",
       "1            NaN\n",
       "2      No effect\n",
       "3        Improve\n",
       "4        Improve\n",
       "         ...    \n",
       "731      Improve\n",
       "732      Improve\n",
       "733      Improve\n",
       "734      Improve\n",
       "735      Improve\n",
       "Name: music_effects, Length: 734, dtype: object"
      ]
     },
     "execution_count": 38,
     "metadata": {},
     "output_type": "execute_result"
    }
   ],
   "source": [
    "df['music_effects']"
   ]
  },
  {
   "cell_type": "code",
   "execution_count": 39,
   "id": "c520bc18",
   "metadata": {},
   "outputs": [
    {
     "name": "stderr",
     "output_type": "stream",
     "text": [
      "C:\\Users\\18016\\AppData\\Local\\Temp\\ipykernel_23420\\1066494863.py:1: SettingWithCopyWarning: \n",
      "A value is trying to be set on a copy of a slice from a DataFrame.\n",
      "Try using .loc[row_indexer,col_indexer] = value instead\n",
      "\n",
      "See the caveats in the documentation: https://pandas.pydata.org/pandas-docs/stable/user_guide/indexing.html#returning-a-view-versus-a-copy\n",
      "  df['music_effects'] = df['music_effects'].fillna('No effect')\n"
     ]
    }
   ],
   "source": [
    "df['music_effects'] = df['music_effects'].fillna('No effect')"
   ]
  },
  {
   "cell_type": "code",
   "execution_count": 40,
   "id": "03e10cae",
   "metadata": {},
   "outputs": [
    {
     "data": {
      "text/plain": [
       "timestamp                     0\n",
       "age                           0\n",
       "primary_streaming_service     0\n",
       "hours_per_day                 0\n",
       "while_working                 0\n",
       "instrumentalist               0\n",
       "composer                      0\n",
       "fav_genre                     0\n",
       "exploratory                   0\n",
       "foreign_languages             0\n",
       "bpm                           0\n",
       "frequency_classical           0\n",
       "frequency_country             0\n",
       "frequency_edm                 0\n",
       "frequency_folk                0\n",
       "frequency_gospel              0\n",
       "frequency_hip_hop             0\n",
       "frequency_jazz                0\n",
       "frequency_k_pop               0\n",
       "frequency_latin               0\n",
       "frequency_lofi                0\n",
       "frequency_metal               0\n",
       "frequency_pop                 0\n",
       "frequency_r&b                 0\n",
       "frequency_rap                 0\n",
       "frequency_rock                0\n",
       "frequency_video_game_music    0\n",
       "anxiety                       0\n",
       "depression                    0\n",
       "insomnia                      0\n",
       "ocd                           0\n",
       "music_effects                 0\n",
       "permissions                   0\n",
       "dtype: int64"
      ]
     },
     "execution_count": 40,
     "metadata": {},
     "output_type": "execute_result"
    }
   ],
   "source": [
    "df.isna().sum()"
   ]
  },
  {
   "cell_type": "code",
   "execution_count": 41,
   "id": "29cc6aac",
   "metadata": {},
   "outputs": [
    {
     "data": {
      "text/plain": [
       "<AxesSubplot:>"
      ]
     },
     "execution_count": 41,
     "metadata": {},
     "output_type": "execute_result"
    },
    {
     "data": {
      "image/png": "[encoded data removed]",
      "text/plain": [
       "<Figure size 432x288 with 1 Axes>"
      ]
     },
     "metadata": {},
     "output_type": "display_data"
    }
   ],
   "source": [
    "sns.boxplot(data=df['age'])"
   ]
  },
  {
   "cell_type": "code",
   "execution_count": 42,
   "id": "3f5eb3a2",
   "metadata": {},
   "outputs": [
    {
     "data": {
      "text/plain": [
       "<AxesSubplot:>"
      ]
     },
     "execution_count": 42,
     "metadata": {},
     "output_type": "execute_result"
    },
    {
     "data": {
      "image/png": "[encoded data removed]",
      "text/plain": [
       "<Figure size 432x288 with 1 Axes>"
      ]
     },
     "metadata": {},
     "output_type": "display_data"
    }
   ],
   "source": [
    "sns.boxplot(data=df['hours_per_day'])"
   ]
  },
  {
   "cell_type": "code",
   "execution_count": 46,
   "id": "00b8345e",
   "metadata": {},
   "outputs": [
    {
     "data": {
      "text/plain": [
       "0               Rarely\n",
       "1                Never\n",
       "2      Very frequently\n",
       "3                Never\n",
       "4               Rarely\n",
       "            ...       \n",
       "731              Never\n",
       "732              Never\n",
       "733          Sometimes\n",
       "734              Never\n",
       "735    Very frequently\n",
       "Name: frequency_edm, Length: 734, dtype: object"
      ]
     },
     "execution_count": 46,
     "metadata": {},
     "output_type": "execute_result"
    }
   ],
   "source": [
    "df['frequency_edm']"
   ]
  },
  {
   "cell_type": "code",
   "execution_count": null,
   "id": "599292a4",
   "metadata": {},
   "outputs": [],
   "source": []
  }
 ],
 "metadata": {
  "kernelspec": {
   "display_name": "Python 3 (ipykernel)",
   "language": "python",
   "name": "python3"
  },
  "language_info": {
   "codemirror_mode": {
    "name": "ipython",
    "version": 3
   },
   "file_extension": ".py",
   "mimetype": "text/x-python",
   "name": "python",
   "nbconvert_exporter": "python",
   "pygments_lexer": "ipython3",
   "version": "3.9.12"
  }
 },
 "nbformat": 4,
 "nbformat_minor": 5
}
